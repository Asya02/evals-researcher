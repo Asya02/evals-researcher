{
 "cells": [
  {
   "cell_type": "code",
   "execution_count": 1,
   "id": "83f7fe55-ae58-482c-88af-aaa3969291aa",
   "metadata": {},
   "outputs": [],
   "source": [
    "import re\n",
    "import pandas as pd\n",
    "\n",
    "def parse_multiline_logs(log_text: str) -> pd.DataFrame:\n",
    "    log_entry_pattern = re.compile(\n",
    "        r'^\\[(?P<timestamp>\\d{4}-\\d{2}-\\d{2} \\d{2}:\\d{2}:\\d{2},\\d{3})\\] '\n",
    "        r'\\[(?P<module_info>.+?):(?P<line_number>\\d+)\\] '\n",
    "        r'\\[(?P<log_level>[A-Z]+)\\] (?P<data>.*)', \n",
    "        re.MULTILINE\n",
    "    )\n",
    "\n",
    "    entries = []\n",
    "    current_entry = None\n",
    "\n",
    "    for line in log_text.splitlines():\n",
    "        match = log_entry_pattern.match(line)\n",
    "        if match:\n",
    "            if current_entry:\n",
    "                entries.append(current_entry)\n",
    "\n",
    "            current_entry = match.groupdict()\n",
    "            current_entry[\"data\"] = current_entry[\"data\"].strip()\n",
    "        else:\n",
    "            if current_entry:\n",
    "                current_entry[\"data\"] += \"\\n\" + line.strip()\n",
    "\n",
    "    if current_entry:\n",
    "        entries.append(current_entry)\n",
    "\n",
    "    for e in entries:\n",
    "        if \".\" in e[\"module_info\"]:\n",
    "            e[\"file_path\"] = e[\"module_info\"]\n",
    "            e[\"module_name\"] = e[\"module_info\"].split(\".\")[-1]\n",
    "        else:\n",
    "            e[\"file_path\"] = e[\"module_info\"]\n",
    "            e[\"module_name\"] = e[\"module_info\"]\n",
    "        del e[\"module_info\"]\n",
    "\n",
    "    df = pd.DataFrame(entries)\n",
    "    return df[[\"timestamp\", \"file_path\", \"line_number\", \"module_name\", \"log_level\", \"data\"]]\n"
   ]
  },
  {
   "cell_type": "code",
   "execution_count": 2,
   "id": "ac1d1631-b35d-4838-b7ad-cb9ac002d3c7",
   "metadata": {},
   "outputs": [
    {
     "data": {
      "text/html": [
       "<div>\n",
       "<style scoped>\n",
       "    .dataframe tbody tr th:only-of-type {\n",
       "        vertical-align: middle;\n",
       "    }\n",
       "\n",
       "    .dataframe tbody tr th {\n",
       "        vertical-align: top;\n",
       "    }\n",
       "\n",
       "    .dataframe thead th {\n",
       "        text-align: right;\n",
       "    }\n",
       "</style>\n",
       "<table border=\"1\" class=\"dataframe\">\n",
       "  <thead>\n",
       "    <tr style=\"text-align: right;\">\n",
       "      <th></th>\n",
       "      <th>timestamp</th>\n",
       "      <th>file_path</th>\n",
       "      <th>line_number</th>\n",
       "      <th>module_name</th>\n",
       "      <th>log_level</th>\n",
       "      <th>data</th>\n",
       "    </tr>\n",
       "  </thead>\n",
       "  <tbody>\n",
       "    <tr>\n",
       "      <th>0</th>\n",
       "      <td>2025-06-16 16:23:24,642</td>\n",
       "      <td>multi_agents.agents.orchestrator</td>\n",
       "      <td>96</td>\n",
       "      <td>orchestrator</td>\n",
       "      <td>INFO</td>\n",
       "      <td>Starting the research process for query 'Прове...</td>\n",
       "    </tr>\n",
       "    <tr>\n",
       "      <th>1</th>\n",
       "      <td>2025-06-16 16:23:24,695</td>\n",
       "      <td>multi_agents.agents.researcher</td>\n",
       "      <td>71</td>\n",
       "      <td>researcher</td>\n",
       "      <td>INFO</td>\n",
       "      <td>Running initial research on the following quer...</td>\n",
       "    </tr>\n",
       "    <tr>\n",
       "      <th>2</th>\n",
       "      <td>2025-06-16 16:23:24,824</td>\n",
       "      <td>gpt_researcher.agent</td>\n",
       "      <td>135</td>\n",
       "      <td>agent</td>\n",
       "      <td>INFO</td>\n",
       "      <td>research: {\"step\": \"start\", \"details\": {\"query...</td>\n",
       "    </tr>\n",
       "    <tr>\n",
       "      <th>3</th>\n",
       "      <td>2025-06-16 16:23:24,825</td>\n",
       "      <td>gpt_researcher.agent</td>\n",
       "      <td>135</td>\n",
       "      <td>agent</td>\n",
       "      <td>INFO</td>\n",
       "      <td>action: {\"action\": \"choose_agent\"}</td>\n",
       "    </tr>\n",
       "    <tr>\n",
       "      <th>4</th>\n",
       "      <td>2025-06-16 16:23:25,108</td>\n",
       "      <td>httpx</td>\n",
       "      <td>1740</td>\n",
       "      <td>httpx</td>\n",
       "      <td>INFO</td>\n",
       "      <td>HTTP Request: POST https://gigachat.sberdevice...</td>\n",
       "    </tr>\n",
       "    <tr>\n",
       "      <th>...</th>\n",
       "      <td>...</td>\n",
       "      <td>...</td>\n",
       "      <td>...</td>\n",
       "      <td>...</td>\n",
       "      <td>...</td>\n",
       "      <td>...</td>\n",
       "    </tr>\n",
       "    <tr>\n",
       "      <th>44321</th>\n",
       "      <td>2025-06-16 20:00:57,775</td>\n",
       "      <td>fontTools.subset.timer</td>\n",
       "      <td>357</td>\n",
       "      <td>timer</td>\n",
       "      <td>DEBUG</td>\n",
       "      <td>Took 0.006s to prune 'name'</td>\n",
       "    </tr>\n",
       "    <tr>\n",
       "      <th>44322</th>\n",
       "      <td>2025-06-16 20:00:57,776</td>\n",
       "      <td>fontTools.subset</td>\n",
       "      <td>3600</td>\n",
       "      <td>subset</td>\n",
       "      <td>INFO</td>\n",
       "      <td>name pruned</td>\n",
       "    </tr>\n",
       "    <tr>\n",
       "      <th>44323</th>\n",
       "      <td>2025-06-16 20:00:57,840</td>\n",
       "      <td>multi_agents.agents.utils.file_formats</td>\n",
       "      <td>63</td>\n",
       "      <td>file_formats</td>\n",
       "      <td>INFO</td>\n",
       "      <td>Report written to ./outputs/run_1750092890/6d7...</td>\n",
       "    </tr>\n",
       "    <tr>\n",
       "      <th>44324</th>\n",
       "      <td>2025-06-16 20:00:58,231</td>\n",
       "      <td>multi_agents.agents.utils.file_formats</td>\n",
       "      <td>98</td>\n",
       "      <td>file_formats</td>\n",
       "      <td>INFO</td>\n",
       "      <td>Report written to ./outputs/run_1750092890/12c...</td>\n",
       "    </tr>\n",
       "    <tr>\n",
       "      <th>44325</th>\n",
       "      <td>2025-06-16 20:00:58,236</td>\n",
       "      <td>multi_agents.agents.utils.file_formats</td>\n",
       "      <td>38</td>\n",
       "      <td>file_formats</td>\n",
       "      <td>INFO</td>\n",
       "      <td>Report written to ./outputs/run_1750092890/c3d...</td>\n",
       "    </tr>\n",
       "  </tbody>\n",
       "</table>\n",
       "<p>44326 rows × 6 columns</p>\n",
       "</div>"
      ],
      "text/plain": [
       "                     timestamp                               file_path  \\\n",
       "0      2025-06-16 16:23:24,642        multi_agents.agents.orchestrator   \n",
       "1      2025-06-16 16:23:24,695          multi_agents.agents.researcher   \n",
       "2      2025-06-16 16:23:24,824                    gpt_researcher.agent   \n",
       "3      2025-06-16 16:23:24,825                    gpt_researcher.agent   \n",
       "4      2025-06-16 16:23:25,108                                   httpx   \n",
       "...                        ...                                     ...   \n",
       "44321  2025-06-16 20:00:57,775                  fontTools.subset.timer   \n",
       "44322  2025-06-16 20:00:57,776                        fontTools.subset   \n",
       "44323  2025-06-16 20:00:57,840  multi_agents.agents.utils.file_formats   \n",
       "44324  2025-06-16 20:00:58,231  multi_agents.agents.utils.file_formats   \n",
       "44325  2025-06-16 20:00:58,236  multi_agents.agents.utils.file_formats   \n",
       "\n",
       "      line_number   module_name log_level  \\\n",
       "0              96  orchestrator      INFO   \n",
       "1              71    researcher      INFO   \n",
       "2             135         agent      INFO   \n",
       "3             135         agent      INFO   \n",
       "4            1740         httpx      INFO   \n",
       "...           ...           ...       ...   \n",
       "44321         357         timer     DEBUG   \n",
       "44322        3600        subset      INFO   \n",
       "44323          63  file_formats      INFO   \n",
       "44324          98  file_formats      INFO   \n",
       "44325          38  file_formats      INFO   \n",
       "\n",
       "                                                    data  \n",
       "0      Starting the research process for query 'Прове...  \n",
       "1      Running initial research on the following quer...  \n",
       "2      research: {\"step\": \"start\", \"details\": {\"query...  \n",
       "3                     action: {\"action\": \"choose_agent\"}  \n",
       "4      HTTP Request: POST https://gigachat.sberdevice...  \n",
       "...                                                  ...  \n",
       "44321                        Took 0.006s to prune 'name'  \n",
       "44322                                        name pruned  \n",
       "44323  Report written to ./outputs/run_1750092890/6d7...  \n",
       "44324  Report written to ./outputs/run_1750092890/12c...  \n",
       "44325  Report written to ./outputs/run_1750092890/c3d...  \n",
       "\n",
       "[44326 rows x 6 columns]"
      ]
     },
     "execution_count": 2,
     "metadata": {},
     "output_type": "execute_result"
    }
   ],
   "source": [
    "with open(r\"../data/logs/2025-06-16-logs.log\", \"r\", encoding=\"utf-8\") as f:\n",
    "    log_text = f.read()\n",
    "\n",
    "df = parse_multiline_logs(log_text)\n",
    "df"
   ]
  },
  {
   "cell_type": "code",
   "execution_count": 3,
   "id": "8cbdc0cb-ae1b-423e-af8f-6331d0cb3037",
   "metadata": {},
   "outputs": [
    {
     "data": {
      "text/plain": [
       "log_level\n",
       "INFO       37612\n",
       "DEBUG       4348\n",
       "ERROR       1982\n",
       "WARNING      384\n",
       "Name: count, dtype: int64"
      ]
     },
     "execution_count": 3,
     "metadata": {},
     "output_type": "execute_result"
    }
   ],
   "source": [
    "df[\"log_level\"].value_counts(dropna=False)"
   ]
  },
  {
   "cell_type": "markdown",
   "id": "37a4401e-14a0-4a5f-98f5-c12d11a67483",
   "metadata": {},
   "source": [
    "## Errors"
   ]
  },
  {
   "cell_type": "code",
   "execution_count": 4,
   "id": "18221248-3bd2-456c-8c76-20278cf5c678",
   "metadata": {
    "scrolled": true
   },
   "outputs": [
    {
     "data": {
      "text/html": [
       "<div>\n",
       "<style scoped>\n",
       "    .dataframe tbody tr th:only-of-type {\n",
       "        vertical-align: middle;\n",
       "    }\n",
       "\n",
       "    .dataframe tbody tr th {\n",
       "        vertical-align: top;\n",
       "    }\n",
       "\n",
       "    .dataframe thead th {\n",
       "        text-align: right;\n",
       "    }\n",
       "</style>\n",
       "<table border=\"1\" class=\"dataframe\">\n",
       "  <thead>\n",
       "    <tr style=\"text-align: right;\">\n",
       "      <th></th>\n",
       "      <th>timestamp</th>\n",
       "      <th>file_path</th>\n",
       "      <th>line_number</th>\n",
       "      <th>module_name</th>\n",
       "      <th>log_level</th>\n",
       "      <th>data</th>\n",
       "    </tr>\n",
       "  </thead>\n",
       "  <tbody>\n",
       "    <tr>\n",
       "      <th>43</th>\n",
       "      <td>2025-06-16 16:23:42,074</td>\n",
       "      <td>gpt_researcher.skills.researcher</td>\n",
       "      <td>324</td>\n",
       "      <td>researcher</td>\n",
       "      <td>ERROR</td>\n",
       "      <td>🤷 No content found for 'Проведи исследование и...</td>\n",
       "    </tr>\n",
       "    <tr>\n",
       "      <th>88</th>\n",
       "      <td>2025-06-16 16:23:47,656</td>\n",
       "      <td>gpt_researcher.scraper.pymupdf.pymupdf</td>\n",
       "      <td>79</td>\n",
       "      <td>pymupdf</td>\n",
       "      <td>ERROR</td>\n",
       "      <td>Error loading PDF : https://veorus.ru/upload/i...</td>\n",
       "    </tr>\n",
       "    <tr>\n",
       "      <th>354</th>\n",
       "      <td>2025-06-16 16:27:47,918</td>\n",
       "      <td>gpt_researcher.actions.agent_creator</td>\n",
       "      <td>60</td>\n",
       "      <td>agent_creator</td>\n",
       "      <td>ERROR</td>\n",
       "      <td>Error in choose_agent: JSONDecodeError('Expect...</td>\n",
       "    </tr>\n",
       "    <tr>\n",
       "      <th>355</th>\n",
       "      <td>2025-06-16 16:27:47,918</td>\n",
       "      <td>gpt_researcher.actions.agent_creator</td>\n",
       "      <td>70</td>\n",
       "      <td>agent_creator</td>\n",
       "      <td>ERROR</td>\n",
       "      <td>Error in reading JSON and failed to repair wit...</td>\n",
       "    </tr>\n",
       "    <tr>\n",
       "      <th>356</th>\n",
       "      <td>2025-06-16 16:27:47,918</td>\n",
       "      <td>gpt_researcher.actions.agent_creator</td>\n",
       "      <td>82</td>\n",
       "      <td>agent_creator</td>\n",
       "      <td>ERROR</td>\n",
       "      <td>No JSON found in the string. Falling back to D...</td>\n",
       "    </tr>\n",
       "    <tr>\n",
       "      <th>...</th>\n",
       "      <td>...</td>\n",
       "      <td>...</td>\n",
       "      <td>...</td>\n",
       "      <td>...</td>\n",
       "      <td>...</td>\n",
       "      <td>...</td>\n",
       "    </tr>\n",
       "    <tr>\n",
       "      <th>43403</th>\n",
       "      <td>2025-06-16 19:57:12,394</td>\n",
       "      <td>gpt_researcher.scraper.beautiful_soup.beautifu...</td>\n",
       "      <td>44</td>\n",
       "      <td>beautiful_soup</td>\n",
       "      <td>ERROR</td>\n",
       "      <td>Error! : HTTPSConnectionPool(host='www.gosuslu...</td>\n",
       "    </tr>\n",
       "    <tr>\n",
       "      <th>43405</th>\n",
       "      <td>2025-06-16 19:57:12,546</td>\n",
       "      <td>gpt_researcher.scraper.beautiful_soup.beautifu...</td>\n",
       "      <td>44</td>\n",
       "      <td>beautiful_soup</td>\n",
       "      <td>ERROR</td>\n",
       "      <td>Error! : HTTPSConnectionPool(host='tusp24.msp....</td>\n",
       "    </tr>\n",
       "    <tr>\n",
       "      <th>43429</th>\n",
       "      <td>2025-06-16 19:57:13,720</td>\n",
       "      <td>gpt_researcher.scraper.beautiful_soup.beautifu...</td>\n",
       "      <td>44</td>\n",
       "      <td>beautiful_soup</td>\n",
       "      <td>ERROR</td>\n",
       "      <td>Error! : HTTPSConnectionPool(host='ir.alfastra...</td>\n",
       "    </tr>\n",
       "    <tr>\n",
       "      <th>44055</th>\n",
       "      <td>2025-06-16 20:00:55,575</td>\n",
       "      <td>weasyprint</td>\n",
       "      <td>419</td>\n",
       "      <td>weasyprint</td>\n",
       "      <td>ERROR</td>\n",
       "      <td>No anchor ##ИскусственныйИнтеллектиАвтоматизац...</td>\n",
       "    </tr>\n",
       "    <tr>\n",
       "      <th>44056</th>\n",
       "      <td>2025-06-16 20:00:55,576</td>\n",
       "      <td>weasyprint</td>\n",
       "      <td>419</td>\n",
       "      <td>weasyprint</td>\n",
       "      <td>ERROR</td>\n",
       "      <td>No anchor ##ИскусственныйИнтеллектиАвтоматизац...</td>\n",
       "    </tr>\n",
       "  </tbody>\n",
       "</table>\n",
       "<p>1982 rows × 6 columns</p>\n",
       "</div>"
      ],
      "text/plain": [
       "                     timestamp  \\\n",
       "43     2025-06-16 16:23:42,074   \n",
       "88     2025-06-16 16:23:47,656   \n",
       "354    2025-06-16 16:27:47,918   \n",
       "355    2025-06-16 16:27:47,918   \n",
       "356    2025-06-16 16:27:47,918   \n",
       "...                        ...   \n",
       "43403  2025-06-16 19:57:12,394   \n",
       "43405  2025-06-16 19:57:12,546   \n",
       "43429  2025-06-16 19:57:13,720   \n",
       "44055  2025-06-16 20:00:55,575   \n",
       "44056  2025-06-16 20:00:55,576   \n",
       "\n",
       "                                               file_path line_number  \\\n",
       "43                      gpt_researcher.skills.researcher         324   \n",
       "88                gpt_researcher.scraper.pymupdf.pymupdf          79   \n",
       "354                 gpt_researcher.actions.agent_creator          60   \n",
       "355                 gpt_researcher.actions.agent_creator          70   \n",
       "356                 gpt_researcher.actions.agent_creator          82   \n",
       "...                                                  ...         ...   \n",
       "43403  gpt_researcher.scraper.beautiful_soup.beautifu...          44   \n",
       "43405  gpt_researcher.scraper.beautiful_soup.beautifu...          44   \n",
       "43429  gpt_researcher.scraper.beautiful_soup.beautifu...          44   \n",
       "44055                                         weasyprint         419   \n",
       "44056                                         weasyprint         419   \n",
       "\n",
       "          module_name log_level  \\\n",
       "43         researcher     ERROR   \n",
       "88            pymupdf     ERROR   \n",
       "354     agent_creator     ERROR   \n",
       "355     agent_creator     ERROR   \n",
       "356     agent_creator     ERROR   \n",
       "...               ...       ...   \n",
       "43403  beautiful_soup     ERROR   \n",
       "43405  beautiful_soup     ERROR   \n",
       "43429  beautiful_soup     ERROR   \n",
       "44055      weasyprint     ERROR   \n",
       "44056      weasyprint     ERROR   \n",
       "\n",
       "                                                    data  \n",
       "43     🤷 No content found for 'Проведи исследование и...  \n",
       "88     Error loading PDF : https://veorus.ru/upload/i...  \n",
       "354    Error in choose_agent: JSONDecodeError('Expect...  \n",
       "355    Error in reading JSON and failed to repair wit...  \n",
       "356    No JSON found in the string. Falling back to D...  \n",
       "...                                                  ...  \n",
       "43403  Error! : HTTPSConnectionPool(host='www.gosuslu...  \n",
       "43405  Error! : HTTPSConnectionPool(host='tusp24.msp....  \n",
       "43429  Error! : HTTPSConnectionPool(host='ir.alfastra...  \n",
       "44055  No anchor ##ИскусственныйИнтеллектиАвтоматизац...  \n",
       "44056  No anchor ##ИскусственныйИнтеллектиАвтоматизац...  \n",
       "\n",
       "[1982 rows x 6 columns]"
      ]
     },
     "execution_count": 4,
     "metadata": {},
     "output_type": "execute_result"
    }
   ],
   "source": [
    "errors_df = df.loc[df[\"log_level\"] == \"ERROR\"]\n",
    "errors_df"
   ]
  },
  {
   "cell_type": "code",
   "execution_count": 5,
   "id": "31a607cb-786f-4a9f-8054-4f96dfc715cd",
   "metadata": {},
   "outputs": [
    {
     "data": {
      "text/plain": [
       "file_path\n",
       "gpt_researcher.scraper.utils                             1598\n",
       "gpt_researcher.scraper.beautiful_soup.beautiful_soup      135\n",
       "gpt_researcher.actions.agent_creator                       91\n",
       "weasyprint                                                 51\n",
       "gpt_researcher.scraper.pymupdf.pymupdf                     46\n",
       "gpt_researcher.skills.researcher                           44\n",
       "gpt_researcher.retrievers.search_plugin.search_plugin      10\n",
       "gpt_researcher.utils.llm                                    7\n",
       "Name: count, dtype: int64"
      ]
     },
     "execution_count": 5,
     "metadata": {},
     "output_type": "execute_result"
    }
   ],
   "source": [
    "errors_df[\"file_path\"].value_counts()"
   ]
  },
  {
   "cell_type": "code",
   "execution_count": 6,
   "id": "5666ab27-3541-45b8-b513-822a50a9f6f5",
   "metadata": {
    "scrolled": true
   },
   "outputs": [
    {
     "data": {
      "text/plain": [
       "file_path                                              line_number\n",
       "gpt_researcher.scraper.utils                           72             1598\n",
       "gpt_researcher.scraper.beautiful_soup.beautiful_soup   44              135\n",
       "weasyprint                                             419              51\n",
       "gpt_researcher.actions.agent_creator                   60               34\n",
       "                                                       70               31\n",
       "gpt_researcher.skills.researcher                       324              30\n",
       "gpt_researcher.scraper.pymupdf.pymupdf                 79               27\n",
       "gpt_researcher.actions.agent_creator                   82               25\n",
       "gpt_researcher.scraper.pymupdf.pymupdf                 76               19\n",
       "gpt_researcher.skills.researcher                       327              14\n",
       "gpt_researcher.retrievers.search_plugin.search_plugin  88               10\n",
       "gpt_researcher.utils.llm                               105               7\n",
       "gpt_researcher.actions.agent_creator                   80                1\n",
       "Name: count, dtype: int64"
      ]
     },
     "execution_count": 6,
     "metadata": {},
     "output_type": "execute_result"
    }
   ],
   "source": [
    "errors_df[[\"file_path\", \"line_number\"]].value_counts()"
   ]
  },
  {
   "cell_type": "markdown",
   "id": "afc51141-cd94-4ba4-9be5-40c2aad0809e",
   "metadata": {},
   "source": [
    "### utils 72"
   ]
  },
  {
   "cell_type": "code",
   "execution_count": 7,
   "id": "e88ebd8b-4ef4-4936-805e-373205c9a987",
   "metadata": {},
   "outputs": [
    {
     "data": {
      "text/plain": [
       "array([\"Error parsing dimension value 100%: invalid literal for int() with base 10: '100%'\",\n",
       "       \"Error parsing dimension value inherit: invalid literal for int() with base 10: 'inherit'\",\n",
       "       \"Error parsing dimension value auto: invalid literal for int() with base 10: 'auto'\",\n",
       "       \"Error parsing dimension value 80%: invalid literal for int() with base 10: '80%'\",\n",
       "       \"Error parsing dimension value 90%: invalid literal for int() with base 10: '90%'\",\n",
       "       \"Error parsing dimension value alt=: invalid literal for int() with base 10: 'alt='\",\n",
       "       \"Error parsing dimension value 300%: invalid literal for int() with base 10: '300%'\",\n",
       "       \"Error parsing dimension value 50%: invalid literal for int() with base 10: '50%'\"],\n",
       "      dtype=object)"
      ]
     },
     "execution_count": 7,
     "metadata": {},
     "output_type": "execute_result"
    }
   ],
   "source": [
    "errors_df.loc[((errors_df['file_path'] == 'gpt_researcher.scraper.utils') & (errors_df['line_number'] == '72'))]['data'].unique()"
   ]
  },
  {
   "cell_type": "markdown",
   "id": "c7e31bba-fb97-46b3-a244-d24cd4b20685",
   "metadata": {},
   "source": [
    "### beautiful_soup 44"
   ]
  },
  {
   "cell_type": "code",
   "execution_count": 8,
   "id": "483af286-f451-414b-95f0-7e9a91de77bd",
   "metadata": {
    "scrolled": true
   },
   "outputs": [
    {
     "data": {
      "text/plain": [
       "array([\"Error! : HTTPSConnectionPool(host='www.dp.ru', port=443): Read timed out. (read timeout=4)\",\n",
       "       \"Error! : HTTPSConnectionPool(host='kafanews.com', port=443): Read timed out. (read timeout=4)\",\n",
       "       'Error! : HTTPSConnectionPool(host=\\'vestnik-rm.ru\\', port=443): Max retries exceeded with url: /articles/kalejdoskop/german-gref-istoriya-uspeha (Caused by NameResolutionError(\"<urllib3.connection.HTTPSConnection object at 0x000002B382BC0C50>: Failed to resolve \\'vestnik-rm.ru\\' ([Errno 11001] getaddrinfo failed)\"))',\n",
       "       \"Error! : HTTPSConnectionPool(host='vesti42.ru', port=443): Read timed out. (read timeout=4)\",\n",
       "       \"Error! : HTTPSConnectionPool(host='www.interfax-russia.ru', port=443): Max retries exceeded with url: /academia/ru/news/articles/15561/ (Caused by SSLError(SSLCertVerificationError(1, '[SSL: CERTIFICATE_VERIFY_FAILED] certificate verify failed: unable to get local issuer certificate (_ssl.c:1006)')))\",\n",
       "       \"Error! : HTTPSConnectionPool(host='omskgazzeta.ru', port=443): Read timed out. (read timeout=4)\",\n",
       "       \"Error! : HTTPSConnectionPool(host='vuzopedia.ru', port=443): Max retries exceeded with url: /vuz/2207/compare (Caused by SSLError(SSLWantReadError(2, 'The operation did not complete (read) (_ssl.c:2580)')))\",\n",
       "       \"Error! : HTTPSConnectionPool(host='vuzopedia.ru', port=443): Read timed out. (read timeout=4)\",\n",
       "       \"Error! : HTTPSConnectionPool(host='www.sbras.info', port=443): Max retries exceeded with url: /public-reception/question/bliznetsy-cherez-pokolenie-eto-mif (Caused by SSLError(SSLCertVerificationError(1, '[SSL: CERTIFICATE_VERIFY_FAILED] certificate verify failed: unable to get local issuer certificate (_ssl.c:1006)')))\",\n",
       "       \"Error! : HTTPSConnectionPool(host='www.microsoft.com', port=443): Read timed out. (read timeout=4)\",\n",
       "       \"Error! : HTTPSConnectionPool(host='www.acra-ratings.ru', port=443): Max retries exceeded with url: /research/2797/ (Caused by SSLError(SSLCertVerificationError(1, '[SSL: CERTIFICATE_VERIFY_FAILED] certificate verify failed: unable to get local issuer certificate (_ssl.c:1006)')))\",\n",
       "       \"Error! : HTTPSConnectionPool(host='adilet.zan.kz', port=443): Max retries exceeded with url: /rus/docs/K970002030_ (Caused by SSLError(SSLCertVerificationError(1, '[SSL: CERTIFICATE_VERIFY_FAILED] certificate verify failed: unable to get local issuer certificate (_ssl.c:1006)')))\",\n",
       "       \"Error! : HTTPSConnectionPool(host='bulleten-kuzbass.ru', port=443): Max retries exceeded with url: /bulletin/210988 (Caused by SSLError(SSLEOFError(8, '[SSL: UNEXPECTED_EOF_WHILE_READING] EOF occurred in violation of protocol (_ssl.c:1006)')))\",\n",
       "       \"Error! : HTTPSConnectionPool(host='adilet.zan.kz', port=443): Max retries exceeded with url: /rus/docs/U1800000636 (Caused by SSLError(SSLCertVerificationError(1, '[SSL: CERTIFICATE_VERIFY_FAILED] certificate verify failed: unable to get local issuer certificate (_ssl.c:1006)')))\",\n",
       "       \"Error! : HTTPSConnectionPool(host='adilet.zan.kz', port=443): Max retries exceeded with url: /rus/docs/U2300000121 (Caused by SSLError(SSLCertVerificationError(1, '[SSL: CERTIFICATE_VERIFY_FAILED] certificate verify failed: unable to get local issuer certificate (_ssl.c:1006)')))\",\n",
       "       \"Error! : HTTPSConnectionPool(host='rosstat.gov.ru', port=443): Max retries exceeded with url: /free_doc/new_site/population/demo/demo21.htm (Caused by SSLError(SSLCertVerificationError(1, '[SSL: CERTIFICATE_VERIFY_FAILED] certificate verify failed: unable to get local issuer certificate (_ssl.c:1006)')))\",\n",
       "       \"Error! : HTTPSConnectionPool(host='rosstat.gov.ru', port=443): Max retries exceeded with url: /bgd/regl/b11_13/isswww.exe/stg/d1/04-06.htm (Caused by SSLError(SSLCertVerificationError(1, '[SSL: CERTIFICATE_VERIFY_FAILED] certificate verify failed: unable to get local issuer certificate (_ssl.c:1006)')))\",\n",
       "       \"Error! : HTTPSConnectionPool(host='ruxpert.ru', port=443): Read timed out. (read timeout=4)\",\n",
       "       \"Error! : HTTPSConnectionPool(host='rosstat.gov.ru', port=443): Max retries exceeded with url: /bgd/regl/b15_111/ (Caused by SSLError(SSLCertVerificationError(1, '[SSL: CERTIFICATE_VERIFY_FAILED] certificate verify failed: unable to get local issuer certificate (_ssl.c:1006)')))\",\n",
       "       \"Error! : HTTPSConnectionPool(host='rosstat.gov.ru', port=443): Max retries exceeded with url: /bgd/free/B99_10/IssWWW.exe/Stg/d000/i000030r.htm (Caused by SSLError(SSLCertVerificationError(1, '[SSL: CERTIFICATE_VERIFY_FAILED] certificate verify failed: unable to get local issuer certificate (_ssl.c:1006)')))\",\n",
       "       \"Error! : HTTPSConnectionPool(host='rb.ru', port=443): Read timed out. (read timeout=4)\",\n",
       "       \"Error! : HTTPSConnectionPool(host='korusconsulting.ru', port=443): Max retries exceeded with url: /press-centr/kak-ii-pomogaet-pisat-soft/ (Caused by SSLError(SSLCertVerificationError(1, '[SSL: CERTIFICATE_VERIFY_FAILED] certificate verify failed: unable to get local issuer certificate (_ssl.c:1006)')))\",\n",
       "       \"Error! : HTTPSConnectionPool(host='ict.moscow', port=443): Read timed out. (read timeout=4)\",\n",
       "       \"Error! : HTTPSConnectionPool(host='dynamicsun.ru', port=443): Max retries exceeded with url: /llm/integratsia_iskusstvennogo_intellekta.html (Caused by SSLError(SSLCertVerificationError(1, '[SSL: CERTIFICATE_VERIFY_FAILED] certificate verify failed: unable to get local issuer certificate (_ssl.c:1006)')))\",\n",
       "       \"Error! : HTTPSConnectionPool(host='dynamicsun.ru', port=443): Max retries exceeded with url: /it-resheniya/riski-vnedreniya-ii-tehnologii.html (Caused by SSLError(SSLCertVerificationError(1, '[SSL: CERTIFICATE_VERIFY_FAILED] certificate verify failed: unable to get local issuer certificate (_ssl.c:1006)')))\",\n",
       "       \"Error! : HTTPSConnectionPool(host='sbras.info', port=443): Max retries exceeded with url: /articles/mneniya/kakim-ya-vizhu-buduschee-rossiyskoy-nauki (Caused by SSLError(SSLCertVerificationError(1, '[SSL: CERTIFICATE_VERIFY_FAILED] certificate verify failed: unable to get local issuer certificate (_ssl.c:1006)')))\",\n",
       "       \"Error! : HTTPSConnectionPool(host='www.imf.org', port=443): Read timed out. (read timeout=4)\",\n",
       "       \"Error! : HTTPConnectionPool(host='government.ru', port=80): Read timed out. (read timeout=4)\",\n",
       "       \"Error! : HTTPSConnectionPool(host='economy.gov.ru', port=443): Read timed out. (read timeout=4)\",\n",
       "       'Error! : HTTPSConnectionPool(host=\\'cgon.rospotrebnadzor.ru\\', port=443): Max retries exceeded with url: /naseleniyu/gramotnyy-potrebitel/razvitie-iskusstvennogo-intellekta-v-rossii/ (Caused by NameResolutionError(\"<urllib3.connection.HTTPSConnection object at 0x000002B3963DEB90>: Failed to resolve \\'cgon.rospotrebnadzor.ru\\' ([Errno 11002] getaddrinfo failed)\"))',\n",
       "       \"Error! : HTTPSConnectionPool(host='www.asu.ru', port=443): Read timed out. (read timeout=4)\",\n",
       "       \"Error! : HTTPSConnectionPool(host='auth.kodeks.ru', port=443): Read timed out. (read timeout=4)\",\n",
       "       \"Error! : HTTPSConnectionPool(host='elibrary.ru', port=443): Max retries exceeded with url: /item.asp?id=53965819 (Caused by SSLError(SSLEOFError(8, '[SSL: UNEXPECTED_EOF_WHILE_READING] EOF occurred in violation of protocol (_ssl.c:1006)')))\",\n",
       "       \"Error! : HTTPSConnectionPool(host='www.edu.ru', port=443): Read timed out. (read timeout=4)\",\n",
       "       \"Error! : HTTPSConnectionPool(host='mon.tatarstan.ru', port=443): Read timed out. (read timeout=4)\",\n",
       "       \"Error! : HTTPSConnectionPool(host='safe-surf.ru', port=443): Max retries exceeded with url: /specialists/article/5325/706352/ (Caused by SSLError(SSLCertVerificationError(1, '[SSL: CERTIFICATE_VERIFY_FAILED] certificate verify failed: unable to get local issuer certificate (_ssl.c:1006)')))\",\n",
       "       \"Error! : HTTPSConnectionPool(host='elib.sfu-kras.ru', port=443): Read timed out. (read timeout=4)\",\n",
       "       'Error! : HTTPSConnectionPool(host=\\'www.dimitrysmirnov.ru\\', port=443): Max retries exceeded with url: /blog/cerkov-9922/ (Caused by NameResolutionError(\"<urllib3.connection.HTTPSConnection object at 0x000002B3FB671950>: Failed to resolve \\'www.dimitrysmirnov.ru\\' ([Errno 11002] getaddrinfo failed)\"))',\n",
       "       \"Error! : HTTPSConnectionPool(host='automobili.ru', port=443): Read timed out. (read timeout=4)\",\n",
       "       'Error! : HTTPSConnectionPool(host=\\'www.4dk.ru\\', port=443): Max retries exceeded with url: /content/art/5387-d-kak-davat-effektivnyy-fidbek-20190123 (Caused by NameResolutionError(\"<urllib3.connection.HTTPSConnection object at 0x000002B3857C6B50>: Failed to resolve \\'www.4dk.ru\\' ([Errno 11001] getaddrinfo failed)\"))',\n",
       "       \"Error! : HTTPSConnectionPool(host='vkusnovk.ru', port=443): Read timed out. (read timeout=4)\",\n",
       "       \"Error! : HTTPSConnectionPool(host='hf.ru', port=443): Read timed out.\",\n",
       "       \"Error! : HTTPSConnectionPool(host='elibrary.ru', port=443): Max retries exceeded with url: /item.asp?id=48250163 (Caused by SSLError(SSLEOFError(8, '[SSL: UNEXPECTED_EOF_WHILE_READING] EOF occurred in violation of protocol (_ssl.c:1006)')))\",\n",
       "       \"Error! : HTTPSConnectionPool(host='og1.ru', port=443): Read timed out.\",\n",
       "       'Error! : HTTPSConnectionPool(host=\\'www.pravo.mgimo.ru\\', port=443): Max retries exceeded with url: /?q=analitika/vooruzheniya-tehnologii-tehnika (Caused by SSLError(SSLCertVerificationError(1, \"[SSL: CERTIFICATE_VERIFY_FAILED] certificate verify failed: Hostname mismatch, certificate is not valid for \\'www.pravo.mgimo.ru\\'. (_ssl.c:1006)\")))',\n",
       "       \"Error! : HTTPSConnectionPool(host='rosavtodor.gov.ru', port=443): Read timed out. (read timeout=4)\",\n",
       "       \"Error! : HTTPSConnectionPool(host='lenta.ru', port=443): Read timed out. (read timeout=4)\",\n",
       "       \"Error! : HTTPSConnectionPool(host='vm.ric.mil.ru', port=443): Read timed out. (read timeout=4)\",\n",
       "       \"Error! : HTTPSConnectionPool(host='21.mchs.gov.ru', port=443): Read timed out. (read timeout=4)\",\n",
       "       \"Error! : HTTPConnectionPool(host='komitet4.km.duma.gov.ru', port=80): Read timed out. (read timeout=4)\",\n",
       "       \"Error! : HTTPSConnectionPool(host='army.ric.mil.ru', port=443): Read timed out. (read timeout=4)\",\n",
       "       \"Error! : HTTPConnectionPool(host='government.ru', port=80): Read timed out.\",\n",
       "       \"Error! : HTTPConnectionPool(host='www.vsrf.ru', port=80): Read timed out. (read timeout=4)\",\n",
       "       \"Error! : HTTPConnectionPool(host='hmrn.ru', port=80): Read timed out. (read timeout=4)\",\n",
       "       \"Error! : HTTPSConnectionPool(host='versia.ru', port=443): Max retries exceeded with url: /iskusstvennyj-intellekt-menyaet-xod-voennyx-konfliktov (Caused by SSLError(SSLCertVerificationError(1, '[SSL: CERTIFICATE_VERIFY_FAILED] certificate verify failed: unable to get local issuer certificate (_ssl.c:1006)')))\",\n",
       "       \"Error! : HTTPSConnectionPool(host='elibrary.ru', port=443): Max retries exceeded with url: /item.asp?id=36786717 (Caused by SSLError(SSLEOFError(8, '[SSL: UNEXPECTED_EOF_WHILE_READING] EOF occurred in violation of protocol (_ssl.c:1006)')))\",\n",
       "       \"Error! : HTTPSConnectionPool(host='elibrary.ru', port=443): Max retries exceeded with url: /item.asp?id=44643934 (Caused by SSLError(SSLEOFError(8, '[SSL: UNEXPECTED_EOF_WHILE_READING] EOF occurred in violation of protocol (_ssl.c:1006)')))\",\n",
       "       'Error! : HTTPConnectionPool(host=\\'www.nauteh-journal.ru\\', port=80): Max retries exceeded with url: /files/60fc4679-c551-4152-8307-307e52c8feba (Caused by NameResolutionError(\"<urllib3.connection.HTTPConnection object at 0x000002B392BD75D0>: Failed to resolve \\'www.nauteh-journal.ru\\' ([Errno 11002] getaddrinfo failed)\"))',\n",
       "       \"Error! : HTTPSConnectionPool(host='elibrary.ru', port=443): Max retries exceeded with url: /item.asp?id=44267875 (Caused by SSLError(SSLEOFError(8, '[SSL: UNEXPECTED_EOF_WHILE_READING] EOF occurred in violation of protocol (_ssl.c:1006)')))\",\n",
       "       \"Error! : ('Connection aborted.', RemoteDisconnected('Remote end closed connection without response'))\",\n",
       "       \"Error! : HTTPSConnectionPool(host='alfabank.ru', port=443): Read timed out. (read timeout=4)\",\n",
       "       \"Error! : HTTPSConnectionPool(host='www.acra-ratings.ru', port=443): Max retries exceeded with url: /research/2803/?lang=ru (Caused by SSLError(SSLCertVerificationError(1, '[SSL: CERTIFICATE_VERIFY_FAILED] certificate verify failed: unable to get local issuer certificate (_ssl.c:1006)')))\",\n",
       "       'Error! : HTTPSConnectionPool(host=\\'naukaru08.ru\\', port=443): Max retries exceeded with url: /ru/nauka/article/36725/view (Caused by SSLError(SSLCertVerificationError(1, \"[SSL: CERTIFICATE_VERIFY_FAILED] certificate verify failed: Hostname mismatch, certificate is not valid for \\'naukaru08.ru\\'. (_ssl.c:1006)\")))',\n",
       "       \"Error! : HTTPSConnectionPool(host='goszakaz.tv', port=443): Max retries exceeded with url: /news/details/9553-rossiya-zakreditovana-finansovaya-kabala (Caused by SSLError(SSLCertVerificationError(1, '[SSL: CERTIFICATE_VERIFY_FAILED] certificate verify failed: certificate has expired (_ssl.c:1006)')))\",\n",
       "       \"Error! : HTTPSConnectionPool(host='www.acra-ratings.ru', port=443): Max retries exceeded with url: /company/news/1000142/ (Caused by SSLError(SSLCertVerificationError(1, '[SSL: CERTIFICATE_VERIFY_FAILED] certificate verify failed: unable to get local issuer certificate (_ssl.c:1006)')))\",\n",
       "       \"Error! : HTTPSConnectionPool(host='theaiinsider.tech', port=443): Read timed out. (read timeout=4)\",\n",
       "       \"Error! : HTTPSConnectionPool(host='www.reddit.com', port=443): Read timed out.\",\n",
       "       \"Error! : HTTPSConnectionPool(host='blogs.epsilonmetrics.ru', port=443): Read timed out. (read timeout=4)\",\n",
       "       \"Error! : HTTPSConnectionPool(host='scantour.ru', port=443): Read timed out. (read timeout=4)\",\n",
       "       \"Error! : HTTPSConnectionPool(host='www.kp.ru', port=443): Read timed out.\",\n",
       "       \"Error! : HTTPSConnectionPool(host='www.rzd.ru', port=443): Read timed out. (read timeout=4)\",\n",
       "       \"Error! : HTTPSConnectionPool(host='petrozavodsk.sutochno.ru', port=443): Read timed out. (read timeout=4)\",\n",
       "       \"Error! : HTTPSConnectionPool(host='edem-v-gosti.ru', port=443): Read timed out. (read timeout=4)\",\n",
       "       \"Error! : HTTPSConnectionPool(host='888travel.ru', port=443): Read timed out. (read timeout=4)\",\n",
       "       \"Error! : HTTPSConnectionPool(host='axoftglobal.ru', port=443): Max retries exceeded with url: /news (Caused by SSLError(SSLCertVerificationError(1, '[SSL: CERTIFICATE_VERIFY_FAILED] certificate verify failed: unable to get local issuer certificate (_ssl.c:1006)')))\",\n",
       "       \"Error! : HTTPSConnectionPool(host='rscf.ru', port=443): Max retries exceeded with url: /project/24-28-00225/ (Caused by SSLError(SSLCertVerificationError(1, '[SSL: CERTIFICATE_VERIFY_FAILED] certificate verify failed: unable to get local issuer certificate (_ssl.c:1006)')))\",\n",
       "       \"Error! : HTTPSConnectionPool(host='www.tadviser.ru', port=443): Read timed out. (read timeout=4)\",\n",
       "       \"Error! : HTTPSConnectionPool(host='digital.alregn.ru', port=443): Read timed out. (read timeout=4)\",\n",
       "       \"Error! : HTTPSConnectionPool(host='www.gosuslugi.ru', port=443): Read timed out. (read timeout=4)\",\n",
       "       \"Error! : HTTPSConnectionPool(host='www.rosbalt.ru', port=443): Read timed out. (read timeout=4)\",\n",
       "       \"Error! : HTTPSConnectionPool(host='ac.gov.ru', port=443): Read timed out. (read timeout=4)\",\n",
       "       \"Error! : HTTPSConnectionPool(host='tusp24.msp.midural.ru', port=443): Read timed out. (read timeout=4)\",\n",
       "       \"Error! : HTTPSConnectionPool(host='iis.guu.ru', port=443): Max retries exceeded with url: /blog/riski-ispolzovaniya-iskustvennogo-intelekta/ (Caused by SSLError(SSLCertVerificationError(1, '[SSL: CERTIFICATE_VERIFY_FAILED] certificate verify failed: unable to get local issuer certificate (_ssl.c:1006)')))\",\n",
       "       \"Error! : HTTPSConnectionPool(host='4brain.ru', port=443): Max retries exceeded with url: /aibasics/consequences.php (Caused by SSLError(SSLEOFError(8, '[SSL: UNEXPECTED_EOF_WHILE_READING] EOF occurred in violation of protocol (_ssl.c:1006)')))\",\n",
       "       \"Error! : HTTPSConnectionPool(host='www.ispring.ru', port=443): Read timed out. (read timeout=4)\",\n",
       "       \"Error! : HTTPSConnectionPool(host='edu.gov.ru', port=443): Read timed out. (read timeout=4)\",\n",
       "       \"Error! : HTTPSConnectionPool(host='fea.ru', port=443): Max retries exceeded with url: /news/8947 (Caused by SSLError(SSLEOFError(8, '[SSL: UNEXPECTED_EOF_WHILE_READING] EOF occurred in violation of protocol (_ssl.c:1006)')))\",\n",
       "       \"Error! : HTTPSConnectionPool(host='www.securityvision.ru', port=443): Read timed out.\",\n",
       "       \"Error! : HTTPSConnectionPool(host='ir.alfastrah.ru', port=443): Max retries exceeded with url: /posts/390 (Caused by SSLError(SSLCertVerificationError(1, '[SSL: CERTIFICATE_VERIFY_FAILED] certificate verify failed: unable to get local issuer certificate (_ssl.c:1006)')))\"],\n",
       "      dtype=object)"
      ]
     },
     "execution_count": 8,
     "metadata": {},
     "output_type": "execute_result"
    }
   ],
   "source": [
    "errors_df.loc[((errors_df['file_path'] == 'gpt_researcher.scraper.beautiful_soup.beautiful_soup') & (errors_df['line_number'] == '44'))]['data'].unique()"
   ]
  },
  {
   "cell_type": "markdown",
   "id": "eb9c46f9-1322-40fe-8cd5-d704c2353752",
   "metadata": {},
   "source": [
    "### weasyprint 419"
   ]
  },
  {
   "cell_type": "code",
   "execution_count": 9,
   "id": "82815c01-da58-4631-baad-49b6dd3b7567",
   "metadata": {
    "scrolled": true
   },
   "outputs": [
    {
     "data": {
      "text/plain": [
       "array(['No anchor #sectorexpansionanddecline for internal URI reference',\n",
       "       'No anchor #short-medium-and-long-term-goals for internal URI reference',\n",
       "       'No anchor #историко-демографические-факторы-влияния-на-рождаемость-в-послевоенной-россии-1950-1970 for internal URI reference',\n",
       "       'No anchor #современные-тенденции-и-вызовы-рождаемости-в-руссии-2015-2025 for internal URI reference',\n",
       "       'No anchor #сравнительный-анализ-факторов-влияющих-на-рождаемость-в-исследуемые-периоды for internal URI reference',\n",
       "       'No anchor #evolution-of-war-and-conflict-nature for internal URI reference',\n",
       "       'No anchor #main-scenarios-of-battle-development for internal URI reference',\n",
       "       'No anchor #military-modernization-directions for internal URI reference',\n",
       "       'No anchor #formation-and-development-of-groups for internal URI reference',\n",
       "       'No anchor #leadership-and-group-structure for internal URI reference',\n",
       "       'No anchor #communication-and-coherence-in-groups for internal URI reference',\n",
       "       'No anchor #methods-for-assessing-the-effectiveness-of-group-dynamics for internal URI reference',\n",
       "       'No anchor #group-dynamics-in-modern-world for internal URI reference',\n",
       "       'No anchor #problems-and-future-prospects-of-research for internal URI reference',\n",
       "       'No anchor ##ИскусственныйИнтеллектиАвтоматизацияПлюсыиМинусыТехнологическогоПрорыва for internal URI reference'],\n",
       "      dtype=object)"
      ]
     },
     "execution_count": 9,
     "metadata": {},
     "output_type": "execute_result"
    }
   ],
   "source": [
    "errors_df.loc[((errors_df['file_path'] == 'weasyprint') & (errors_df['line_number'] == '419'))]['data'].unique()"
   ]
  },
  {
   "cell_type": "markdown",
   "id": "8ef1d470-99c6-4847-ba19-6ad8adbe8ade",
   "metadata": {},
   "source": [
    "### gpt_researcher.actions.agent_creator 60"
   ]
  },
  {
   "cell_type": "code",
   "execution_count": 10,
   "id": "748f5138-1107-44d5-af01-9c47c8a49e6e",
   "metadata": {},
   "outputs": [
    {
     "data": {
      "text/plain": [
       "array([\"Error in choose_agent: JSONDecodeError('Expecting value: line 1 column 1 (char 0)')\"],\n",
       "      dtype=object)"
      ]
     },
     "execution_count": 10,
     "metadata": {},
     "output_type": "execute_result"
    }
   ],
   "source": [
    "errors_df.loc[((errors_df['file_path'] == 'gpt_researcher.actions.agent_creator') & (errors_df['line_number'] == '60'))]['data'].unique()"
   ]
  },
  {
   "cell_type": "markdown",
   "id": "9dfb6ace-2264-4074-ae15-0f356a5e9ac8",
   "metadata": {},
   "source": [
    "### gpt_researcher.actions.agent_creator 70"
   ]
  },
  {
   "cell_type": "code",
   "execution_count": 11,
   "id": "333a9aeb-e5bb-4d8b-8eb7-2a85ce2dcb51",
   "metadata": {},
   "outputs": [
    {
     "data": {
      "text/plain": [
       "array([\"Error in reading JSON and failed to repair with json_repair: 'str' object has no attribute 'get'\",\n",
       "       \"Error in reading JSON and failed to repair with json_repair: 'list' object has no attribute 'get'\"],\n",
       "      dtype=object)"
      ]
     },
     "execution_count": 11,
     "metadata": {},
     "output_type": "execute_result"
    }
   ],
   "source": [
    "errors_df.loc[((errors_df['file_path'] == 'gpt_researcher.actions.agent_creator') & (errors_df['line_number'] == '70'))]['data'].unique()"
   ]
  },
  {
   "cell_type": "markdown",
   "id": "980ad238-c47e-44c0-b166-f498e77cdd32",
   "metadata": {},
   "source": [
    "### gpt_researcher.skills.researcher 324"
   ]
  },
  {
   "cell_type": "code",
   "execution_count": 12,
   "id": "6a8290cb-99c2-4f0b-b3b3-94005d438939",
   "metadata": {
    "scrolled": true
   },
   "outputs": [
    {
     "data": {
      "text/plain": [
       "array([\"🤷 No content found for 'Проведи исследование и мотивируй схожие черты и различия личностных черт и профессиональных качеств Шувалова Игоря Ивановича - руководителя ВЭБ и Грефа Германа Оскарвича - руководителя Сбера.'...\",\n",
       "       \"🤷 No content found for 'Число рожденных близнецов в России за последние годы'...\",\n",
       "       \"🤷 No content found for 'новый продукт компании Джона Айва IO описание функции'...\",\n",
       "       \"🤷 No content found for 'конкурентоспособность нового гаджета IO от John Ive'...\",\n",
       "       \"🤷 No content found for 'Потенциальные экономические сложности и риски в Казахстане 2025 год'...\",\n",
       "       \"🤷 No content found for 'Рекомендации реформ Казахстан правительство 2025'...\",\n",
       "       \"🤷 No content found for 'Основные экономические риски Казахстана 2025-2030'...\",\n",
       "       \"🤷 No content found for 'Макроэкономическая ситуация в Казахстане июнь 2025'...\",\n",
       "       '🤷 No content found for \\'нейросети \"Software 2.0\" сравнение с традиционным подходом\\'...',\n",
       "       \"🤷 No content found for 'Примеры успешных чат-ботов и виртуальных ассистентов в крупнейших мировых мессенджерах'...\",\n",
       "       \"🤷 No content found for 'Концепция внедрения искусственного интеллекта в корпоративные мессенджеры 2025'...\",\n",
       "       \"🤷 No content found for 'Ключевые направления научного и технологического развития России 2025'...\",\n",
       "       \"🤷 No content found for 'Перспективы технологического лидерства России в области возобновляемой энергетики'...\",\n",
       "       \"🤷 No content found for 'Ошибки проведения интервью с Владимиром Познером на тему ИИ'...\",\n",
       "       \"🤷 No content found for 'Модели и инструменты конструктивной критики и похвалы в командах'...\",\n",
       "       \"🤷 No content found for 'Рекомендации по использованию корабля Уукреш в космическом флоте'...\",\n",
       "       \"🤷 No content found for 'Проведи анализ возможностей боевого применения корабля Уукреш и дай рекомендации по его использованию в составе космического флота'...\",\n",
       "       \"🤷 No content found for 'Анализ тактико-технических характеристик корабля Уукреш'...\",\n",
       "       \"🤷 No content found for 'Возможности боевого применения корабля Уукреш обзор 2024-2025'...\",\n",
       "       \"🤷 No content found for 'Анализ боевых возможностей корабля Уукреш космический флот июнь 2025'...\",\n",
       "       \"🤷 No content found for 'Анализ боевых характеристик корабля Уукреш космический флот 2025'...\",\n",
       "       \"🤷 No content found for 'Стратегии развития цифровых образовательных платформ в России последние тенденции'...\",\n",
       "       \"🤷 No content found for 'Обзор российских онлайн образовательных платформ 2025'...\",\n",
       "       \"🤷 No content found for 'Анализ эволюции характера войн и конфликтов до 2030 года'...\",\n",
       "       \"🤷 No content found for 'Структура выдачи потребительских кредитов физическими лицами после изменений законодательства 2025'...\",\n",
       "       \"🤷 No content found for 'Текущие исследования и разработки в области Agentic AI и AI Agents июнь 2025'...\",\n",
       "       \"🤷 No content found for 'Лучшие маршруты и достопримечательности Карелии для трехдневной поездки из Москвы'...\",\n",
       "       \"🤷 No content found for 'Подготовь аргументированное выступление для конференции по теме ниже\\nПЛЕНАРНОЕ СЕССИЯ «БЕСЧЕЛОВЕЧНЫЕ ТЕХНОЛОГИИ: ОСВОБОЖДЕНИЕ ОТ\\nРУТИНЫ ИЛИ ПУТЬ К ЦИФРОВОМУ РАБСТВУ»\\nПОВЕСТКА\\nЦифровизация меняет наш мир с беспрецедентной скоростью.\\nТехнологии, которые ещё вчера казались фантастикой, сегодня решают\\nзадачи немыслимой сложности, оптимизируют процессы и кратно\\nповышают производительность. Но за этим прогрессом скрывается\\nсерьезная дилемма: внедрение новых технологий, искусственного\\nинтеллекта и автоматизация трансформируют рынок труда, лишая людей\\nпривычных профессий; стремительное внедрение цифровых\\nинструментов сопровождаются ростом киберугроз, защита от которых\\nтребует переосмысления практически всех сфер жизни – от моделей\\nсоциального взаимодействия до системы образования, государственного\\nуправления и личной ответственности в цифровой среде.\\nПока одни опасаются «восстания машин», другие видят в автоматизации\\nвозможность освободить человечество от рутины и направить его\\nпотенциал на творчество и решение действительно значимых задач. В\\nэтих условиях общество стоит перед сложным выбором: как обуздать\\nразвитие технологий, которое сегодня рискует привести к\\nэкзистенциальному кризису человечества, но при этом не задушить\\nинновации?\\nВОПРОСЫ К ОБСУЖДЕНИЮ\\n1. Должны ли мы вообще бояться «восстания машин», или это мифы\\nиз мира научной фантастики?\\n2. Как минимизировать социальные издержки технологического\\nпрогресса?\\n3. Где проходит граница между технологическим развитием и\\nограничениями, необходимыми ради безопасности?\\n4. Какие профессии находятся под угрозой, а какие появятся\\nблагодаря цифровой трансформации?\\n5. Кто должен инвестировать в переподготовку сотрудников: бизнес,\\nгосударство или люди сами должны приспосабливаться?\\n6. Социальный контракт XXI века: какие взаимные обязательства\\nпоявляются у бизнеса, государства и общества в эпоху ИИ?\\n7. Как сделать так, чтобы технологии работали на благо всех?'...\",\n",
       "       \"🤷 No content found for 'цифровые угрозы и информационная безопасность в эпоху цифровизации 2025'...\",\n",
       "       \"🤷 No content found for 'КОНФЕРЕНЦИЯ POSITIVE HACK DAYS\\nПЛЕНАРНОЕ СЕССИЯ «БЕСЧЕЛОВЕЧНЫЕ ТЕХНОЛОГИИ: ОСВОБОЖДЕНИЕ ОТ\\nРУТИНЫ ИЛИ ПУТЬ К ЦИФРОВОМУ РАБСТВУ»\\nПОВЕСТКА\\nЦифровизация меняет наш мир с беспрецедентной скоростью.\\nТехнологии, которые ещё вчера казались фантастикой, сегодня решают\\nзадачи немыслимой сложности, оптимизируют процессы и кратно\\nповышают производительность. Но за этим прогрессом скрывается\\nсерьезная дилемма: внедрение новых технологий, искусственного\\nинтеллекта и автоматизация трансформируют рынок труда, лишая людей\\nпривычных профессий; стремительное внедрение цифровых\\nинструментов сопровождаются ростом киберугроз, защита от которых\\nтребует переосмысления практически всех сфер жизни – от моделей\\nсоциального взаимодействия до системы образования, государственного\\nуправления и личной ответственности в цифровой среде.\\nПока одни опасаются «восстания машин», другие видят в автоматизации\\nвозможность освободить человечество от рутины и направить его\\nпотенциал на творчество и решение действительно значимых задач. В\\nэтих условиях общество стоит перед сложным выбором: как обуздать\\nразвитие технологий, которое сегодня рискует привести к\\nэкзистенциальному кризису человечества, но при этом не задушить\\nинновации?\\nВОПРОСЫ К ОБСУЖДЕНИЮ\\n1. Должны ли мы вообще бояться «восстания машин», или это мифы\\nиз мира научной фантастики?\\n2. Как минимизировать социальные издержки технологического\\nпрогресса?\\n3. Где проходит граница между технологическим развитием и\\nограничениями, необходимыми ради безопасности?\\n4. Какие профессии находятся под угрозой, а какие появятся\\nблагодаря цифровой трансформации?\\n5. Кто должен инвестировать в переподготовку сотрудников: бизнес,\\nгосударство или люди сами должны приспосабливаться?\\n6. Социальный контракт XXI века: какие взаимные обязательства\\nпоявляются у бизнеса, государства и общества в эпоху ИИ?\\n7. Как сделать так, чтобы технологии работали на благо всех?'...\"],\n",
       "      dtype=object)"
      ]
     },
     "execution_count": 12,
     "metadata": {},
     "output_type": "execute_result"
    }
   ],
   "source": [
    "errors_df.loc[((errors_df['file_path'] == 'gpt_researcher.skills.researcher') & (errors_df['line_number'] == '324'))]['data'].unique()"
   ]
  },
  {
   "cell_type": "markdown",
   "id": "393ead2b-7f3d-4df5-b3fc-d5f1a488aebb",
   "metadata": {},
   "source": [
    "### gpt_researcher.scraper.pymupdf.pymupdf 79"
   ]
  },
  {
   "cell_type": "code",
   "execution_count": 13,
   "id": "24494137-258c-4f50-abf7-7ceca7b275a1",
   "metadata": {
    "scrolled": true
   },
   "outputs": [
    {
     "data": {
      "text/plain": [
       "array([\"Error loading PDF : https://veorus.ru/upload/iblock/85f/196_veor_new.pdf HTTPSConnectionPool(host='veorus.ru', port=443): Max retries exceeded with url: /upload/iblock/85f/196_veor_new.pdf (Caused by SSLError(SSLCertVerificationError(1, '[SSL: CERTIFICATE_VERIFY_FAILED] certificate verify failed: unable to get local issuer certificate (_ssl.c:1006)')))\",\n",
       "       'Error loading PDF : https://vestnik-bist.ru/wp-content/uploads/2023/07/VestnikBIST_2-2023_site.pdf 403 Client Error: Forbidden for url: https://vestnik-bist.ru/wp-content/uploads/2023/07/VestnikBIST_2-2023_site.pdf',\n",
       "       \"Error loading PDF : https://eabr.org/upload/iblock/c55/EDB_Macroreview_2025_2027_RU.pdf HTTPSConnectionPool(host='eabr.org', port=443): Max retries exceeded with url: /upload/iblock/c55/EDB_Macroreview_2025_2027_RU.pdf (Caused by SSLError(SSLCertVerificationError(1, '[SSL: CERTIFICATE_VERIFY_FAILED] certificate verify failed: unable to get local issuer certificate (_ssl.c:1006)')))\",\n",
       "       \"Error loading PDF : https://64.rosstat.gov.ru/storage/mediabank/%D0%A2%D0%BE%D0%BB%D0%BE%D0%BA%D0%BE%D0%BD%D0%BD%D0%B8%D0%BA%D0%BE%D0%B2%D0%B0%20%D0%90.%D0%92..pdf HTTPSConnectionPool(host='64.rosstat.gov.ru', port=443): Max retries exceeded with url: /storage/mediabank/%D0%A2%D0%BE%D0%BB%D0%BE%D0%BA%D0%BE%D0%BD%D0%BD%D0%B8%D0%BA%D0%BE%D0%B2%D0%B0%20%D0%90.%D0%92..pdf (Caused by SSLError(SSLCertVerificationError(1, '[SSL: CERTIFICATE_VERIFY_FAILED] certificate verify failed: unable to get local issuer certificate (_ssl.c:1006)')))\",\n",
       "       'Error loading PDF : https://www.sevsu.ru/upload/iblock/26b/1ol7pn2338yfgt0s3i43ku0bsqk226lu/2619-1628_6_full.pdf 403 Client Error: Forbidden for url: https://www.sevsu.ru/upload/iblock/26b/1ol7pn2338yfgt0s3i43ku0bsqk226lu/2619-1628_6_full.pdf',\n",
       "       \"Error loading PDF : https://onco.tnimc.ru/upload/dissovet/dissovet-onco/soiskateli/2023/06-2023/patisheva/%D0%94%D0%B8%D1%81%D1%81%D0%B5%D1%80%D1%82%D0%B0%D1%86%D0%B8%D1%8F_%D0%9F%D0%B0%D1%82%D1%8B%D1%88%D0%B5%D0%B2%D0%B0.pdf HTTPSConnectionPool(host='onco.tnimc.ru', port=443): Max retries exceeded with url: /upload/dissovet/dissovet-onco/soiskateli/2023/06-2023/patisheva/%D0%94%D0%B8%D1%81%D1%81%D0%B5%D1%80%D1%82%D0%B0%D1%86%D0%B8%D1%8F_%D0%9F%D0%B0%D1%82%D1%8B%D1%88%D0%B5%D0%B2%D0%B0.pdf (Caused by SSLError(SSLCertVerificationError(1, '[SSL: CERTIFICATE_VERIFY_FAILED] certificate verify failed: unable to get local issuer certificate (_ssl.c:1006)')))\",\n",
       "       \"Error loading PDF : https://guu.ru/wp-content/uploads/vp-3-2.pdf HTTPSConnectionPool(host='guu.ru', port=443): Max retries exceeded with url: /wp-content/uploads/vp-3-2.pdf (Caused by SSLError(SSLCertVerificationError(1, '[SSL: CERTIFICATE_VERIFY_FAILED] certificate verify failed: unable to get local issuer certificate (_ssl.c:1006)')))\",\n",
       "       'Error loading PDF : https://www.imemo.ru/files/File/ru/events/2023/28112023/28112023-PROG-H-001.pdf 403 Client Error: Forbidden for url: https://www.imemo.ru/files/File/ru/events/2023/28112023/28112023-PROG-H-001.pdf',\n",
       "       'Error loading PDF : https://www.imemo.ru/files/File/ru/publ/2024/Prognoz-2025.pdf 403 Client Error: Forbidden for url: https://www.imemo.ru/files/File/ru/publ/2024/Prognoz-2025.pdf',\n",
       "       'Error loading PDF : https://minfin.gov.ru/common/upload/library/2020/09/main/Ispolnenie_federalnogo_budzheta_2019_god.pdf 403 Client Error: Forbidden for url: https://minfin.gov.ru/common/upload/library/2020/09/main/Ispolnenie_federalnogo_budzheta_2019_god.pdf',\n",
       "       'Error loading PDF : https://www.imemo.ru/files/File/ru/Articles/2025/Vestnik-Mejdunarodnyh-Organizatsiy-20-1-2025-Portansky.pdf 403 Client Error: Forbidden for url: https://www.imemo.ru/files/File/ru/Articles/2025/Vestnik-Mejdunarodnyh-Organizatsiy-20-1-2025-Portansky.pdf',\n",
       "       'Error loading PDF : http://www.econorus.org/repec/journl/2019-41-201-207r.pdf HTTPConnectionPool(host=\\'www.econorus.org\\', port=80): Max retries exceeded with url: /repec/journl/2019-41-201-207r.pdf (Caused by NameResolutionError(\"<urllib3.connection.HTTPConnection object at 0x000002B3956FC910>: Failed to resolve \\'www.econorus.org\\' ([Errno 11002] getaddrinfo failed)\"))',\n",
       "       'Error loading PDF : http://www.econorus.org/repec/journl/2019-41-201-207r.pdf HTTPConnectionPool(host=\\'www.econorus.org\\', port=80): Max retries exceeded with url: /repec/journl/2019-41-201-207r.pdf (Caused by NameResolutionError(\"<urllib3.connection.HTTPConnection object at 0x000002B38E33EFD0>: Failed to resolve \\'www.econorus.org\\' ([Errno 11001] getaddrinfo failed)\"))',\n",
       "       'Error loading PDF : http://sutkt.ru/new_site/images/upload/Razgovor/18-11-2024/%D0%A0%D0%9E%D0%92_%D0%A1%D0%9F%D0%9E_%D0%BC%D0%B5%D1%82%D0%BE%D0%B4_%D1%80%D0%B5%D0%BA%D0%BE%D0%BC_%D0%98%D0%98_%D0%B8_%D1%87%D0%B5%D0%BB%D0%BE%D0%B2%D0%B5%D0%BA.pdf 403 Client Error: Forbidden for url: http://sutkt.ru/new_site/images/upload/Razgovor/18-11-2024/%D0%A0%D0%9E%D0%92_%D0%A1%D0%9F%D0%9E_%D0%BC%D0%B5%D1%82%D0%BE%D0%B4_%D1%80%D0%B5%D0%BA%D0%BE%D0%BC_%D0%98%D0%98_%D0%B8_%D1%87%D0%B5%D0%BB%D0%BE%D0%B2%D0%B5%D0%BA.pdf',\n",
       "       \"Error loading PDF : https://iaoo.ru/files/books/pdf/Stelmak_MM_Gladyshev_AN.pdf HTTPSConnectionPool(host='iaoo.ru', port=443): Max retries exceeded with url: /files/books/pdf/Stelmak_MM_Gladyshev_AN.pdf (Caused by SSLError(SSLCertVerificationError(1, '[SSL: CERTIFICATE_VERIFY_FAILED] certificate verify failed: unable to get local issuer certificate (_ssl.c:1006)')))\",\n",
       "       \"Error loading PDF : https://www.journ.msu.ru/downloads/2021/%D0%9E%D0%96_6_2021.pdf HTTPSConnectionPool(host='www.journ.msu.ru', port=443): Max retries exceeded with url: /downloads/2021/%D0%9E%D0%96_6_2021.pdf (Caused by SSLError(SSLEOFError(8, '[SSL: UNEXPECTED_EOF_WHILE_READING] EOF occurred in violation of protocol (_ssl.c:1006)')))\",\n",
       "       'Error loading PDF : http://dspace.bsu.edu.ru/bitstream/123456789/36731/1/Knyazeva_Vladimir_18.pdf HTTPConnectionPool(host=\\'dspace.bsu.edu.ru\\', port=80): Max retries exceeded with url: /bitstream/123456789/36731/1/Knyazeva_Vladimir_18.pdf (Caused by NameResolutionError(\"<urllib3.connection.HTTPConnection object at 0x000002B39DA59B50>: Failed to resolve \\'dspace.bsu.edu.ru\\' ([Errno 11001] getaddrinfo failed)\"))',\n",
       "       'Error loading PDF : https://www.tsutmb.ru/nauka/internet-konferencii/2025/lichn_i_prof_razv_bud_special/4/Akolzina_Berketova_Lukyanchikova.pdf 403 Client Error: Forbidden for url: https://www.tsutmb.ru/nauka/internet-konferencii/2025/lichn_i_prof_razv_bud_special/4/Akolzina_Berketova_Lukyanchikova.pdf',\n",
       "       'Error loading PDF : https://www.un.org/sites/un2.un.org/files/governing_ai_for_humanity_final_report_ru.pdf 403 Client Error: Forbidden for url: https://www.un.org/sites/un2.un.org/files/governing_ai_for_humanity_final_report_ru.pdf',\n",
       "       \"Error loading PDF : https://elib.bsu.by/bitstream/123456789/206613/1/%D0%9E%D1%81%D0%BD%D0%BE%D0%B2%D1%8B%20%D0%B3%D1%80%D1%83%D0%BF%D0%BF%D0%BE%D0%B2%D0%BE%D0%B9%20%D0%BF%D1%81%D0%B8%D1%85%D0%BE%D1%82%D0%B5%D1%80%D0%B0%D0%BF%D0%B8%D0%B8.pdf HTTPSConnectionPool(host='elib.bsu.by', port=443): Max retries exceeded with url: /bitstream/123456789/206613/1/%D0%9E%D1%81%D0%BD%D0%BE%D0%B2%D1%8B%20%D0%B3%D1%80%D1%83%D0%BF%D0%BF%D0%BE%D0%B2%D0%BE%D0%B9%20%D0%BF%D1%81%D0%B8%D1%85%D0%BE%D1%82%D0%B5%D1%80%D0%B0%D0%BF%D0%B8%D0%B8.pdf (Caused by SSLError(SSLCertVerificationError(1, '[SSL: CERTIFICATE_VERIFY_FAILED] certificate verify failed: unable to get local issuer certificate (_ssl.c:1006)')))\",\n",
       "       'Error loading PDF : https://unecon.ru/wp-content/uploads/2023/11/cdt-2023-sbornik.pdf 403 Client Error: Forbidden for url: https://unecon.ru/wp-content/uploads/2023/11/cdt-2023-sbornik.pdf',\n",
       "       \"Error loading PDF : https://64.rosstat.gov.ru/storage/mediabank/%D0%95%D1%84%D0%B8%D0%BC%D0%BE%D0%B2%D0%B0%20%D0%9A.%D0%9C..pdf HTTPSConnectionPool(host='64.rosstat.gov.ru', port=443): Max retries exceeded with url: /storage/mediabank/%D0%95%D1%84%D0%B8%D0%BC%D0%BE%D0%B2%D0%B0%20%D0%9A.%D0%9C..pdf (Caused by SSLError(SSLCertVerificationError(1, '[SSL: CERTIFICATE_VERIFY_FAILED] certificate verify failed: unable to get local issuer certificate (_ssl.c:1006)')))\"],\n",
       "      dtype=object)"
      ]
     },
     "execution_count": 13,
     "metadata": {},
     "output_type": "execute_result"
    }
   ],
   "source": [
    "errors_df.loc[((errors_df['file_path'] == 'gpt_researcher.scraper.pymupdf.pymupdf') & (errors_df['line_number'] == '79'))]['data'].unique()"
   ]
  },
  {
   "cell_type": "markdown",
   "id": "91a5712e-e162-4c39-a7fc-1692bd085e93",
   "metadata": {},
   "source": [
    "### gpt_researcher.actions.agent_creator 82"
   ]
  },
  {
   "cell_type": "code",
   "execution_count": 14,
   "id": "7589c2ed-b605-4758-ad00-126973496464",
   "metadata": {},
   "outputs": [
    {
     "data": {
      "text/plain": [
       "array(['No JSON found in the string. Falling back to Default Agent.'],\n",
       "      dtype=object)"
      ]
     },
     "execution_count": 14,
     "metadata": {},
     "output_type": "execute_result"
    }
   ],
   "source": [
    "errors_df.loc[((errors_df['file_path'] == 'gpt_researcher.actions.agent_creator') & (errors_df['line_number'] == '82'))]['data'].unique()"
   ]
  },
  {
   "cell_type": "markdown",
   "id": "2f7f2e4a-fc78-4340-9b24-28522baeaaad",
   "metadata": {},
   "source": [
    "### gpt_researcher.scraper.pymupdf.pymupdf 76"
   ]
  },
  {
   "cell_type": "code",
   "execution_count": 15,
   "id": "3d237533-070e-44a1-938b-b0fecb6c4db0",
   "metadata": {
    "scrolled": true
   },
   "outputs": [
    {
     "data": {
      "text/plain": [
       "array(['Download timed out. Please check the link : https://elib.pnzgu.ru/files/eb/doc/2HIKmJCDlo52.pdf',\n",
       "       'Download timed out. Please check the link : http://www.psu.ru/files/docs/science/books/sborniki/Iskusstvennyj-intellekt-v-reshenii-aktualnyh-socialnyh-i-ekonomicheskih-problem-XXI-veka-ch-1.pdf',\n",
       "       'Download timed out. Please check the link : https://digital.gov.ru/uploaded/files/primeryi-primeneniya-tehnologij-iskusstvennogo-intellekta.pdf',\n",
       "       'Download timed out. Please check the link : http://static.government.ru/media/files/41d457592e04b76338b7.pdf',\n",
       "       'Download timed out. Please check the link : https://www.economy.gov.ru/material/file/b028b88a60e6ddf67e9fe9c07c4951f0/prognoz_socialno_ekonomicheskogo_razvitiya_rf_2025-2027.pdf',\n",
       "       'Download timed out. Please check the link : https://www.economy.gov.ru/material/file/4c631ab1a829dc1a17ab40db24d52d3a/strategiya_fonda_sodeystviya_innovaciyam_do_2024.pdf',\n",
       "       'Download timed out. Please check the link : http://static.government.ru/media/files/lcRbgf2IkDV5TnMmASEyDG5FjYvT4r2p.pdf',\n",
       "       'Download timed out. Please check the link : http://static.government.ru/media/files/ZsnFICpxWknEXeTfQdmcFHNei2FhcR0A.pdf',\n",
       "       'Download timed out. Please check the link : http://www.psu.ru/files/docs/science/books/uchebnie-posobiya/krasnov-socialnaya-psixologiya-psixologiya-malyx-grupp.pdf',\n",
       "       'Download timed out. Please check the link : https://pureportal.spbu.ru/files/128180757/_180.pdf',\n",
       "       'Download timed out. Please check the link : https://old.tyuiu.ru/wp-content/uploads/2014/09/Vedomosti-prikladnoj-etiki-Vypusk-58.pdf',\n",
       "       'Download timed out. Please check the link : http://static.government.ru/media/files/Ea43xkFzAP6MA9HEtce9gpYrN6ePA8am.pdf'],\n",
       "      dtype=object)"
      ]
     },
     "execution_count": 15,
     "metadata": {},
     "output_type": "execute_result"
    }
   ],
   "source": [
    "errors_df.loc[((errors_df['file_path'] == 'gpt_researcher.scraper.pymupdf.pymupdf') & (errors_df['line_number'] == '76'))]['data'].unique()"
   ]
  },
  {
   "cell_type": "markdown",
   "id": "93710f85-5b7e-455f-b808-10fdead8501e",
   "metadata": {},
   "source": [
    "### gpt_researcher.skills.researcher 327"
   ]
  },
  {
   "cell_type": "code",
   "execution_count": 16,
   "id": "3f1cefe4-b342-4853-beba-c2a982e6dd08",
   "metadata": {
    "scrolled": true
   },
   "outputs": [
    {
     "data": {
      "text/plain": [
       "array(['Error processing sub-query Анализ тенденций изменения характера военных конфликтов 2025-2030: The read operation timed out\\nTraceback (most recent call last):\\nFile \"C:\\\\Users\\\\Anastasia\\\\projects\\\\gpt-researcher-eval\\\\.venv\\\\Lib\\\\site-packages\\\\httpx\\\\_transports\\\\default.py\", line 101, in map_httpcore_exceptions\\nyield\\nFile \"C:\\\\Users\\\\Anastasia\\\\projects\\\\gpt-researcher-eval\\\\.venv\\\\Lib\\\\site-packages\\\\httpx\\\\_transports\\\\default.py\", line 127, in __iter__\\nfor part in self._httpcore_stream:\\nFile \"C:\\\\Users\\\\Anastasia\\\\projects\\\\gpt-researcher-eval\\\\.venv\\\\Lib\\\\site-packages\\\\httpcore\\\\_sync\\\\connection_pool.py\", line 407, in __iter__\\nraise exc from None\\nFile \"C:\\\\Users\\\\Anastasia\\\\projects\\\\gpt-researcher-eval\\\\.venv\\\\Lib\\\\site-packages\\\\httpcore\\\\_sync\\\\connection_pool.py\", line 403, in __iter__\\nfor part in self._stream:\\nFile \"C:\\\\Users\\\\Anastasia\\\\projects\\\\gpt-researcher-eval\\\\.venv\\\\Lib\\\\site-packages\\\\httpcore\\\\_sync\\\\http11.py\", line 342, in __iter__\\nraise exc\\nFile \"C:\\\\Users\\\\Anastasia\\\\projects\\\\gpt-researcher-eval\\\\.venv\\\\Lib\\\\site-packages\\\\httpcore\\\\_sync\\\\http11.py\", line 334, in __iter__\\nfor chunk in self._connection._receive_response_body(**kwargs):\\nFile \"C:\\\\Users\\\\Anastasia\\\\projects\\\\gpt-researcher-eval\\\\.venv\\\\Lib\\\\site-packages\\\\httpcore\\\\_sync\\\\http11.py\", line 203, in _receive_response_body\\nevent = self._receive_event(timeout=timeout)\\n^^^^^^^^^^^^^^^^^^^^^^^^^^^^^^^^^^^^\\nFile \"C:\\\\Users\\\\Anastasia\\\\projects\\\\gpt-researcher-eval\\\\.venv\\\\Lib\\\\site-packages\\\\httpcore\\\\_sync\\\\http11.py\", line 217, in _receive_event\\ndata = self._network_stream.read(\\n^^^^^^^^^^^^^^^^^^^^^^^^^^\\nFile \"C:\\\\Users\\\\Anastasia\\\\projects\\\\gpt-researcher-eval\\\\.venv\\\\Lib\\\\site-packages\\\\httpcore\\\\_backends\\\\sync.py\", line 126, in read\\nwith map_exceptions(exc_map):\\nFile \"C:\\\\Users\\\\Anastasia\\\\AppData\\\\Roaming\\\\uv\\\\python\\\\cpython-3.11.11-windows-x86_64-none\\\\Lib\\\\contextlib.py\", line 158, in __exit__\\nself.gen.throw(typ, value, traceback)\\nFile \"C:\\\\Users\\\\Anastasia\\\\projects\\\\gpt-researcher-eval\\\\.venv\\\\Lib\\\\site-packages\\\\httpcore\\\\_exceptions.py\", line 14, in map_exceptions\\nraise to_exc(exc) from exc\\nhttpcore.ReadTimeout: The read operation timed out\\n\\nThe above exception was the direct cause of the following exception:\\n\\nTraceback (most recent call last):\\nFile \"C:\\\\Users\\\\Anastasia\\\\projects\\\\giga-gpt-researcher\\\\gpt_researcher\\\\skills\\\\researcher.py\", line 315, in _process_sub_query\\nawait self.researcher.context_manager.get_similar_content_by_query(\\nFile \"C:\\\\Users\\\\Anastasia\\\\projects\\\\giga-gpt-researcher\\\\gpt_researcher\\\\skills\\\\context_manager.py\", line 36, in get_similar_content_by_query\\nreturn await context_compressor.async_get_context(\\n^^^^^^^^^^^^^^^^^^^^^^^^^^^^^^^^^^^^^^^^^^^\\nFile \"C:\\\\Users\\\\Anastasia\\\\projects\\\\giga-gpt-researcher\\\\gpt_researcher\\\\context\\\\compression.py\", line 80, in async_get_context\\nrelevant_docs = await asyncio.to_thread(\\n^^^^^^^^^^^^^^^^^^^^^^^^\\nFile \"C:\\\\Users\\\\Anastasia\\\\AppData\\\\Roaming\\\\uv\\\\python\\\\cpython-3.11.11-windows-x86_64-none\\\\Lib\\\\asyncio\\\\threads.py\", line 25, in to_thread\\nreturn await loop.run_in_executor(None, func_call)\\n^^^^^^^^^^^^^^^^^^^^^^^^^^^^^^^^^^^^^^^^^^^\\nFile \"C:\\\\Users\\\\Anastasia\\\\AppData\\\\Roaming\\\\uv\\\\python\\\\cpython-3.11.11-windows-x86_64-none\\\\Lib\\\\concurrent\\\\futures\\\\thread.py\", line 58, in run\\nresult = self.fn(*self.args, **self.kwargs)\\n^^^^^^^^^^^^^^^^^^^^^^^^^^^^^^^^^^\\nFile \"C:\\\\Users\\\\Anastasia\\\\projects\\\\gpt-researcher-eval\\\\.venv\\\\Lib\\\\site-packages\\\\langchain_core\\\\retrievers.py\", line 259, in invoke\\nresult = self._get_relevant_documents(\\n^^^^^^^^^^^^^^^^^^^^^^^^^^^^^\\nFile \"C:\\\\Users\\\\Anastasia\\\\projects\\\\gpt-researcher-eval\\\\.venv\\\\Lib\\\\site-packages\\\\langchain\\\\retrievers\\\\contextual_compression.py\", line 48, in _get_relevant_documents\\ncompressed_docs = self.base_compressor.compress_documents(\\n^^^^^^^^^^^^^^^^^^^^^^^^^^^^^^^^^^^^^^^^\\nFile \"C:\\\\Users\\\\Anastasia\\\\projects\\\\gpt-researcher-eval\\\\.venv\\\\Lib\\\\site-packages\\\\langchain\\\\retrievers\\\\document_compressors\\\\base.py\", line 40, in compress_documents\\ndocuments = _transformer.compress_documents(\\n^^^^^^^^^^^^^^^^^^^^^^^^^^^^^^^^\\nFile \"C:\\\\Users\\\\Anastasia\\\\projects\\\\gpt-researcher-eval\\\\.venv\\\\Lib\\\\site-packages\\\\langchain\\\\retrievers\\\\document_compressors\\\\embeddings_filter.py\", line 80, in compress_documents\\nembedded_documents = _get_embeddings_from_stateful_docs(\\n^^^^^^^^^^^^^^^^^^^^^^^^^^^^^^^^^^^\\nFile \"C:\\\\Users\\\\Anastasia\\\\projects\\\\gpt-researcher-eval\\\\.venv\\\\Lib\\\\site-packages\\\\langchain_community\\\\document_transformers\\\\embeddings_redundant_filter.py\", line 71, in _get_embeddings_from_stateful_docs\\nembedded_documents = embeddings.embed_documents(\\n^^^^^^^^^^^^^^^^^^^^^^^^^^^\\nFile \"C:\\\\Users\\\\Anastasia\\\\projects\\\\gpt-researcher-eval\\\\.venv\\\\Lib\\\\site-packages\\\\langchain_gigachat\\\\embeddings\\\\gigachat.py\", line 134, in embed_documents\\nfor embedding in self._client.embeddings(\\n^^^^^^^^^^^^^^^^^^^^^^^^\\nFile \"C:\\\\Users\\\\Anastasia\\\\projects\\\\gpt-researcher-eval\\\\.venv\\\\Lib\\\\site-packages\\\\gigachat\\\\client.py\", line 272, in embeddings\\nreturn self._decorator(\\n^^^^^^^^^^^^^^^^\\nFile \"C:\\\\Users\\\\Anastasia\\\\projects\\\\gpt-researcher-eval\\\\.venv\\\\Lib\\\\site-packages\\\\gigachat\\\\client.py\", line 255, in _decorator\\nreturn call()\\n^^^^^^\\nFile \"C:\\\\Users\\\\Anastasia\\\\projects\\\\gpt-researcher-eval\\\\.venv\\\\Lib\\\\site-packages\\\\gigachat\\\\client.py\", line 273, in <lambda>\\nlambda: post_embeddings.sync(self._client, access_token=self.token, input_=texts, model=model)\\n^^^^^^^^^^^^^^^^^^^^^^^^^^^^^^^^^^^^^^^^^^^^^^^^^^^^^^^^^^^^^^^^^^^^^^^^^^^^^^^^^^^^^^\\nFile \"C:\\\\Users\\\\Anastasia\\\\projects\\\\gpt-researcher-eval\\\\.venv\\\\Lib\\\\site-packages\\\\gigachat\\\\api\\\\post_embeddings.py\", line 35, in sync\\nresponse = client.request(**kwargs)\\n^^^^^^^^^^^^^^^^^^^^^^^^\\nFile \"C:\\\\Users\\\\Anastasia\\\\projects\\\\gpt-researcher-eval\\\\.venv\\\\Lib\\\\site-packages\\\\httpx\\\\_client.py\", line 825, in request\\nreturn self.send(request, auth=auth, follow_redirects=follow_redirects)\\n^^^^^^^^^^^^^^^^^^^^^^^^^^^^^^^^^^^^^^^^^^^^^^^^^^^^^^^^^^^^^^^^\\nFile \"C:\\\\Users\\\\Anastasia\\\\projects\\\\gpt-researcher-eval\\\\.venv\\\\Lib\\\\site-packages\\\\httpx\\\\_client.py\", line 928, in send\\nraise exc\\nFile \"C:\\\\Users\\\\Anastasia\\\\projects\\\\gpt-researcher-eval\\\\.venv\\\\Lib\\\\site-packages\\\\httpx\\\\_client.py\", line 922, in send\\nresponse.read()\\nFile \"C:\\\\Users\\\\Anastasia\\\\projects\\\\gpt-researcher-eval\\\\.venv\\\\Lib\\\\site-packages\\\\httpx\\\\_models.py\", line 881, in read\\nself._content = b\"\".join(self.iter_bytes())\\n^^^^^^^^^^^^^^^^^^^^^^^^^^^\\nFile \"C:\\\\Users\\\\Anastasia\\\\projects\\\\gpt-researcher-eval\\\\.venv\\\\Lib\\\\site-packages\\\\httpx\\\\_models.py\", line 897, in iter_bytes\\nfor raw_bytes in self.iter_raw():\\nFile \"C:\\\\Users\\\\Anastasia\\\\projects\\\\gpt-researcher-eval\\\\.venv\\\\Lib\\\\site-packages\\\\httpx\\\\_models.py\", line 951, in iter_raw\\nfor raw_stream_bytes in self.stream:\\nFile \"C:\\\\Users\\\\Anastasia\\\\projects\\\\gpt-researcher-eval\\\\.venv\\\\Lib\\\\site-packages\\\\httpx\\\\_client.py\", line 153, in __iter__\\nfor chunk in self._stream:\\nFile \"C:\\\\Users\\\\Anastasia\\\\projects\\\\gpt-researcher-eval\\\\.venv\\\\Lib\\\\site-packages\\\\httpx\\\\_transports\\\\default.py\", line 126, in __iter__\\nwith map_httpcore_exceptions():\\nFile \"C:\\\\Users\\\\Anastasia\\\\AppData\\\\Roaming\\\\uv\\\\python\\\\cpython-3.11.11-windows-x86_64-none\\\\Lib\\\\contextlib.py\", line 158, in __exit__\\nself.gen.throw(typ, value, traceback)\\nFile \"C:\\\\Users\\\\Anastasia\\\\projects\\\\gpt-researcher-eval\\\\.venv\\\\Lib\\\\site-packages\\\\httpx\\\\_transports\\\\default.py\", line 118, in map_httpcore_exceptions\\nraise mapped_exc(message) from exc\\nhttpx.ReadTimeout: The read operation timed out',\n",
       "       'Error processing sub-query анализ развития боевых действий 2025-2030 модернизация вооруженных сил РФ: (URL(\\'https://gigachat.sberdevices.ru/v1/embeddings\\'), 500, b\\'{\"status\":500,\"message\":\"Internal Server Error\"}\\\\n\\', Headers({\\'server\\': \\'nginx\\', \\'date\\': \\'Mon, 16 Jun 2025 16:05:09 GMT\\', \\'content-type\\': \\'application/json; charset=utf-8\\', \\'content-length\\': \\'49\\', \\'connection\\': \\'keep-alive\\', \\'keep-alive\\': \\'timeout=15\\', \\'access-control-allow-credentials\\': \\'true\\', \\'access-control-allow-headers\\': \\'Origin, X-Requested-With, Content-Type, Accept, Authorization\\', \\'access-control-allow-methods\\': \\'GET, POST, DELETE, OPTIONS\\', \\'access-control-allow-origin\\': \\'https://beta.saluteai.sberdevices.ru\\', \\'x-request-id\\': \\'7b8be11d-2d0f-4841-a1df-f67a44727850\\', \\'x-session-id\\': \\'96151d02-a855-4d62-a4f3-3c8c78ccabcf\\', \\'x-sp-crid\\': \\'23238490046:1\\'}))\\nTraceback (most recent call last):\\nFile \"C:\\\\Users\\\\Anastasia\\\\projects\\\\giga-gpt-researcher\\\\gpt_researcher\\\\skills\\\\researcher.py\", line 315, in _process_sub_query\\nawait self.researcher.context_manager.get_similar_content_by_query(\\nFile \"C:\\\\Users\\\\Anastasia\\\\projects\\\\giga-gpt-researcher\\\\gpt_researcher\\\\skills\\\\context_manager.py\", line 36, in get_similar_content_by_query\\nreturn await context_compressor.async_get_context(\\n^^^^^^^^^^^^^^^^^^^^^^^^^^^^^^^^^^^^^^^^^^^\\nFile \"C:\\\\Users\\\\Anastasia\\\\projects\\\\giga-gpt-researcher\\\\gpt_researcher\\\\context\\\\compression.py\", line 80, in async_get_context\\nrelevant_docs = await asyncio.to_thread(\\n^^^^^^^^^^^^^^^^^^^^^^^^\\nFile \"C:\\\\Users\\\\Anastasia\\\\AppData\\\\Roaming\\\\uv\\\\python\\\\cpython-3.11.11-windows-x86_64-none\\\\Lib\\\\asyncio\\\\threads.py\", line 25, in to_thread\\nreturn await loop.run_in_executor(None, func_call)\\n^^^^^^^^^^^^^^^^^^^^^^^^^^^^^^^^^^^^^^^^^^^\\nFile \"C:\\\\Users\\\\Anastasia\\\\AppData\\\\Roaming\\\\uv\\\\python\\\\cpython-3.11.11-windows-x86_64-none\\\\Lib\\\\concurrent\\\\futures\\\\thread.py\", line 58, in run\\nresult = self.fn(*self.args, **self.kwargs)\\n^^^^^^^^^^^^^^^^^^^^^^^^^^^^^^^^^^\\nFile \"C:\\\\Users\\\\Anastasia\\\\projects\\\\gpt-researcher-eval\\\\.venv\\\\Lib\\\\site-packages\\\\langchain_core\\\\retrievers.py\", line 259, in invoke\\nresult = self._get_relevant_documents(\\n^^^^^^^^^^^^^^^^^^^^^^^^^^^^^\\nFile \"C:\\\\Users\\\\Anastasia\\\\projects\\\\gpt-researcher-eval\\\\.venv\\\\Lib\\\\site-packages\\\\langchain\\\\retrievers\\\\contextual_compression.py\", line 48, in _get_relevant_documents\\ncompressed_docs = self.base_compressor.compress_documents(\\n^^^^^^^^^^^^^^^^^^^^^^^^^^^^^^^^^^^^^^^^\\nFile \"C:\\\\Users\\\\Anastasia\\\\projects\\\\gpt-researcher-eval\\\\.venv\\\\Lib\\\\site-packages\\\\langchain\\\\retrievers\\\\document_compressors\\\\base.py\", line 40, in compress_documents\\ndocuments = _transformer.compress_documents(\\n^^^^^^^^^^^^^^^^^^^^^^^^^^^^^^^^\\nFile \"C:\\\\Users\\\\Anastasia\\\\projects\\\\gpt-researcher-eval\\\\.venv\\\\Lib\\\\site-packages\\\\langchain\\\\retrievers\\\\document_compressors\\\\embeddings_filter.py\", line 80, in compress_documents\\nembedded_documents = _get_embeddings_from_stateful_docs(\\n^^^^^^^^^^^^^^^^^^^^^^^^^^^^^^^^^^^\\nFile \"C:\\\\Users\\\\Anastasia\\\\projects\\\\gpt-researcher-eval\\\\.venv\\\\Lib\\\\site-packages\\\\langchain_community\\\\document_transformers\\\\embeddings_redundant_filter.py\", line 71, in _get_embeddings_from_stateful_docs\\nembedded_documents = embeddings.embed_documents(\\n^^^^^^^^^^^^^^^^^^^^^^^^^^^\\nFile \"C:\\\\Users\\\\Anastasia\\\\projects\\\\gpt-researcher-eval\\\\.venv\\\\Lib\\\\site-packages\\\\langchain_gigachat\\\\embeddings\\\\gigachat.py\", line 134, in embed_documents\\nfor embedding in self._client.embeddings(\\n^^^^^^^^^^^^^^^^^^^^^^^^\\nFile \"C:\\\\Users\\\\Anastasia\\\\projects\\\\gpt-researcher-eval\\\\.venv\\\\Lib\\\\site-packages\\\\gigachat\\\\client.py\", line 272, in embeddings\\nreturn self._decorator(\\n^^^^^^^^^^^^^^^^\\nFile \"C:\\\\Users\\\\Anastasia\\\\projects\\\\gpt-researcher-eval\\\\.venv\\\\Lib\\\\site-packages\\\\gigachat\\\\client.py\", line 255, in _decorator\\nreturn call()\\n^^^^^^\\nFile \"C:\\\\Users\\\\Anastasia\\\\projects\\\\gpt-researcher-eval\\\\.venv\\\\Lib\\\\site-packages\\\\gigachat\\\\client.py\", line 273, in <lambda>\\nlambda: post_embeddings.sync(self._client, access_token=self.token, input_=texts, model=model)\\n^^^^^^^^^^^^^^^^^^^^^^^^^^^^^^^^^^^^^^^^^^^^^^^^^^^^^^^^^^^^^^^^^^^^^^^^^^^^^^^^^^^^^^\\nFile \"C:\\\\Users\\\\Anastasia\\\\projects\\\\gpt-researcher-eval\\\\.venv\\\\Lib\\\\site-packages\\\\gigachat\\\\api\\\\post_embeddings.py\", line 36, in sync\\nreturn build_response(response, Embeddings)\\n^^^^^^^^^^^^^^^^^^^^^^^^^^^^^^^^^^^^\\nFile \"C:\\\\Users\\\\Anastasia\\\\projects\\\\gpt-researcher-eval\\\\.venv\\\\Lib\\\\site-packages\\\\gigachat\\\\api\\\\utils.py\", line 85, in build_response\\nraise ResponseError(response.url, response.status_code, response.content, response.headers)\\ngigachat.exceptions.ResponseError: (URL(\\'https://gigachat.sberdevices.ru/v1/embeddings\\'), 500, b\\'{\"status\":500,\"message\":\"Internal Server Error\"}\\\\n\\', Headers({\\'server\\': \\'nginx\\', \\'date\\': \\'Mon, 16 Jun 2025 16:05:09 GMT\\', \\'content-type\\': \\'application/json; charset=utf-8\\', \\'content-length\\': \\'49\\', \\'connection\\': \\'keep-alive\\', \\'keep-alive\\': \\'timeout=15\\', \\'access-control-allow-credentials\\': \\'true\\', \\'access-control-allow-headers\\': \\'Origin, X-Requested-With, Content-Type, Accept, Authorization\\', \\'access-control-allow-methods\\': \\'GET, POST, DELETE, OPTIONS\\', \\'access-control-allow-origin\\': \\'https://beta.saluteai.sberdevices.ru\\', \\'x-request-id\\': \\'7b8be11d-2d0f-4841-a1df-f67a44727850\\', \\'x-session-id\\': \\'96151d02-a855-4d62-a4f3-3c8c78ccabcf\\', \\'x-sp-crid\\': \\'23238490046:1\\'}))',\n",
       "       'Error processing sub-query Основные сценарии развития боевых действий до 2030 года: (URL(\\'https://gigachat.sberdevices.ru/v1/embeddings\\'), 500, b\\'{\"status\":500,\"message\":\"Internal Server Error\"}\\\\n\\', Headers({\\'server\\': \\'nginx\\', \\'date\\': \\'Mon, 16 Jun 2025 16:05:25 GMT\\', \\'content-type\\': \\'application/json; charset=utf-8\\', \\'content-length\\': \\'49\\', \\'connection\\': \\'keep-alive\\', \\'keep-alive\\': \\'timeout=15\\', \\'access-control-allow-credentials\\': \\'true\\', \\'access-control-allow-headers\\': \\'Origin, X-Requested-With, Content-Type, Accept, Authorization\\', \\'access-control-allow-methods\\': \\'GET, POST, DELETE, OPTIONS\\', \\'access-control-allow-origin\\': \\'https://beta.saluteai.sberdevices.ru\\', \\'x-request-id\\': \\'fa992187-42e9-4122-8b15-d17548722b19\\', \\'x-session-id\\': \\'14eb1023-2193-4a69-84db-2b0842b28f32\\', \\'x-sp-crid\\': \\'23016417161:1\\'}))\\nTraceback (most recent call last):\\nFile \"C:\\\\Users\\\\Anastasia\\\\projects\\\\giga-gpt-researcher\\\\gpt_researcher\\\\skills\\\\researcher.py\", line 315, in _process_sub_query\\nawait self.researcher.context_manager.get_similar_content_by_query(\\nFile \"C:\\\\Users\\\\Anastasia\\\\projects\\\\giga-gpt-researcher\\\\gpt_researcher\\\\skills\\\\context_manager.py\", line 36, in get_similar_content_by_query\\nreturn await context_compressor.async_get_context(\\n^^^^^^^^^^^^^^^^^^^^^^^^^^^^^^^^^^^^^^^^^^^\\nFile \"C:\\\\Users\\\\Anastasia\\\\projects\\\\giga-gpt-researcher\\\\gpt_researcher\\\\context\\\\compression.py\", line 80, in async_get_context\\nrelevant_docs = await asyncio.to_thread(\\n^^^^^^^^^^^^^^^^^^^^^^^^\\nFile \"C:\\\\Users\\\\Anastasia\\\\AppData\\\\Roaming\\\\uv\\\\python\\\\cpython-3.11.11-windows-x86_64-none\\\\Lib\\\\asyncio\\\\threads.py\", line 25, in to_thread\\nreturn await loop.run_in_executor(None, func_call)\\n^^^^^^^^^^^^^^^^^^^^^^^^^^^^^^^^^^^^^^^^^^^\\nFile \"C:\\\\Users\\\\Anastasia\\\\AppData\\\\Roaming\\\\uv\\\\python\\\\cpython-3.11.11-windows-x86_64-none\\\\Lib\\\\concurrent\\\\futures\\\\thread.py\", line 58, in run\\nresult = self.fn(*self.args, **self.kwargs)\\n^^^^^^^^^^^^^^^^^^^^^^^^^^^^^^^^^^\\nFile \"C:\\\\Users\\\\Anastasia\\\\projects\\\\gpt-researcher-eval\\\\.venv\\\\Lib\\\\site-packages\\\\langchain_core\\\\retrievers.py\", line 259, in invoke\\nresult = self._get_relevant_documents(\\n^^^^^^^^^^^^^^^^^^^^^^^^^^^^^\\nFile \"C:\\\\Users\\\\Anastasia\\\\projects\\\\gpt-researcher-eval\\\\.venv\\\\Lib\\\\site-packages\\\\langchain\\\\retrievers\\\\contextual_compression.py\", line 48, in _get_relevant_documents\\ncompressed_docs = self.base_compressor.compress_documents(\\n^^^^^^^^^^^^^^^^^^^^^^^^^^^^^^^^^^^^^^^^\\nFile \"C:\\\\Users\\\\Anastasia\\\\projects\\\\gpt-researcher-eval\\\\.venv\\\\Lib\\\\site-packages\\\\langchain\\\\retrievers\\\\document_compressors\\\\base.py\", line 40, in compress_documents\\ndocuments = _transformer.compress_documents(\\n^^^^^^^^^^^^^^^^^^^^^^^^^^^^^^^^\\nFile \"C:\\\\Users\\\\Anastasia\\\\projects\\\\gpt-researcher-eval\\\\.venv\\\\Lib\\\\site-packages\\\\langchain\\\\retrievers\\\\document_compressors\\\\embeddings_filter.py\", line 80, in compress_documents\\nembedded_documents = _get_embeddings_from_stateful_docs(\\n^^^^^^^^^^^^^^^^^^^^^^^^^^^^^^^^^^^\\nFile \"C:\\\\Users\\\\Anastasia\\\\projects\\\\gpt-researcher-eval\\\\.venv\\\\Lib\\\\site-packages\\\\langchain_community\\\\document_transformers\\\\embeddings_redundant_filter.py\", line 71, in _get_embeddings_from_stateful_docs\\nembedded_documents = embeddings.embed_documents(\\n^^^^^^^^^^^^^^^^^^^^^^^^^^^\\nFile \"C:\\\\Users\\\\Anastasia\\\\projects\\\\gpt-researcher-eval\\\\.venv\\\\Lib\\\\site-packages\\\\langchain_gigachat\\\\embeddings\\\\gigachat.py\", line 134, in embed_documents\\nfor embedding in self._client.embeddings(\\n^^^^^^^^^^^^^^^^^^^^^^^^\\nFile \"C:\\\\Users\\\\Anastasia\\\\projects\\\\gpt-researcher-eval\\\\.venv\\\\Lib\\\\site-packages\\\\gigachat\\\\client.py\", line 272, in embeddings\\nreturn self._decorator(\\n^^^^^^^^^^^^^^^^\\nFile \"C:\\\\Users\\\\Anastasia\\\\projects\\\\gpt-researcher-eval\\\\.venv\\\\Lib\\\\site-packages\\\\gigachat\\\\client.py\", line 255, in _decorator\\nreturn call()\\n^^^^^^\\nFile \"C:\\\\Users\\\\Anastasia\\\\projects\\\\gpt-researcher-eval\\\\.venv\\\\Lib\\\\site-packages\\\\gigachat\\\\client.py\", line 273, in <lambda>\\nlambda: post_embeddings.sync(self._client, access_token=self.token, input_=texts, model=model)\\n^^^^^^^^^^^^^^^^^^^^^^^^^^^^^^^^^^^^^^^^^^^^^^^^^^^^^^^^^^^^^^^^^^^^^^^^^^^^^^^^^^^^^^\\nFile \"C:\\\\Users\\\\Anastasia\\\\projects\\\\gpt-researcher-eval\\\\.venv\\\\Lib\\\\site-packages\\\\gigachat\\\\api\\\\post_embeddings.py\", line 36, in sync\\nreturn build_response(response, Embeddings)\\n^^^^^^^^^^^^^^^^^^^^^^^^^^^^^^^^^^^^\\nFile \"C:\\\\Users\\\\Anastasia\\\\projects\\\\gpt-researcher-eval\\\\.venv\\\\Lib\\\\site-packages\\\\gigachat\\\\api\\\\utils.py\", line 85, in build_response\\nraise ResponseError(response.url, response.status_code, response.content, response.headers)\\ngigachat.exceptions.ResponseError: (URL(\\'https://gigachat.sberdevices.ru/v1/embeddings\\'), 500, b\\'{\"status\":500,\"message\":\"Internal Server Error\"}\\\\n\\', Headers({\\'server\\': \\'nginx\\', \\'date\\': \\'Mon, 16 Jun 2025 16:05:25 GMT\\', \\'content-type\\': \\'application/json; charset=utf-8\\', \\'content-length\\': \\'49\\', \\'connection\\': \\'keep-alive\\', \\'keep-alive\\': \\'timeout=15\\', \\'access-control-allow-credentials\\': \\'true\\', \\'access-control-allow-headers\\': \\'Origin, X-Requested-With, Content-Type, Accept, Authorization\\', \\'access-control-allow-methods\\': \\'GET, POST, DELETE, OPTIONS\\', \\'access-control-allow-origin\\': \\'https://beta.saluteai.sberdevices.ru\\', \\'x-request-id\\': \\'fa992187-42e9-4122-8b15-d17548722b19\\', \\'x-session-id\\': \\'14eb1023-2193-4a69-84db-2b0842b28f32\\', \\'x-sp-crid\\': \\'23016417161:1\\'}))',\n",
       "       'Error processing sub-query Прогнозирование развития боевых действий после 2030 года: (URL(\\'https://gigachat.sberdevices.ru/v1/embeddings\\'), 500, b\\'{\"status\":500,\"message\":\"Internal Server Error\"}\\\\n\\', Headers({\\'server\\': \\'nginx\\', \\'date\\': \\'Mon, 16 Jun 2025 16:05:27 GMT\\', \\'content-type\\': \\'application/json; charset=utf-8\\', \\'content-length\\': \\'49\\', \\'connection\\': \\'keep-alive\\', \\'keep-alive\\': \\'timeout=15\\', \\'access-control-allow-credentials\\': \\'true\\', \\'access-control-allow-headers\\': \\'Origin, X-Requested-With, Content-Type, Accept, Authorization\\', \\'access-control-allow-methods\\': \\'GET, POST, DELETE, OPTIONS\\', \\'access-control-allow-origin\\': \\'https://beta.saluteai.sberdevices.ru\\', \\'x-request-id\\': \\'abd1994c-2506-4fe9-8876-389be3a3cf36\\', \\'x-session-id\\': \\'de31a525-7146-4df8-89d3-9ac8aca8ef0c\\', \\'x-sp-crid\\': \\'22937634302:1\\'}))\\nTraceback (most recent call last):\\nFile \"C:\\\\Users\\\\Anastasia\\\\projects\\\\giga-gpt-researcher\\\\gpt_researcher\\\\skills\\\\researcher.py\", line 315, in _process_sub_query\\nawait self.researcher.context_manager.get_similar_content_by_query(\\nFile \"C:\\\\Users\\\\Anastasia\\\\projects\\\\giga-gpt-researcher\\\\gpt_researcher\\\\skills\\\\context_manager.py\", line 36, in get_similar_content_by_query\\nreturn await context_compressor.async_get_context(\\n^^^^^^^^^^^^^^^^^^^^^^^^^^^^^^^^^^^^^^^^^^^\\nFile \"C:\\\\Users\\\\Anastasia\\\\projects\\\\giga-gpt-researcher\\\\gpt_researcher\\\\context\\\\compression.py\", line 80, in async_get_context\\nrelevant_docs = await asyncio.to_thread(\\n^^^^^^^^^^^^^^^^^^^^^^^^\\nFile \"C:\\\\Users\\\\Anastasia\\\\AppData\\\\Roaming\\\\uv\\\\python\\\\cpython-3.11.11-windows-x86_64-none\\\\Lib\\\\asyncio\\\\threads.py\", line 25, in to_thread\\nreturn await loop.run_in_executor(None, func_call)\\n^^^^^^^^^^^^^^^^^^^^^^^^^^^^^^^^^^^^^^^^^^^\\nFile \"C:\\\\Users\\\\Anastasia\\\\AppData\\\\Roaming\\\\uv\\\\python\\\\cpython-3.11.11-windows-x86_64-none\\\\Lib\\\\concurrent\\\\futures\\\\thread.py\", line 58, in run\\nresult = self.fn(*self.args, **self.kwargs)\\n^^^^^^^^^^^^^^^^^^^^^^^^^^^^^^^^^^\\nFile \"C:\\\\Users\\\\Anastasia\\\\projects\\\\gpt-researcher-eval\\\\.venv\\\\Lib\\\\site-packages\\\\langchain_core\\\\retrievers.py\", line 259, in invoke\\nresult = self._get_relevant_documents(\\n^^^^^^^^^^^^^^^^^^^^^^^^^^^^^\\nFile \"C:\\\\Users\\\\Anastasia\\\\projects\\\\gpt-researcher-eval\\\\.venv\\\\Lib\\\\site-packages\\\\langchain\\\\retrievers\\\\contextual_compression.py\", line 48, in _get_relevant_documents\\ncompressed_docs = self.base_compressor.compress_documents(\\n^^^^^^^^^^^^^^^^^^^^^^^^^^^^^^^^^^^^^^^^\\nFile \"C:\\\\Users\\\\Anastasia\\\\projects\\\\gpt-researcher-eval\\\\.venv\\\\Lib\\\\site-packages\\\\langchain\\\\retrievers\\\\document_compressors\\\\base.py\", line 40, in compress_documents\\ndocuments = _transformer.compress_documents(\\n^^^^^^^^^^^^^^^^^^^^^^^^^^^^^^^^\\nFile \"C:\\\\Users\\\\Anastasia\\\\projects\\\\gpt-researcher-eval\\\\.venv\\\\Lib\\\\site-packages\\\\langchain\\\\retrievers\\\\document_compressors\\\\embeddings_filter.py\", line 80, in compress_documents\\nembedded_documents = _get_embeddings_from_stateful_docs(\\n^^^^^^^^^^^^^^^^^^^^^^^^^^^^^^^^^^^\\nFile \"C:\\\\Users\\\\Anastasia\\\\projects\\\\gpt-researcher-eval\\\\.venv\\\\Lib\\\\site-packages\\\\langchain_community\\\\document_transformers\\\\embeddings_redundant_filter.py\", line 71, in _get_embeddings_from_stateful_docs\\nembedded_documents = embeddings.embed_documents(\\n^^^^^^^^^^^^^^^^^^^^^^^^^^^\\nFile \"C:\\\\Users\\\\Anastasia\\\\projects\\\\gpt-researcher-eval\\\\.venv\\\\Lib\\\\site-packages\\\\langchain_gigachat\\\\embeddings\\\\gigachat.py\", line 134, in embed_documents\\nfor embedding in self._client.embeddings(\\n^^^^^^^^^^^^^^^^^^^^^^^^\\nFile \"C:\\\\Users\\\\Anastasia\\\\projects\\\\gpt-researcher-eval\\\\.venv\\\\Lib\\\\site-packages\\\\gigachat\\\\client.py\", line 272, in embeddings\\nreturn self._decorator(\\n^^^^^^^^^^^^^^^^\\nFile \"C:\\\\Users\\\\Anastasia\\\\projects\\\\gpt-researcher-eval\\\\.venv\\\\Lib\\\\site-packages\\\\gigachat\\\\client.py\", line 255, in _decorator\\nreturn call()\\n^^^^^^\\nFile \"C:\\\\Users\\\\Anastasia\\\\projects\\\\gpt-researcher-eval\\\\.venv\\\\Lib\\\\site-packages\\\\gigachat\\\\client.py\", line 273, in <lambda>\\nlambda: post_embeddings.sync(self._client, access_token=self.token, input_=texts, model=model)\\n^^^^^^^^^^^^^^^^^^^^^^^^^^^^^^^^^^^^^^^^^^^^^^^^^^^^^^^^^^^^^^^^^^^^^^^^^^^^^^^^^^^^^^\\nFile \"C:\\\\Users\\\\Anastasia\\\\projects\\\\gpt-researcher-eval\\\\.venv\\\\Lib\\\\site-packages\\\\gigachat\\\\api\\\\post_embeddings.py\", line 36, in sync\\nreturn build_response(response, Embeddings)\\n^^^^^^^^^^^^^^^^^^^^^^^^^^^^^^^^^^^^\\nFile \"C:\\\\Users\\\\Anastasia\\\\projects\\\\gpt-researcher-eval\\\\.venv\\\\Lib\\\\site-packages\\\\gigachat\\\\api\\\\utils.py\", line 85, in build_response\\nraise ResponseError(response.url, response.status_code, response.content, response.headers)\\ngigachat.exceptions.ResponseError: (URL(\\'https://gigachat.sberdevices.ru/v1/embeddings\\'), 500, b\\'{\"status\":500,\"message\":\"Internal Server Error\"}\\\\n\\', Headers({\\'server\\': \\'nginx\\', \\'date\\': \\'Mon, 16 Jun 2025 16:05:27 GMT\\', \\'content-type\\': \\'application/json; charset=utf-8\\', \\'content-length\\': \\'49\\', \\'connection\\': \\'keep-alive\\', \\'keep-alive\\': \\'timeout=15\\', \\'access-control-allow-credentials\\': \\'true\\', \\'access-control-allow-headers\\': \\'Origin, X-Requested-With, Content-Type, Accept, Authorization\\', \\'access-control-allow-methods\\': \\'GET, POST, DELETE, OPTIONS\\', \\'access-control-allow-origin\\': \\'https://beta.saluteai.sberdevices.ru\\', \\'x-request-id\\': \\'abd1994c-2506-4fe9-8876-389be3a3cf36\\', \\'x-session-id\\': \\'de31a525-7146-4df8-89d3-9ac8aca8ef0c\\', \\'x-sp-crid\\': \\'22937634302:1\\'}))',\n",
       "       'Error processing sub-query Направления модернизации российских вооруженных сил на период 2025-2030 гг.: (URL(\\'https://gigachat.sberdevices.ru/v1/embeddings\\'), 500, b\\'{\"status\":500,\"message\":\"Internal Server Error\"}\\\\n\\', Headers({\\'server\\': \\'nginx\\', \\'date\\': \\'Mon, 16 Jun 2025 16:05:34 GMT\\', \\'content-type\\': \\'application/json; charset=utf-8\\', \\'content-length\\': \\'49\\', \\'connection\\': \\'keep-alive\\', \\'keep-alive\\': \\'timeout=15\\', \\'access-control-allow-credentials\\': \\'true\\', \\'access-control-allow-headers\\': \\'Origin, X-Requested-With, Content-Type, Accept, Authorization\\', \\'access-control-allow-methods\\': \\'GET, POST, DELETE, OPTIONS\\', \\'access-control-allow-origin\\': \\'https://beta.saluteai.sberdevices.ru\\', \\'x-request-id\\': \\'449fea2c-9fd6-4e72-a80e-c32c75cb674c\\', \\'x-session-id\\': \\'f5d57617-5da2-420b-8843-3f31a5aef2da\\', \\'x-sp-crid\\': \\'20530955495:3\\'}))\\nTraceback (most recent call last):\\nFile \"C:\\\\Users\\\\Anastasia\\\\projects\\\\giga-gpt-researcher\\\\gpt_researcher\\\\skills\\\\researcher.py\", line 315, in _process_sub_query\\nawait self.researcher.context_manager.get_similar_content_by_query(\\nFile \"C:\\\\Users\\\\Anastasia\\\\projects\\\\giga-gpt-researcher\\\\gpt_researcher\\\\skills\\\\context_manager.py\", line 36, in get_similar_content_by_query\\nreturn await context_compressor.async_get_context(\\n^^^^^^^^^^^^^^^^^^^^^^^^^^^^^^^^^^^^^^^^^^^\\nFile \"C:\\\\Users\\\\Anastasia\\\\projects\\\\giga-gpt-researcher\\\\gpt_researcher\\\\context\\\\compression.py\", line 80, in async_get_context\\nrelevant_docs = await asyncio.to_thread(\\n^^^^^^^^^^^^^^^^^^^^^^^^\\nFile \"C:\\\\Users\\\\Anastasia\\\\AppData\\\\Roaming\\\\uv\\\\python\\\\cpython-3.11.11-windows-x86_64-none\\\\Lib\\\\asyncio\\\\threads.py\", line 25, in to_thread\\nreturn await loop.run_in_executor(None, func_call)\\n^^^^^^^^^^^^^^^^^^^^^^^^^^^^^^^^^^^^^^^^^^^\\nFile \"C:\\\\Users\\\\Anastasia\\\\AppData\\\\Roaming\\\\uv\\\\python\\\\cpython-3.11.11-windows-x86_64-none\\\\Lib\\\\concurrent\\\\futures\\\\thread.py\", line 58, in run\\nresult = self.fn(*self.args, **self.kwargs)\\n^^^^^^^^^^^^^^^^^^^^^^^^^^^^^^^^^^\\nFile \"C:\\\\Users\\\\Anastasia\\\\projects\\\\gpt-researcher-eval\\\\.venv\\\\Lib\\\\site-packages\\\\langchain_core\\\\retrievers.py\", line 259, in invoke\\nresult = self._get_relevant_documents(\\n^^^^^^^^^^^^^^^^^^^^^^^^^^^^^\\nFile \"C:\\\\Users\\\\Anastasia\\\\projects\\\\gpt-researcher-eval\\\\.venv\\\\Lib\\\\site-packages\\\\langchain\\\\retrievers\\\\contextual_compression.py\", line 48, in _get_relevant_documents\\ncompressed_docs = self.base_compressor.compress_documents(\\n^^^^^^^^^^^^^^^^^^^^^^^^^^^^^^^^^^^^^^^^\\nFile \"C:\\\\Users\\\\Anastasia\\\\projects\\\\gpt-researcher-eval\\\\.venv\\\\Lib\\\\site-packages\\\\langchain\\\\retrievers\\\\document_compressors\\\\base.py\", line 40, in compress_documents\\ndocuments = _transformer.compress_documents(\\n^^^^^^^^^^^^^^^^^^^^^^^^^^^^^^^^\\nFile \"C:\\\\Users\\\\Anastasia\\\\projects\\\\gpt-researcher-eval\\\\.venv\\\\Lib\\\\site-packages\\\\langchain\\\\retrievers\\\\document_compressors\\\\embeddings_filter.py\", line 83, in compress_documents\\nembedded_query = self.embeddings.embed_query(query)\\n^^^^^^^^^^^^^^^^^^^^^^^^^^^^^^^^^^\\nFile \"C:\\\\Users\\\\Anastasia\\\\projects\\\\gpt-researcher-eval\\\\.venv\\\\Lib\\\\site-packages\\\\langchain_gigachat\\\\embeddings\\\\gigachat.py\", line 196, in embed_query\\nreturn self.embed_documents(texts=[text])[0]\\n^^^^^^^^^^^^^^^^^^^^^^^^^^^^^^^^^^\\nFile \"C:\\\\Users\\\\Anastasia\\\\projects\\\\gpt-researcher-eval\\\\.venv\\\\Lib\\\\site-packages\\\\langchain_gigachat\\\\embeddings\\\\gigachat.py\", line 142, in embed_documents\\nfor embedding in self._client.embeddings(\\n^^^^^^^^^^^^^^^^^^^^^^^^\\nFile \"C:\\\\Users\\\\Anastasia\\\\projects\\\\gpt-researcher-eval\\\\.venv\\\\Lib\\\\site-packages\\\\gigachat\\\\client.py\", line 272, in embeddings\\nreturn self._decorator(\\n^^^^^^^^^^^^^^^^\\nFile \"C:\\\\Users\\\\Anastasia\\\\projects\\\\gpt-researcher-eval\\\\.venv\\\\Lib\\\\site-packages\\\\gigachat\\\\client.py\", line 255, in _decorator\\nreturn call()\\n^^^^^^\\nFile \"C:\\\\Users\\\\Anastasia\\\\projects\\\\gpt-researcher-eval\\\\.venv\\\\Lib\\\\site-packages\\\\gigachat\\\\client.py\", line 273, in <lambda>\\nlambda: post_embeddings.sync(self._client, access_token=self.token, input_=texts, model=model)\\n^^^^^^^^^^^^^^^^^^^^^^^^^^^^^^^^^^^^^^^^^^^^^^^^^^^^^^^^^^^^^^^^^^^^^^^^^^^^^^^^^^^^^^\\nFile \"C:\\\\Users\\\\Anastasia\\\\projects\\\\gpt-researcher-eval\\\\.venv\\\\Lib\\\\site-packages\\\\gigachat\\\\api\\\\post_embeddings.py\", line 36, in sync\\nreturn build_response(response, Embeddings)\\n^^^^^^^^^^^^^^^^^^^^^^^^^^^^^^^^^^^^\\nFile \"C:\\\\Users\\\\Anastasia\\\\projects\\\\gpt-researcher-eval\\\\.venv\\\\Lib\\\\site-packages\\\\gigachat\\\\api\\\\utils.py\", line 85, in build_response\\nraise ResponseError(response.url, response.status_code, response.content, response.headers)\\ngigachat.exceptions.ResponseError: (URL(\\'https://gigachat.sberdevices.ru/v1/embeddings\\'), 500, b\\'{\"status\":500,\"message\":\"Internal Server Error\"}\\\\n\\', Headers({\\'server\\': \\'nginx\\', \\'date\\': \\'Mon, 16 Jun 2025 16:05:34 GMT\\', \\'content-type\\': \\'application/json; charset=utf-8\\', \\'content-length\\': \\'49\\', \\'connection\\': \\'keep-alive\\', \\'keep-alive\\': \\'timeout=15\\', \\'access-control-allow-credentials\\': \\'true\\', \\'access-control-allow-headers\\': \\'Origin, X-Requested-With, Content-Type, Accept, Authorization\\', \\'access-control-allow-methods\\': \\'GET, POST, DELETE, OPTIONS\\', \\'access-control-allow-origin\\': \\'https://beta.saluteai.sberdevices.ru\\', \\'x-request-id\\': \\'449fea2c-9fd6-4e72-a80e-c32c75cb674c\\', \\'x-session-id\\': \\'f5d57617-5da2-420b-8843-3f31a5aef2da\\', \\'x-sp-crid\\': \\'20530955495:3\\'}))',\n",
       "       'Error processing sub-query Анализ возможных конфликтов и угроз безопасности РФ до 2030 года: (URL(\\'https://gigachat.sberdevices.ru/v1/embeddings\\'), 500, b\\'{\"status\":500,\"message\":\"Internal Server Error\"}\\\\n\\', Headers({\\'server\\': \\'nginx\\', \\'date\\': \\'Mon, 16 Jun 2025 16:06:23 GMT\\', \\'content-type\\': \\'application/json; charset=utf-8\\', \\'content-length\\': \\'49\\', \\'connection\\': \\'keep-alive\\', \\'keep-alive\\': \\'timeout=15\\', \\'access-control-allow-credentials\\': \\'true\\', \\'access-control-allow-headers\\': \\'Origin, X-Requested-With, Content-Type, Accept, Authorization\\', \\'access-control-allow-methods\\': \\'GET, POST, DELETE, OPTIONS\\', \\'access-control-allow-origin\\': \\'https://beta.saluteai.sberdevices.ru\\', \\'x-request-id\\': \\'b4f12274-5409-44e5-ba02-0b9ad87ba251\\', \\'x-session-id\\': \\'374915d2-1da0-43a0-9210-da20199ade80\\', \\'x-sp-crid\\': \\'17705888439:1\\'}))\\nTraceback (most recent call last):\\nFile \"C:\\\\Users\\\\Anastasia\\\\projects\\\\giga-gpt-researcher\\\\gpt_researcher\\\\skills\\\\researcher.py\", line 315, in _process_sub_query\\nawait self.researcher.context_manager.get_similar_content_by_query(\\nFile \"C:\\\\Users\\\\Anastasia\\\\projects\\\\giga-gpt-researcher\\\\gpt_researcher\\\\skills\\\\context_manager.py\", line 36, in get_similar_content_by_query\\nreturn await context_compressor.async_get_context(\\n^^^^^^^^^^^^^^^^^^^^^^^^^^^^^^^^^^^^^^^^^^^\\nFile \"C:\\\\Users\\\\Anastasia\\\\projects\\\\giga-gpt-researcher\\\\gpt_researcher\\\\context\\\\compression.py\", line 80, in async_get_context\\nrelevant_docs = await asyncio.to_thread(\\n^^^^^^^^^^^^^^^^^^^^^^^^\\nFile \"C:\\\\Users\\\\Anastasia\\\\AppData\\\\Roaming\\\\uv\\\\python\\\\cpython-3.11.11-windows-x86_64-none\\\\Lib\\\\asyncio\\\\threads.py\", line 25, in to_thread\\nreturn await loop.run_in_executor(None, func_call)\\n^^^^^^^^^^^^^^^^^^^^^^^^^^^^^^^^^^^^^^^^^^^\\nFile \"C:\\\\Users\\\\Anastasia\\\\AppData\\\\Roaming\\\\uv\\\\python\\\\cpython-3.11.11-windows-x86_64-none\\\\Lib\\\\concurrent\\\\futures\\\\thread.py\", line 58, in run\\nresult = self.fn(*self.args, **self.kwargs)\\n^^^^^^^^^^^^^^^^^^^^^^^^^^^^^^^^^^\\nFile \"C:\\\\Users\\\\Anastasia\\\\projects\\\\gpt-researcher-eval\\\\.venv\\\\Lib\\\\site-packages\\\\langchain_core\\\\retrievers.py\", line 259, in invoke\\nresult = self._get_relevant_documents(\\n^^^^^^^^^^^^^^^^^^^^^^^^^^^^^\\nFile \"C:\\\\Users\\\\Anastasia\\\\projects\\\\gpt-researcher-eval\\\\.venv\\\\Lib\\\\site-packages\\\\langchain\\\\retrievers\\\\contextual_compression.py\", line 48, in _get_relevant_documents\\ncompressed_docs = self.base_compressor.compress_documents(\\n^^^^^^^^^^^^^^^^^^^^^^^^^^^^^^^^^^^^^^^^\\nFile \"C:\\\\Users\\\\Anastasia\\\\projects\\\\gpt-researcher-eval\\\\.venv\\\\Lib\\\\site-packages\\\\langchain\\\\retrievers\\\\document_compressors\\\\base.py\", line 40, in compress_documents\\ndocuments = _transformer.compress_documents(\\n^^^^^^^^^^^^^^^^^^^^^^^^^^^^^^^^\\nFile \"C:\\\\Users\\\\Anastasia\\\\projects\\\\gpt-researcher-eval\\\\.venv\\\\Lib\\\\site-packages\\\\langchain\\\\retrievers\\\\document_compressors\\\\embeddings_filter.py\", line 80, in compress_documents\\nembedded_documents = _get_embeddings_from_stateful_docs(\\n^^^^^^^^^^^^^^^^^^^^^^^^^^^^^^^^^^^\\nFile \"C:\\\\Users\\\\Anastasia\\\\projects\\\\gpt-researcher-eval\\\\.venv\\\\Lib\\\\site-packages\\\\langchain_community\\\\document_transformers\\\\embeddings_redundant_filter.py\", line 71, in _get_embeddings_from_stateful_docs\\nembedded_documents = embeddings.embed_documents(\\n^^^^^^^^^^^^^^^^^^^^^^^^^^^\\nFile \"C:\\\\Users\\\\Anastasia\\\\projects\\\\gpt-researcher-eval\\\\.venv\\\\Lib\\\\site-packages\\\\langchain_gigachat\\\\embeddings\\\\gigachat.py\", line 134, in embed_documents\\nfor embedding in self._client.embeddings(\\n^^^^^^^^^^^^^^^^^^^^^^^^\\nFile \"C:\\\\Users\\\\Anastasia\\\\projects\\\\gpt-researcher-eval\\\\.venv\\\\Lib\\\\site-packages\\\\gigachat\\\\client.py\", line 272, in embeddings\\nreturn self._decorator(\\n^^^^^^^^^^^^^^^^\\nFile \"C:\\\\Users\\\\Anastasia\\\\projects\\\\gpt-researcher-eval\\\\.venv\\\\Lib\\\\site-packages\\\\gigachat\\\\client.py\", line 255, in _decorator\\nreturn call()\\n^^^^^^\\nFile \"C:\\\\Users\\\\Anastasia\\\\projects\\\\gpt-researcher-eval\\\\.venv\\\\Lib\\\\site-packages\\\\gigachat\\\\client.py\", line 273, in <lambda>\\nlambda: post_embeddings.sync(self._client, access_token=self.token, input_=texts, model=model)\\n^^^^^^^^^^^^^^^^^^^^^^^^^^^^^^^^^^^^^^^^^^^^^^^^^^^^^^^^^^^^^^^^^^^^^^^^^^^^^^^^^^^^^^\\nFile \"C:\\\\Users\\\\Anastasia\\\\projects\\\\gpt-researcher-eval\\\\.venv\\\\Lib\\\\site-packages\\\\gigachat\\\\api\\\\post_embeddings.py\", line 36, in sync\\nreturn build_response(response, Embeddings)\\n^^^^^^^^^^^^^^^^^^^^^^^^^^^^^^^^^^^^\\nFile \"C:\\\\Users\\\\Anastasia\\\\projects\\\\gpt-researcher-eval\\\\.venv\\\\Lib\\\\site-packages\\\\gigachat\\\\api\\\\utils.py\", line 85, in build_response\\nraise ResponseError(response.url, response.status_code, response.content, response.headers)\\ngigachat.exceptions.ResponseError: (URL(\\'https://gigachat.sberdevices.ru/v1/embeddings\\'), 500, b\\'{\"status\":500,\"message\":\"Internal Server Error\"}\\\\n\\', Headers({\\'server\\': \\'nginx\\', \\'date\\': \\'Mon, 16 Jun 2025 16:06:23 GMT\\', \\'content-type\\': \\'application/json; charset=utf-8\\', \\'content-length\\': \\'49\\', \\'connection\\': \\'keep-alive\\', \\'keep-alive\\': \\'timeout=15\\', \\'access-control-allow-credentials\\': \\'true\\', \\'access-control-allow-headers\\': \\'Origin, X-Requested-With, Content-Type, Accept, Authorization\\', \\'access-control-allow-methods\\': \\'GET, POST, DELETE, OPTIONS\\', \\'access-control-allow-origin\\': \\'https://beta.saluteai.sberdevices.ru\\', \\'x-request-id\\': \\'b4f12274-5409-44e5-ba02-0b9ad87ba251\\', \\'x-session-id\\': \\'374915d2-1da0-43a0-9210-da20199ade80\\', \\'x-sp-crid\\': \\'17705888439:1\\'}))',\n",
       "       'Error processing sub-query Рекомендации по технологическим, организационным и кадровым изменениям для внедрения ИИ в ВС: (URL(\\'https://gigachat.sberdevices.ru/v1/embeddings\\'), 500, b\\'{\"status\":500,\"message\":\"Internal Server Error\"}\\\\n\\', Headers({\\'server\\': \\'nginx\\', \\'date\\': \\'Mon, 16 Jun 2025 16:08:54 GMT\\', \\'content-type\\': \\'application/json; charset=utf-8\\', \\'content-length\\': \\'49\\', \\'connection\\': \\'keep-alive\\', \\'keep-alive\\': \\'timeout=15\\', \\'access-control-allow-credentials\\': \\'true\\', \\'access-control-allow-headers\\': \\'Origin, X-Requested-With, Content-Type, Accept, Authorization\\', \\'access-control-allow-methods\\': \\'GET, POST, DELETE, OPTIONS\\', \\'access-control-allow-origin\\': \\'https://beta.saluteai.sberdevices.ru\\', \\'x-request-id\\': \\'06267721-418b-47aa-bde6-05e67021e36d\\', \\'x-session-id\\': \\'c72bbd11-000a-4f15-92a1-afe0b8f2cbae\\', \\'x-sp-crid\\': \\'23159878065:2\\'}))\\nTraceback (most recent call last):\\nFile \"C:\\\\Users\\\\Anastasia\\\\projects\\\\giga-gpt-researcher\\\\gpt_researcher\\\\skills\\\\researcher.py\", line 315, in _process_sub_query\\nawait self.researcher.context_manager.get_similar_content_by_query(\\nFile \"C:\\\\Users\\\\Anastasia\\\\projects\\\\giga-gpt-researcher\\\\gpt_researcher\\\\skills\\\\context_manager.py\", line 36, in get_similar_content_by_query\\nreturn await context_compressor.async_get_context(\\n^^^^^^^^^^^^^^^^^^^^^^^^^^^^^^^^^^^^^^^^^^^\\nFile \"C:\\\\Users\\\\Anastasia\\\\projects\\\\giga-gpt-researcher\\\\gpt_researcher\\\\context\\\\compression.py\", line 80, in async_get_context\\nrelevant_docs = await asyncio.to_thread(\\n^^^^^^^^^^^^^^^^^^^^^^^^\\nFile \"C:\\\\Users\\\\Anastasia\\\\AppData\\\\Roaming\\\\uv\\\\python\\\\cpython-3.11.11-windows-x86_64-none\\\\Lib\\\\asyncio\\\\threads.py\", line 25, in to_thread\\nreturn await loop.run_in_executor(None, func_call)\\n^^^^^^^^^^^^^^^^^^^^^^^^^^^^^^^^^^^^^^^^^^^\\nFile \"C:\\\\Users\\\\Anastasia\\\\AppData\\\\Roaming\\\\uv\\\\python\\\\cpython-3.11.11-windows-x86_64-none\\\\Lib\\\\concurrent\\\\futures\\\\thread.py\", line 58, in run\\nresult = self.fn(*self.args, **self.kwargs)\\n^^^^^^^^^^^^^^^^^^^^^^^^^^^^^^^^^^\\nFile \"C:\\\\Users\\\\Anastasia\\\\projects\\\\gpt-researcher-eval\\\\.venv\\\\Lib\\\\site-packages\\\\langchain_core\\\\retrievers.py\", line 259, in invoke\\nresult = self._get_relevant_documents(\\n^^^^^^^^^^^^^^^^^^^^^^^^^^^^^\\nFile \"C:\\\\Users\\\\Anastasia\\\\projects\\\\gpt-researcher-eval\\\\.venv\\\\Lib\\\\site-packages\\\\langchain\\\\retrievers\\\\contextual_compression.py\", line 48, in _get_relevant_documents\\ncompressed_docs = self.base_compressor.compress_documents(\\n^^^^^^^^^^^^^^^^^^^^^^^^^^^^^^^^^^^^^^^^\\nFile \"C:\\\\Users\\\\Anastasia\\\\projects\\\\gpt-researcher-eval\\\\.venv\\\\Lib\\\\site-packages\\\\langchain\\\\retrievers\\\\document_compressors\\\\base.py\", line 40, in compress_documents\\ndocuments = _transformer.compress_documents(\\n^^^^^^^^^^^^^^^^^^^^^^^^^^^^^^^^\\nFile \"C:\\\\Users\\\\Anastasia\\\\projects\\\\gpt-researcher-eval\\\\.venv\\\\Lib\\\\site-packages\\\\langchain\\\\retrievers\\\\document_compressors\\\\embeddings_filter.py\", line 80, in compress_documents\\nembedded_documents = _get_embeddings_from_stateful_docs(\\n^^^^^^^^^^^^^^^^^^^^^^^^^^^^^^^^^^^\\nFile \"C:\\\\Users\\\\Anastasia\\\\projects\\\\gpt-researcher-eval\\\\.venv\\\\Lib\\\\site-packages\\\\langchain_community\\\\document_transformers\\\\embeddings_redundant_filter.py\", line 71, in _get_embeddings_from_stateful_docs\\nembedded_documents = embeddings.embed_documents(\\n^^^^^^^^^^^^^^^^^^^^^^^^^^^\\nFile \"C:\\\\Users\\\\Anastasia\\\\projects\\\\gpt-researcher-eval\\\\.venv\\\\Lib\\\\site-packages\\\\langchain_gigachat\\\\embeddings\\\\gigachat.py\", line 134, in embed_documents\\nfor embedding in self._client.embeddings(\\n^^^^^^^^^^^^^^^^^^^^^^^^\\nFile \"C:\\\\Users\\\\Anastasia\\\\projects\\\\gpt-researcher-eval\\\\.venv\\\\Lib\\\\site-packages\\\\gigachat\\\\client.py\", line 272, in embeddings\\nreturn self._decorator(\\n^^^^^^^^^^^^^^^^\\nFile \"C:\\\\Users\\\\Anastasia\\\\projects\\\\gpt-researcher-eval\\\\.venv\\\\Lib\\\\site-packages\\\\gigachat\\\\client.py\", line 255, in _decorator\\nreturn call()\\n^^^^^^\\nFile \"C:\\\\Users\\\\Anastasia\\\\projects\\\\gpt-researcher-eval\\\\.venv\\\\Lib\\\\site-packages\\\\gigachat\\\\client.py\", line 273, in <lambda>\\nlambda: post_embeddings.sync(self._client, access_token=self.token, input_=texts, model=model)\\n^^^^^^^^^^^^^^^^^^^^^^^^^^^^^^^^^^^^^^^^^^^^^^^^^^^^^^^^^^^^^^^^^^^^^^^^^^^^^^^^^^^^^^\\nFile \"C:\\\\Users\\\\Anastasia\\\\projects\\\\gpt-researcher-eval\\\\.venv\\\\Lib\\\\site-packages\\\\gigachat\\\\api\\\\post_embeddings.py\", line 36, in sync\\nreturn build_response(response, Embeddings)\\n^^^^^^^^^^^^^^^^^^^^^^^^^^^^^^^^^^^^\\nFile \"C:\\\\Users\\\\Anastasia\\\\projects\\\\gpt-researcher-eval\\\\.venv\\\\Lib\\\\site-packages\\\\gigachat\\\\api\\\\utils.py\", line 85, in build_response\\nraise ResponseError(response.url, response.status_code, response.content, response.headers)\\ngigachat.exceptions.ResponseError: (URL(\\'https://gigachat.sberdevices.ru/v1/embeddings\\'), 500, b\\'{\"status\":500,\"message\":\"Internal Server Error\"}\\\\n\\', Headers({\\'server\\': \\'nginx\\', \\'date\\': \\'Mon, 16 Jun 2025 16:08:54 GMT\\', \\'content-type\\': \\'application/json; charset=utf-8\\', \\'content-length\\': \\'49\\', \\'connection\\': \\'keep-alive\\', \\'keep-alive\\': \\'timeout=15\\', \\'access-control-allow-credentials\\': \\'true\\', \\'access-control-allow-headers\\': \\'Origin, X-Requested-With, Content-Type, Accept, Authorization\\', \\'access-control-allow-methods\\': \\'GET, POST, DELETE, OPTIONS\\', \\'access-control-allow-origin\\': \\'https://beta.saluteai.sberdevices.ru\\', \\'x-request-id\\': \\'06267721-418b-47aa-bde6-05e67021e36d\\', \\'x-session-id\\': \\'c72bbd11-000a-4f15-92a1-afe0b8f2cbae\\', \\'x-sp-crid\\': \\'23159878065:2\\'}))',\n",
       "       'Error processing sub-query Основные барьеры внедрения искусственного интеллекта в армии разных стран 2025: (URL(\\'https://gigachat.sberdevices.ru/v1/embeddings\\'), 500, b\\'{\"status\":500,\"message\":\"Internal Server Error\"}\\\\n\\', Headers({\\'server\\': \\'nginx\\', \\'date\\': \\'Mon, 16 Jun 2025 16:12:16 GMT\\', \\'content-type\\': \\'application/json; charset=utf-8\\', \\'content-length\\': \\'49\\', \\'connection\\': \\'keep-alive\\', \\'keep-alive\\': \\'timeout=15\\', \\'access-control-allow-credentials\\': \\'true\\', \\'access-control-allow-headers\\': \\'Origin, X-Requested-With, Content-Type, Accept, Authorization\\', \\'access-control-allow-methods\\': \\'GET, POST, DELETE, OPTIONS\\', \\'access-control-allow-origin\\': \\'https://beta.saluteai.sberdevices.ru\\', \\'x-request-id\\': \\'c5d2a1c0-e355-4f79-97c3-08b3079cee94\\', \\'x-session-id\\': \\'d760c615-6987-423e-b42a-84bb0b01fc81\\', \\'x-sp-crid\\': \\'23161375158:3\\'}))\\nTraceback (most recent call last):\\nFile \"C:\\\\Users\\\\Anastasia\\\\projects\\\\giga-gpt-researcher\\\\gpt_researcher\\\\skills\\\\researcher.py\", line 315, in _process_sub_query\\nawait self.researcher.context_manager.get_similar_content_by_query(\\nFile \"C:\\\\Users\\\\Anastasia\\\\projects\\\\giga-gpt-researcher\\\\gpt_researcher\\\\skills\\\\context_manager.py\", line 36, in get_similar_content_by_query\\nreturn await context_compressor.async_get_context(\\n^^^^^^^^^^^^^^^^^^^^^^^^^^^^^^^^^^^^^^^^^^^\\nFile \"C:\\\\Users\\\\Anastasia\\\\projects\\\\giga-gpt-researcher\\\\gpt_researcher\\\\context\\\\compression.py\", line 80, in async_get_context\\nrelevant_docs = await asyncio.to_thread(\\n^^^^^^^^^^^^^^^^^^^^^^^^\\nFile \"C:\\\\Users\\\\Anastasia\\\\AppData\\\\Roaming\\\\uv\\\\python\\\\cpython-3.11.11-windows-x86_64-none\\\\Lib\\\\asyncio\\\\threads.py\", line 25, in to_thread\\nreturn await loop.run_in_executor(None, func_call)\\n^^^^^^^^^^^^^^^^^^^^^^^^^^^^^^^^^^^^^^^^^^^\\nFile \"C:\\\\Users\\\\Anastasia\\\\AppData\\\\Roaming\\\\uv\\\\python\\\\cpython-3.11.11-windows-x86_64-none\\\\Lib\\\\concurrent\\\\futures\\\\thread.py\", line 58, in run\\nresult = self.fn(*self.args, **self.kwargs)\\n^^^^^^^^^^^^^^^^^^^^^^^^^^^^^^^^^^\\nFile \"C:\\\\Users\\\\Anastasia\\\\projects\\\\gpt-researcher-eval\\\\.venv\\\\Lib\\\\site-packages\\\\langchain_core\\\\retrievers.py\", line 259, in invoke\\nresult = self._get_relevant_documents(\\n^^^^^^^^^^^^^^^^^^^^^^^^^^^^^\\nFile \"C:\\\\Users\\\\Anastasia\\\\projects\\\\gpt-researcher-eval\\\\.venv\\\\Lib\\\\site-packages\\\\langchain\\\\retrievers\\\\contextual_compression.py\", line 48, in _get_relevant_documents\\ncompressed_docs = self.base_compressor.compress_documents(\\n^^^^^^^^^^^^^^^^^^^^^^^^^^^^^^^^^^^^^^^^\\nFile \"C:\\\\Users\\\\Anastasia\\\\projects\\\\gpt-researcher-eval\\\\.venv\\\\Lib\\\\site-packages\\\\langchain\\\\retrievers\\\\document_compressors\\\\base.py\", line 40, in compress_documents\\ndocuments = _transformer.compress_documents(\\n^^^^^^^^^^^^^^^^^^^^^^^^^^^^^^^^\\nFile \"C:\\\\Users\\\\Anastasia\\\\projects\\\\gpt-researcher-eval\\\\.venv\\\\Lib\\\\site-packages\\\\langchain\\\\retrievers\\\\document_compressors\\\\embeddings_filter.py\", line 80, in compress_documents\\nembedded_documents = _get_embeddings_from_stateful_docs(\\n^^^^^^^^^^^^^^^^^^^^^^^^^^^^^^^^^^^\\nFile \"C:\\\\Users\\\\Anastasia\\\\projects\\\\gpt-researcher-eval\\\\.venv\\\\Lib\\\\site-packages\\\\langchain_community\\\\document_transformers\\\\embeddings_redundant_filter.py\", line 71, in _get_embeddings_from_stateful_docs\\nembedded_documents = embeddings.embed_documents(\\n^^^^^^^^^^^^^^^^^^^^^^^^^^^\\nFile \"C:\\\\Users\\\\Anastasia\\\\projects\\\\gpt-researcher-eval\\\\.venv\\\\Lib\\\\site-packages\\\\langchain_gigachat\\\\embeddings\\\\gigachat.py\", line 134, in embed_documents\\nfor embedding in self._client.embeddings(\\n^^^^^^^^^^^^^^^^^^^^^^^^\\nFile \"C:\\\\Users\\\\Anastasia\\\\projects\\\\gpt-researcher-eval\\\\.venv\\\\Lib\\\\site-packages\\\\gigachat\\\\client.py\", line 272, in embeddings\\nreturn self._decorator(\\n^^^^^^^^^^^^^^^^\\nFile \"C:\\\\Users\\\\Anastasia\\\\projects\\\\gpt-researcher-eval\\\\.venv\\\\Lib\\\\site-packages\\\\gigachat\\\\client.py\", line 255, in _decorator\\nreturn call()\\n^^^^^^\\nFile \"C:\\\\Users\\\\Anastasia\\\\projects\\\\gpt-researcher-eval\\\\.venv\\\\Lib\\\\site-packages\\\\gigachat\\\\client.py\", line 273, in <lambda>\\nlambda: post_embeddings.sync(self._client, access_token=self.token, input_=texts, model=model)\\n^^^^^^^^^^^^^^^^^^^^^^^^^^^^^^^^^^^^^^^^^^^^^^^^^^^^^^^^^^^^^^^^^^^^^^^^^^^^^^^^^^^^^^\\nFile \"C:\\\\Users\\\\Anastasia\\\\projects\\\\gpt-researcher-eval\\\\.venv\\\\Lib\\\\site-packages\\\\gigachat\\\\api\\\\post_embeddings.py\", line 36, in sync\\nreturn build_response(response, Embeddings)\\n^^^^^^^^^^^^^^^^^^^^^^^^^^^^^^^^^^^^\\nFile \"C:\\\\Users\\\\Anastasia\\\\projects\\\\gpt-researcher-eval\\\\.venv\\\\Lib\\\\site-packages\\\\gigachat\\\\api\\\\utils.py\", line 85, in build_response\\nraise ResponseError(response.url, response.status_code, response.content, response.headers)\\ngigachat.exceptions.ResponseError: (URL(\\'https://gigachat.sberdevices.ru/v1/embeddings\\'), 500, b\\'{\"status\":500,\"message\":\"Internal Server Error\"}\\\\n\\', Headers({\\'server\\': \\'nginx\\', \\'date\\': \\'Mon, 16 Jun 2025 16:12:16 GMT\\', \\'content-type\\': \\'application/json; charset=utf-8\\', \\'content-length\\': \\'49\\', \\'connection\\': \\'keep-alive\\', \\'keep-alive\\': \\'timeout=15\\', \\'access-control-allow-credentials\\': \\'true\\', \\'access-control-allow-headers\\': \\'Origin, X-Requested-With, Content-Type, Accept, Authorization\\', \\'access-control-allow-methods\\': \\'GET, POST, DELETE, OPTIONS\\', \\'access-control-allow-origin\\': \\'https://beta.saluteai.sberdevices.ru\\', \\'x-request-id\\': \\'c5d2a1c0-e355-4f79-97c3-08b3079cee94\\', \\'x-session-id\\': \\'d760c615-6987-423e-b42a-84bb0b01fc81\\', \\'x-sp-crid\\': \\'23161375158:3\\'}))',\n",
       "       'Error processing sub-query Опыт зарубежных государств по внедрению ИИ в вооруженные силы юридические и этические аспекты: (URL(\\'https://gigachat.sberdevices.ru/v1/embeddings\\'), 500, b\\'{\"status\":500,\"message\":\"Internal Server Error\"}\\\\n\\', Headers({\\'server\\': \\'nginx\\', \\'date\\': \\'Mon, 16 Jun 2025 16:12:18 GMT\\', \\'content-type\\': \\'application/json; charset=utf-8\\', \\'content-length\\': \\'49\\', \\'connection\\': \\'keep-alive\\', \\'keep-alive\\': \\'timeout=15\\', \\'access-control-allow-credentials\\': \\'true\\', \\'access-control-allow-headers\\': \\'Origin, X-Requested-With, Content-Type, Accept, Authorization\\', \\'access-control-allow-methods\\': \\'GET, POST, DELETE, OPTIONS\\', \\'access-control-allow-origin\\': \\'https://beta.saluteai.sberdevices.ru\\', \\'x-request-id\\': \\'196f5b55-eae1-4088-beed-b431b76d229d\\', \\'x-session-id\\': \\'41419d62-86e8-44f9-83b5-5e6362f8dd3d\\', \\'x-sp-crid\\': \\'23241655775:1\\'}))\\nTraceback (most recent call last):\\nFile \"C:\\\\Users\\\\Anastasia\\\\projects\\\\giga-gpt-researcher\\\\gpt_researcher\\\\skills\\\\researcher.py\", line 315, in _process_sub_query\\nawait self.researcher.context_manager.get_similar_content_by_query(\\nFile \"C:\\\\Users\\\\Anastasia\\\\projects\\\\giga-gpt-researcher\\\\gpt_researcher\\\\skills\\\\context_manager.py\", line 36, in get_similar_content_by_query\\nreturn await context_compressor.async_get_context(\\n^^^^^^^^^^^^^^^^^^^^^^^^^^^^^^^^^^^^^^^^^^^\\nFile \"C:\\\\Users\\\\Anastasia\\\\projects\\\\giga-gpt-researcher\\\\gpt_researcher\\\\context\\\\compression.py\", line 80, in async_get_context\\nrelevant_docs = await asyncio.to_thread(\\n^^^^^^^^^^^^^^^^^^^^^^^^\\nFile \"C:\\\\Users\\\\Anastasia\\\\AppData\\\\Roaming\\\\uv\\\\python\\\\cpython-3.11.11-windows-x86_64-none\\\\Lib\\\\asyncio\\\\threads.py\", line 25, in to_thread\\nreturn await loop.run_in_executor(None, func_call)\\n^^^^^^^^^^^^^^^^^^^^^^^^^^^^^^^^^^^^^^^^^^^\\nFile \"C:\\\\Users\\\\Anastasia\\\\AppData\\\\Roaming\\\\uv\\\\python\\\\cpython-3.11.11-windows-x86_64-none\\\\Lib\\\\concurrent\\\\futures\\\\thread.py\", line 58, in run\\nresult = self.fn(*self.args, **self.kwargs)\\n^^^^^^^^^^^^^^^^^^^^^^^^^^^^^^^^^^\\nFile \"C:\\\\Users\\\\Anastasia\\\\projects\\\\gpt-researcher-eval\\\\.venv\\\\Lib\\\\site-packages\\\\langchain_core\\\\retrievers.py\", line 259, in invoke\\nresult = self._get_relevant_documents(\\n^^^^^^^^^^^^^^^^^^^^^^^^^^^^^\\nFile \"C:\\\\Users\\\\Anastasia\\\\projects\\\\gpt-researcher-eval\\\\.venv\\\\Lib\\\\site-packages\\\\langchain\\\\retrievers\\\\contextual_compression.py\", line 48, in _get_relevant_documents\\ncompressed_docs = self.base_compressor.compress_documents(\\n^^^^^^^^^^^^^^^^^^^^^^^^^^^^^^^^^^^^^^^^\\nFile \"C:\\\\Users\\\\Anastasia\\\\projects\\\\gpt-researcher-eval\\\\.venv\\\\Lib\\\\site-packages\\\\langchain\\\\retrievers\\\\document_compressors\\\\base.py\", line 40, in compress_documents\\ndocuments = _transformer.compress_documents(\\n^^^^^^^^^^^^^^^^^^^^^^^^^^^^^^^^\\nFile \"C:\\\\Users\\\\Anastasia\\\\projects\\\\gpt-researcher-eval\\\\.venv\\\\Lib\\\\site-packages\\\\langchain\\\\retrievers\\\\document_compressors\\\\embeddings_filter.py\", line 80, in compress_documents\\nembedded_documents = _get_embeddings_from_stateful_docs(\\n^^^^^^^^^^^^^^^^^^^^^^^^^^^^^^^^^^^\\nFile \"C:\\\\Users\\\\Anastasia\\\\projects\\\\gpt-researcher-eval\\\\.venv\\\\Lib\\\\site-packages\\\\langchain_community\\\\document_transformers\\\\embeddings_redundant_filter.py\", line 71, in _get_embeddings_from_stateful_docs\\nembedded_documents = embeddings.embed_documents(\\n^^^^^^^^^^^^^^^^^^^^^^^^^^^\\nFile \"C:\\\\Users\\\\Anastasia\\\\projects\\\\gpt-researcher-eval\\\\.venv\\\\Lib\\\\site-packages\\\\langchain_gigachat\\\\embeddings\\\\gigachat.py\", line 134, in embed_documents\\nfor embedding in self._client.embeddings(\\n^^^^^^^^^^^^^^^^^^^^^^^^\\nFile \"C:\\\\Users\\\\Anastasia\\\\projects\\\\gpt-researcher-eval\\\\.venv\\\\Lib\\\\site-packages\\\\gigachat\\\\client.py\", line 272, in embeddings\\nreturn self._decorator(\\n^^^^^^^^^^^^^^^^\\nFile \"C:\\\\Users\\\\Anastasia\\\\projects\\\\gpt-researcher-eval\\\\.venv\\\\Lib\\\\site-packages\\\\gigachat\\\\client.py\", line 255, in _decorator\\nreturn call()\\n^^^^^^\\nFile \"C:\\\\Users\\\\Anastasia\\\\projects\\\\gpt-researcher-eval\\\\.venv\\\\Lib\\\\site-packages\\\\gigachat\\\\client.py\", line 273, in <lambda>\\nlambda: post_embeddings.sync(self._client, access_token=self.token, input_=texts, model=model)\\n^^^^^^^^^^^^^^^^^^^^^^^^^^^^^^^^^^^^^^^^^^^^^^^^^^^^^^^^^^^^^^^^^^^^^^^^^^^^^^^^^^^^^^\\nFile \"C:\\\\Users\\\\Anastasia\\\\projects\\\\gpt-researcher-eval\\\\.venv\\\\Lib\\\\site-packages\\\\gigachat\\\\api\\\\post_embeddings.py\", line 36, in sync\\nreturn build_response(response, Embeddings)\\n^^^^^^^^^^^^^^^^^^^^^^^^^^^^^^^^^^^^\\nFile \"C:\\\\Users\\\\Anastasia\\\\projects\\\\gpt-researcher-eval\\\\.venv\\\\Lib\\\\site-packages\\\\gigachat\\\\api\\\\utils.py\", line 85, in build_response\\nraise ResponseError(response.url, response.status_code, response.content, response.headers)\\ngigachat.exceptions.ResponseError: (URL(\\'https://gigachat.sberdevices.ru/v1/embeddings\\'), 500, b\\'{\"status\":500,\"message\":\"Internal Server Error\"}\\\\n\\', Headers({\\'server\\': \\'nginx\\', \\'date\\': \\'Mon, 16 Jun 2025 16:12:18 GMT\\', \\'content-type\\': \\'application/json; charset=utf-8\\', \\'content-length\\': \\'49\\', \\'connection\\': \\'keep-alive\\', \\'keep-alive\\': \\'timeout=15\\', \\'access-control-allow-credentials\\': \\'true\\', \\'access-control-allow-headers\\': \\'Origin, X-Requested-With, Content-Type, Accept, Authorization\\', \\'access-control-allow-methods\\': \\'GET, POST, DELETE, OPTIONS\\', \\'access-control-allow-origin\\': \\'https://beta.saluteai.sberdevices.ru\\', \\'x-request-id\\': \\'196f5b55-eae1-4088-beed-b431b76d229d\\', \\'x-session-id\\': \\'41419d62-86e8-44f9-83b5-5e6362f8dd3d\\', \\'x-sp-crid\\': \\'23241655775:1\\'}))',\n",
       "       'Error processing sub-query Основные барьеры внедрения ИИ в вооруженные силы 2025: (URL(\\'https://gigachat.sberdevices.ru/v1/embeddings\\'), 500, b\\'{\"status\":500,\"message\":\"Internal Server Error\"}\\\\n\\', Headers({\\'server\\': \\'nginx\\', \\'date\\': \\'Mon, 16 Jun 2025 16:12:21 GMT\\', \\'content-type\\': \\'application/json; charset=utf-8\\', \\'content-length\\': \\'49\\', \\'connection\\': \\'keep-alive\\', \\'keep-alive\\': \\'timeout=15\\', \\'access-control-allow-credentials\\': \\'true\\', \\'access-control-allow-headers\\': \\'Origin, X-Requested-With, Content-Type, Accept, Authorization\\', \\'access-control-allow-methods\\': \\'GET, POST, DELETE, OPTIONS\\', \\'access-control-allow-origin\\': \\'https://beta.saluteai.sberdevices.ru\\', \\'x-request-id\\': \\'7e1da783-33f1-4411-93a8-5ac17d45cb39\\', \\'x-session-id\\': \\'a1d832bf-29c2-48e7-9e31-0ffacfe4ac1c\\', \\'x-sp-crid\\': \\'561681320:3\\'}))\\nTraceback (most recent call last):\\nFile \"C:\\\\Users\\\\Anastasia\\\\projects\\\\giga-gpt-researcher\\\\gpt_researcher\\\\skills\\\\researcher.py\", line 315, in _process_sub_query\\nawait self.researcher.context_manager.get_similar_content_by_query(\\nFile \"C:\\\\Users\\\\Anastasia\\\\projects\\\\giga-gpt-researcher\\\\gpt_researcher\\\\skills\\\\context_manager.py\", line 36, in get_similar_content_by_query\\nreturn await context_compressor.async_get_context(\\n^^^^^^^^^^^^^^^^^^^^^^^^^^^^^^^^^^^^^^^^^^^\\nFile \"C:\\\\Users\\\\Anastasia\\\\projects\\\\giga-gpt-researcher\\\\gpt_researcher\\\\context\\\\compression.py\", line 80, in async_get_context\\nrelevant_docs = await asyncio.to_thread(\\n^^^^^^^^^^^^^^^^^^^^^^^^\\nFile \"C:\\\\Users\\\\Anastasia\\\\AppData\\\\Roaming\\\\uv\\\\python\\\\cpython-3.11.11-windows-x86_64-none\\\\Lib\\\\asyncio\\\\threads.py\", line 25, in to_thread\\nreturn await loop.run_in_executor(None, func_call)\\n^^^^^^^^^^^^^^^^^^^^^^^^^^^^^^^^^^^^^^^^^^^\\nFile \"C:\\\\Users\\\\Anastasia\\\\AppData\\\\Roaming\\\\uv\\\\python\\\\cpython-3.11.11-windows-x86_64-none\\\\Lib\\\\concurrent\\\\futures\\\\thread.py\", line 58, in run\\nresult = self.fn(*self.args, **self.kwargs)\\n^^^^^^^^^^^^^^^^^^^^^^^^^^^^^^^^^^\\nFile \"C:\\\\Users\\\\Anastasia\\\\projects\\\\gpt-researcher-eval\\\\.venv\\\\Lib\\\\site-packages\\\\langchain_core\\\\retrievers.py\", line 259, in invoke\\nresult = self._get_relevant_documents(\\n^^^^^^^^^^^^^^^^^^^^^^^^^^^^^\\nFile \"C:\\\\Users\\\\Anastasia\\\\projects\\\\gpt-researcher-eval\\\\.venv\\\\Lib\\\\site-packages\\\\langchain\\\\retrievers\\\\contextual_compression.py\", line 48, in _get_relevant_documents\\ncompressed_docs = self.base_compressor.compress_documents(\\n^^^^^^^^^^^^^^^^^^^^^^^^^^^^^^^^^^^^^^^^\\nFile \"C:\\\\Users\\\\Anastasia\\\\projects\\\\gpt-researcher-eval\\\\.venv\\\\Lib\\\\site-packages\\\\langchain\\\\retrievers\\\\document_compressors\\\\base.py\", line 40, in compress_documents\\ndocuments = _transformer.compress_documents(\\n^^^^^^^^^^^^^^^^^^^^^^^^^^^^^^^^\\nFile \"C:\\\\Users\\\\Anastasia\\\\projects\\\\gpt-researcher-eval\\\\.venv\\\\Lib\\\\site-packages\\\\langchain\\\\retrievers\\\\document_compressors\\\\embeddings_filter.py\", line 80, in compress_documents\\nembedded_documents = _get_embeddings_from_stateful_docs(\\n^^^^^^^^^^^^^^^^^^^^^^^^^^^^^^^^^^^\\nFile \"C:\\\\Users\\\\Anastasia\\\\projects\\\\gpt-researcher-eval\\\\.venv\\\\Lib\\\\site-packages\\\\langchain_community\\\\document_transformers\\\\embeddings_redundant_filter.py\", line 71, in _get_embeddings_from_stateful_docs\\nembedded_documents = embeddings.embed_documents(\\n^^^^^^^^^^^^^^^^^^^^^^^^^^^\\nFile \"C:\\\\Users\\\\Anastasia\\\\projects\\\\gpt-researcher-eval\\\\.venv\\\\Lib\\\\site-packages\\\\langchain_gigachat\\\\embeddings\\\\gigachat.py\", line 134, in embed_documents\\nfor embedding in self._client.embeddings(\\n^^^^^^^^^^^^^^^^^^^^^^^^\\nFile \"C:\\\\Users\\\\Anastasia\\\\projects\\\\gpt-researcher-eval\\\\.venv\\\\Lib\\\\site-packages\\\\gigachat\\\\client.py\", line 272, in embeddings\\nreturn self._decorator(\\n^^^^^^^^^^^^^^^^\\nFile \"C:\\\\Users\\\\Anastasia\\\\projects\\\\gpt-researcher-eval\\\\.venv\\\\Lib\\\\site-packages\\\\gigachat\\\\client.py\", line 255, in _decorator\\nreturn call()\\n^^^^^^\\nFile \"C:\\\\Users\\\\Anastasia\\\\projects\\\\gpt-researcher-eval\\\\.venv\\\\Lib\\\\site-packages\\\\gigachat\\\\client.py\", line 273, in <lambda>\\nlambda: post_embeddings.sync(self._client, access_token=self.token, input_=texts, model=model)\\n^^^^^^^^^^^^^^^^^^^^^^^^^^^^^^^^^^^^^^^^^^^^^^^^^^^^^^^^^^^^^^^^^^^^^^^^^^^^^^^^^^^^^^\\nFile \"C:\\\\Users\\\\Anastasia\\\\projects\\\\gpt-researcher-eval\\\\.venv\\\\Lib\\\\site-packages\\\\gigachat\\\\api\\\\post_embeddings.py\", line 36, in sync\\nreturn build_response(response, Embeddings)\\n^^^^^^^^^^^^^^^^^^^^^^^^^^^^^^^^^^^^\\nFile \"C:\\\\Users\\\\Anastasia\\\\projects\\\\gpt-researcher-eval\\\\.venv\\\\Lib\\\\site-packages\\\\gigachat\\\\api\\\\utils.py\", line 85, in build_response\\nraise ResponseError(response.url, response.status_code, response.content, response.headers)\\ngigachat.exceptions.ResponseError: (URL(\\'https://gigachat.sberdevices.ru/v1/embeddings\\'), 500, b\\'{\"status\":500,\"message\":\"Internal Server Error\"}\\\\n\\', Headers({\\'server\\': \\'nginx\\', \\'date\\': \\'Mon, 16 Jun 2025 16:12:21 GMT\\', \\'content-type\\': \\'application/json; charset=utf-8\\', \\'content-length\\': \\'49\\', \\'connection\\': \\'keep-alive\\', \\'keep-alive\\': \\'timeout=15\\', \\'access-control-allow-credentials\\': \\'true\\', \\'access-control-allow-headers\\': \\'Origin, X-Requested-With, Content-Type, Accept, Authorization\\', \\'access-control-allow-methods\\': \\'GET, POST, DELETE, OPTIONS\\', \\'access-control-allow-origin\\': \\'https://beta.saluteai.sberdevices.ru\\', \\'x-request-id\\': \\'7e1da783-33f1-4411-93a8-5ac17d45cb39\\', \\'x-session-id\\': \\'a1d832bf-29c2-48e7-9e31-0ffacfe4ac1c\\', \\'x-sp-crid\\': \\'561681320:3\\'}))',\n",
       "       'Error processing sub-query Рекомендации по кадровому обеспечению и организационным изменениям при внедрении искусственного интеллекта в военные структуры: (URL(\\'https://gigachat.sberdevices.ru/v1/embeddings\\'), 500, b\\'{\"status\":500,\"message\":\"Internal Server Error\"}\\\\n\\', Headers({\\'server\\': \\'nginx\\', \\'date\\': \\'Mon, 16 Jun 2025 16:12:21 GMT\\', \\'content-type\\': \\'application/json; charset=utf-8\\', \\'content-length\\': \\'49\\', \\'connection\\': \\'keep-alive\\', \\'keep-alive\\': \\'timeout=15\\', \\'access-control-allow-credentials\\': \\'true\\', \\'access-control-allow-headers\\': \\'Origin, X-Requested-With, Content-Type, Accept, Authorization\\', \\'access-control-allow-methods\\': \\'GET, POST, DELETE, OPTIONS\\', \\'access-control-allow-origin\\': \\'https://beta.saluteai.sberdevices.ru\\', \\'x-request-id\\': \\'79a7da05-745a-49cf-b389-5dc12b021f1d\\', \\'x-session-id\\': \\'db19072e-491a-4681-abc5-ac4de8b39bfe\\', \\'x-sp-crid\\': \\'23161531616:2\\'}))\\nTraceback (most recent call last):\\nFile \"C:\\\\Users\\\\Anastasia\\\\projects\\\\giga-gpt-researcher\\\\gpt_researcher\\\\skills\\\\researcher.py\", line 315, in _process_sub_query\\nawait self.researcher.context_manager.get_similar_content_by_query(\\nFile \"C:\\\\Users\\\\Anastasia\\\\projects\\\\giga-gpt-researcher\\\\gpt_researcher\\\\skills\\\\context_manager.py\", line 36, in get_similar_content_by_query\\nreturn await context_compressor.async_get_context(\\n^^^^^^^^^^^^^^^^^^^^^^^^^^^^^^^^^^^^^^^^^^^\\nFile \"C:\\\\Users\\\\Anastasia\\\\projects\\\\giga-gpt-researcher\\\\gpt_researcher\\\\context\\\\compression.py\", line 80, in async_get_context\\nrelevant_docs = await asyncio.to_thread(\\n^^^^^^^^^^^^^^^^^^^^^^^^\\nFile \"C:\\\\Users\\\\Anastasia\\\\AppData\\\\Roaming\\\\uv\\\\python\\\\cpython-3.11.11-windows-x86_64-none\\\\Lib\\\\asyncio\\\\threads.py\", line 25, in to_thread\\nreturn await loop.run_in_executor(None, func_call)\\n^^^^^^^^^^^^^^^^^^^^^^^^^^^^^^^^^^^^^^^^^^^\\nFile \"C:\\\\Users\\\\Anastasia\\\\AppData\\\\Roaming\\\\uv\\\\python\\\\cpython-3.11.11-windows-x86_64-none\\\\Lib\\\\concurrent\\\\futures\\\\thread.py\", line 58, in run\\nresult = self.fn(*self.args, **self.kwargs)\\n^^^^^^^^^^^^^^^^^^^^^^^^^^^^^^^^^^\\nFile \"C:\\\\Users\\\\Anastasia\\\\projects\\\\gpt-researcher-eval\\\\.venv\\\\Lib\\\\site-packages\\\\langchain_core\\\\retrievers.py\", line 259, in invoke\\nresult = self._get_relevant_documents(\\n^^^^^^^^^^^^^^^^^^^^^^^^^^^^^\\nFile \"C:\\\\Users\\\\Anastasia\\\\projects\\\\gpt-researcher-eval\\\\.venv\\\\Lib\\\\site-packages\\\\langchain\\\\retrievers\\\\contextual_compression.py\", line 48, in _get_relevant_documents\\ncompressed_docs = self.base_compressor.compress_documents(\\n^^^^^^^^^^^^^^^^^^^^^^^^^^^^^^^^^^^^^^^^\\nFile \"C:\\\\Users\\\\Anastasia\\\\projects\\\\gpt-researcher-eval\\\\.venv\\\\Lib\\\\site-packages\\\\langchain\\\\retrievers\\\\document_compressors\\\\base.py\", line 40, in compress_documents\\ndocuments = _transformer.compress_documents(\\n^^^^^^^^^^^^^^^^^^^^^^^^^^^^^^^^\\nFile \"C:\\\\Users\\\\Anastasia\\\\projects\\\\gpt-researcher-eval\\\\.venv\\\\Lib\\\\site-packages\\\\langchain\\\\retrievers\\\\document_compressors\\\\embeddings_filter.py\", line 80, in compress_documents\\nembedded_documents = _get_embeddings_from_stateful_docs(\\n^^^^^^^^^^^^^^^^^^^^^^^^^^^^^^^^^^^\\nFile \"C:\\\\Users\\\\Anastasia\\\\projects\\\\gpt-researcher-eval\\\\.venv\\\\Lib\\\\site-packages\\\\langchain_community\\\\document_transformers\\\\embeddings_redundant_filter.py\", line 71, in _get_embeddings_from_stateful_docs\\nembedded_documents = embeddings.embed_documents(\\n^^^^^^^^^^^^^^^^^^^^^^^^^^^\\nFile \"C:\\\\Users\\\\Anastasia\\\\projects\\\\gpt-researcher-eval\\\\.venv\\\\Lib\\\\site-packages\\\\langchain_gigachat\\\\embeddings\\\\gigachat.py\", line 134, in embed_documents\\nfor embedding in self._client.embeddings(\\n^^^^^^^^^^^^^^^^^^^^^^^^\\nFile \"C:\\\\Users\\\\Anastasia\\\\projects\\\\gpt-researcher-eval\\\\.venv\\\\Lib\\\\site-packages\\\\gigachat\\\\client.py\", line 272, in embeddings\\nreturn self._decorator(\\n^^^^^^^^^^^^^^^^\\nFile \"C:\\\\Users\\\\Anastasia\\\\projects\\\\gpt-researcher-eval\\\\.venv\\\\Lib\\\\site-packages\\\\gigachat\\\\client.py\", line 255, in _decorator\\nreturn call()\\n^^^^^^\\nFile \"C:\\\\Users\\\\Anastasia\\\\projects\\\\gpt-researcher-eval\\\\.venv\\\\Lib\\\\site-packages\\\\gigachat\\\\client.py\", line 273, in <lambda>\\nlambda: post_embeddings.sync(self._client, access_token=self.token, input_=texts, model=model)\\n^^^^^^^^^^^^^^^^^^^^^^^^^^^^^^^^^^^^^^^^^^^^^^^^^^^^^^^^^^^^^^^^^^^^^^^^^^^^^^^^^^^^^^\\nFile \"C:\\\\Users\\\\Anastasia\\\\projects\\\\gpt-researcher-eval\\\\.venv\\\\Lib\\\\site-packages\\\\gigachat\\\\api\\\\post_embeddings.py\", line 36, in sync\\nreturn build_response(response, Embeddings)\\n^^^^^^^^^^^^^^^^^^^^^^^^^^^^^^^^^^^^\\nFile \"C:\\\\Users\\\\Anastasia\\\\projects\\\\gpt-researcher-eval\\\\.venv\\\\Lib\\\\site-packages\\\\gigachat\\\\api\\\\utils.py\", line 85, in build_response\\nraise ResponseError(response.url, response.status_code, response.content, response.headers)\\ngigachat.exceptions.ResponseError: (URL(\\'https://gigachat.sberdevices.ru/v1/embeddings\\'), 500, b\\'{\"status\":500,\"message\":\"Internal Server Error\"}\\\\n\\', Headers({\\'server\\': \\'nginx\\', \\'date\\': \\'Mon, 16 Jun 2025 16:12:21 GMT\\', \\'content-type\\': \\'application/json; charset=utf-8\\', \\'content-length\\': \\'49\\', \\'connection\\': \\'keep-alive\\', \\'keep-alive\\': \\'timeout=15\\', \\'access-control-allow-credentials\\': \\'true\\', \\'access-control-allow-headers\\': \\'Origin, X-Requested-With, Content-Type, Accept, Authorization\\', \\'access-control-allow-methods\\': \\'GET, POST, DELETE, OPTIONS\\', \\'access-control-allow-origin\\': \\'https://beta.saluteai.sberdevices.ru\\', \\'x-request-id\\': \\'79a7da05-745a-49cf-b389-5dc12b021f1d\\', \\'x-session-id\\': \\'db19072e-491a-4681-abc5-ac4de8b39bfe\\', \\'x-sp-crid\\': \\'23161531616:2\\'}))',\n",
       "       'Error processing sub-query Рекомендации по технологическим организационным и кадровым изменениям при внедрении ИИ в армию: (URL(\\'https://gigachat.sberdevices.ru/v1/embeddings\\'), 500, b\\'{\"status\":500,\"message\":\"Internal Server Error\"}\\\\n\\', Headers({\\'server\\': \\'nginx\\', \\'date\\': \\'Mon, 16 Jun 2025 16:12:25 GMT\\', \\'content-type\\': \\'application/json; charset=utf-8\\', \\'content-length\\': \\'49\\', \\'connection\\': \\'keep-alive\\', \\'keep-alive\\': \\'timeout=15\\', \\'access-control-allow-credentials\\': \\'true\\', \\'access-control-allow-headers\\': \\'Origin, X-Requested-With, Content-Type, Accept, Authorization\\', \\'access-control-allow-methods\\': \\'GET, POST, DELETE, OPTIONS\\', \\'access-control-allow-origin\\': \\'https://beta.saluteai.sberdevices.ru\\', \\'x-request-id\\': \\'e56df746-5cb1-4f15-99d2-fc9159b0b2fd\\', \\'x-session-id\\': \\'7f1e6c00-f305-4689-b008-774352a19314\\', \\'x-sp-crid\\': \\'12119750309:2\\'}))\\nTraceback (most recent call last):\\nFile \"C:\\\\Users\\\\Anastasia\\\\projects\\\\giga-gpt-researcher\\\\gpt_researcher\\\\skills\\\\researcher.py\", line 315, in _process_sub_query\\nawait self.researcher.context_manager.get_similar_content_by_query(\\nFile \"C:\\\\Users\\\\Anastasia\\\\projects\\\\giga-gpt-researcher\\\\gpt_researcher\\\\skills\\\\context_manager.py\", line 36, in get_similar_content_by_query\\nreturn await context_compressor.async_get_context(\\n^^^^^^^^^^^^^^^^^^^^^^^^^^^^^^^^^^^^^^^^^^^\\nFile \"C:\\\\Users\\\\Anastasia\\\\projects\\\\giga-gpt-researcher\\\\gpt_researcher\\\\context\\\\compression.py\", line 80, in async_get_context\\nrelevant_docs = await asyncio.to_thread(\\n^^^^^^^^^^^^^^^^^^^^^^^^\\nFile \"C:\\\\Users\\\\Anastasia\\\\AppData\\\\Roaming\\\\uv\\\\python\\\\cpython-3.11.11-windows-x86_64-none\\\\Lib\\\\asyncio\\\\threads.py\", line 25, in to_thread\\nreturn await loop.run_in_executor(None, func_call)\\n^^^^^^^^^^^^^^^^^^^^^^^^^^^^^^^^^^^^^^^^^^^\\nFile \"C:\\\\Users\\\\Anastasia\\\\AppData\\\\Roaming\\\\uv\\\\python\\\\cpython-3.11.11-windows-x86_64-none\\\\Lib\\\\concurrent\\\\futures\\\\thread.py\", line 58, in run\\nresult = self.fn(*self.args, **self.kwargs)\\n^^^^^^^^^^^^^^^^^^^^^^^^^^^^^^^^^^\\nFile \"C:\\\\Users\\\\Anastasia\\\\projects\\\\gpt-researcher-eval\\\\.venv\\\\Lib\\\\site-packages\\\\langchain_core\\\\retrievers.py\", line 259, in invoke\\nresult = self._get_relevant_documents(\\n^^^^^^^^^^^^^^^^^^^^^^^^^^^^^\\nFile \"C:\\\\Users\\\\Anastasia\\\\projects\\\\gpt-researcher-eval\\\\.venv\\\\Lib\\\\site-packages\\\\langchain\\\\retrievers\\\\contextual_compression.py\", line 48, in _get_relevant_documents\\ncompressed_docs = self.base_compressor.compress_documents(\\n^^^^^^^^^^^^^^^^^^^^^^^^^^^^^^^^^^^^^^^^\\nFile \"C:\\\\Users\\\\Anastasia\\\\projects\\\\gpt-researcher-eval\\\\.venv\\\\Lib\\\\site-packages\\\\langchain\\\\retrievers\\\\document_compressors\\\\base.py\", line 40, in compress_documents\\ndocuments = _transformer.compress_documents(\\n^^^^^^^^^^^^^^^^^^^^^^^^^^^^^^^^\\nFile \"C:\\\\Users\\\\Anastasia\\\\projects\\\\gpt-researcher-eval\\\\.venv\\\\Lib\\\\site-packages\\\\langchain\\\\retrievers\\\\document_compressors\\\\embeddings_filter.py\", line 80, in compress_documents\\nembedded_documents = _get_embeddings_from_stateful_docs(\\n^^^^^^^^^^^^^^^^^^^^^^^^^^^^^^^^^^^\\nFile \"C:\\\\Users\\\\Anastasia\\\\projects\\\\gpt-researcher-eval\\\\.venv\\\\Lib\\\\site-packages\\\\langchain_community\\\\document_transformers\\\\embeddings_redundant_filter.py\", line 71, in _get_embeddings_from_stateful_docs\\nembedded_documents = embeddings.embed_documents(\\n^^^^^^^^^^^^^^^^^^^^^^^^^^^\\nFile \"C:\\\\Users\\\\Anastasia\\\\projects\\\\gpt-researcher-eval\\\\.venv\\\\Lib\\\\site-packages\\\\langchain_gigachat\\\\embeddings\\\\gigachat.py\", line 134, in embed_documents\\nfor embedding in self._client.embeddings(\\n^^^^^^^^^^^^^^^^^^^^^^^^\\nFile \"C:\\\\Users\\\\Anastasia\\\\projects\\\\gpt-researcher-eval\\\\.venv\\\\Lib\\\\site-packages\\\\gigachat\\\\client.py\", line 272, in embeddings\\nreturn self._decorator(\\n^^^^^^^^^^^^^^^^\\nFile \"C:\\\\Users\\\\Anastasia\\\\projects\\\\gpt-researcher-eval\\\\.venv\\\\Lib\\\\site-packages\\\\gigachat\\\\client.py\", line 255, in _decorator\\nreturn call()\\n^^^^^^\\nFile \"C:\\\\Users\\\\Anastasia\\\\projects\\\\gpt-researcher-eval\\\\.venv\\\\Lib\\\\site-packages\\\\gigachat\\\\client.py\", line 273, in <lambda>\\nlambda: post_embeddings.sync(self._client, access_token=self.token, input_=texts, model=model)\\n^^^^^^^^^^^^^^^^^^^^^^^^^^^^^^^^^^^^^^^^^^^^^^^^^^^^^^^^^^^^^^^^^^^^^^^^^^^^^^^^^^^^^^\\nFile \"C:\\\\Users\\\\Anastasia\\\\projects\\\\gpt-researcher-eval\\\\.venv\\\\Lib\\\\site-packages\\\\gigachat\\\\api\\\\post_embeddings.py\", line 36, in sync\\nreturn build_response(response, Embeddings)\\n^^^^^^^^^^^^^^^^^^^^^^^^^^^^^^^^^^^^\\nFile \"C:\\\\Users\\\\Anastasia\\\\projects\\\\gpt-researcher-eval\\\\.venv\\\\Lib\\\\site-packages\\\\gigachat\\\\api\\\\utils.py\", line 85, in build_response\\nraise ResponseError(response.url, response.status_code, response.content, response.headers)\\ngigachat.exceptions.ResponseError: (URL(\\'https://gigachat.sberdevices.ru/v1/embeddings\\'), 500, b\\'{\"status\":500,\"message\":\"Internal Server Error\"}\\\\n\\', Headers({\\'server\\': \\'nginx\\', \\'date\\': \\'Mon, 16 Jun 2025 16:12:25 GMT\\', \\'content-type\\': \\'application/json; charset=utf-8\\', \\'content-length\\': \\'49\\', \\'connection\\': \\'keep-alive\\', \\'keep-alive\\': \\'timeout=15\\', \\'access-control-allow-credentials\\': \\'true\\', \\'access-control-allow-headers\\': \\'Origin, X-Requested-With, Content-Type, Accept, Authorization\\', \\'access-control-allow-methods\\': \\'GET, POST, DELETE, OPTIONS\\', \\'access-control-allow-origin\\': \\'https://beta.saluteai.sberdevices.ru\\', \\'x-request-id\\': \\'e56df746-5cb1-4f15-99d2-fc9159b0b2fd\\', \\'x-session-id\\': \\'7f1e6c00-f305-4689-b008-774352a19314\\', \\'x-sp-crid\\': \\'12119750309:2\\'}))',\n",
       "       'Error processing sub-query Опыт зарубежных стран по внедрению ИИ в армии: (URL(\\'https://gigachat.sberdevices.ru/v1/embeddings\\'), 500, b\\'{\"status\":500,\"message\":\"Internal Server Error\"}\\\\n\\', Headers({\\'server\\': \\'nginx\\', \\'date\\': \\'Mon, 16 Jun 2025 16:12:42 GMT\\', \\'content-type\\': \\'application/json; charset=utf-8\\', \\'content-length\\': \\'49\\', \\'connection\\': \\'keep-alive\\', \\'keep-alive\\': \\'timeout=15\\', \\'access-control-allow-credentials\\': \\'true\\', \\'access-control-allow-headers\\': \\'Origin, X-Requested-With, Content-Type, Accept, Authorization\\', \\'access-control-allow-methods\\': \\'GET, POST, DELETE, OPTIONS\\', \\'access-control-allow-origin\\': \\'https://beta.saluteai.sberdevices.ru\\', \\'x-request-id\\': \\'1becf045-5ee5-42c1-810c-4c2a565c1d83\\', \\'x-session-id\\': \\'22161925-5df7-433e-8891-b40e19e4225b\\', \\'x-sp-crid\\': \\'10309689174:3\\'}))\\nTraceback (most recent call last):\\nFile \"C:\\\\Users\\\\Anastasia\\\\projects\\\\giga-gpt-researcher\\\\gpt_researcher\\\\skills\\\\researcher.py\", line 315, in _process_sub_query\\nawait self.researcher.context_manager.get_similar_content_by_query(\\nFile \"C:\\\\Users\\\\Anastasia\\\\projects\\\\giga-gpt-researcher\\\\gpt_researcher\\\\skills\\\\context_manager.py\", line 36, in get_similar_content_by_query\\nreturn await context_compressor.async_get_context(\\n^^^^^^^^^^^^^^^^^^^^^^^^^^^^^^^^^^^^^^^^^^^\\nFile \"C:\\\\Users\\\\Anastasia\\\\projects\\\\giga-gpt-researcher\\\\gpt_researcher\\\\context\\\\compression.py\", line 80, in async_get_context\\nrelevant_docs = await asyncio.to_thread(\\n^^^^^^^^^^^^^^^^^^^^^^^^\\nFile \"C:\\\\Users\\\\Anastasia\\\\AppData\\\\Roaming\\\\uv\\\\python\\\\cpython-3.11.11-windows-x86_64-none\\\\Lib\\\\asyncio\\\\threads.py\", line 25, in to_thread\\nreturn await loop.run_in_executor(None, func_call)\\n^^^^^^^^^^^^^^^^^^^^^^^^^^^^^^^^^^^^^^^^^^^\\nFile \"C:\\\\Users\\\\Anastasia\\\\AppData\\\\Roaming\\\\uv\\\\python\\\\cpython-3.11.11-windows-x86_64-none\\\\Lib\\\\concurrent\\\\futures\\\\thread.py\", line 58, in run\\nresult = self.fn(*self.args, **self.kwargs)\\n^^^^^^^^^^^^^^^^^^^^^^^^^^^^^^^^^^\\nFile \"C:\\\\Users\\\\Anastasia\\\\projects\\\\gpt-researcher-eval\\\\.venv\\\\Lib\\\\site-packages\\\\langchain_core\\\\retrievers.py\", line 259, in invoke\\nresult = self._get_relevant_documents(\\n^^^^^^^^^^^^^^^^^^^^^^^^^^^^^\\nFile \"C:\\\\Users\\\\Anastasia\\\\projects\\\\gpt-researcher-eval\\\\.venv\\\\Lib\\\\site-packages\\\\langchain\\\\retrievers\\\\contextual_compression.py\", line 48, in _get_relevant_documents\\ncompressed_docs = self.base_compressor.compress_documents(\\n^^^^^^^^^^^^^^^^^^^^^^^^^^^^^^^^^^^^^^^^\\nFile \"C:\\\\Users\\\\Anastasia\\\\projects\\\\gpt-researcher-eval\\\\.venv\\\\Lib\\\\site-packages\\\\langchain\\\\retrievers\\\\document_compressors\\\\base.py\", line 40, in compress_documents\\ndocuments = _transformer.compress_documents(\\n^^^^^^^^^^^^^^^^^^^^^^^^^^^^^^^^\\nFile \"C:\\\\Users\\\\Anastasia\\\\projects\\\\gpt-researcher-eval\\\\.venv\\\\Lib\\\\site-packages\\\\langchain\\\\retrievers\\\\document_compressors\\\\embeddings_filter.py\", line 80, in compress_documents\\nembedded_documents = _get_embeddings_from_stateful_docs(\\n^^^^^^^^^^^^^^^^^^^^^^^^^^^^^^^^^^^\\nFile \"C:\\\\Users\\\\Anastasia\\\\projects\\\\gpt-researcher-eval\\\\.venv\\\\Lib\\\\site-packages\\\\langchain_community\\\\document_transformers\\\\embeddings_redundant_filter.py\", line 71, in _get_embeddings_from_stateful_docs\\nembedded_documents = embeddings.embed_documents(\\n^^^^^^^^^^^^^^^^^^^^^^^^^^^\\nFile \"C:\\\\Users\\\\Anastasia\\\\projects\\\\gpt-researcher-eval\\\\.venv\\\\Lib\\\\site-packages\\\\langchain_gigachat\\\\embeddings\\\\gigachat.py\", line 134, in embed_documents\\nfor embedding in self._client.embeddings(\\n^^^^^^^^^^^^^^^^^^^^^^^^\\nFile \"C:\\\\Users\\\\Anastasia\\\\projects\\\\gpt-researcher-eval\\\\.venv\\\\Lib\\\\site-packages\\\\gigachat\\\\client.py\", line 272, in embeddings\\nreturn self._decorator(\\n^^^^^^^^^^^^^^^^\\nFile \"C:\\\\Users\\\\Anastasia\\\\projects\\\\gpt-researcher-eval\\\\.venv\\\\Lib\\\\site-packages\\\\gigachat\\\\client.py\", line 255, in _decorator\\nreturn call()\\n^^^^^^\\nFile \"C:\\\\Users\\\\Anastasia\\\\projects\\\\gpt-researcher-eval\\\\.venv\\\\Lib\\\\site-packages\\\\gigachat\\\\client.py\", line 273, in <lambda>\\nlambda: post_embeddings.sync(self._client, access_token=self.token, input_=texts, model=model)\\n^^^^^^^^^^^^^^^^^^^^^^^^^^^^^^^^^^^^^^^^^^^^^^^^^^^^^^^^^^^^^^^^^^^^^^^^^^^^^^^^^^^^^^\\nFile \"C:\\\\Users\\\\Anastasia\\\\projects\\\\gpt-researcher-eval\\\\.venv\\\\Lib\\\\site-packages\\\\gigachat\\\\api\\\\post_embeddings.py\", line 36, in sync\\nreturn build_response(response, Embeddings)\\n^^^^^^^^^^^^^^^^^^^^^^^^^^^^^^^^^^^^\\nFile \"C:\\\\Users\\\\Anastasia\\\\projects\\\\gpt-researcher-eval\\\\.venv\\\\Lib\\\\site-packages\\\\gigachat\\\\api\\\\utils.py\", line 85, in build_response\\nraise ResponseError(response.url, response.status_code, response.content, response.headers)\\ngigachat.exceptions.ResponseError: (URL(\\'https://gigachat.sberdevices.ru/v1/embeddings\\'), 500, b\\'{\"status\":500,\"message\":\"Internal Server Error\"}\\\\n\\', Headers({\\'server\\': \\'nginx\\', \\'date\\': \\'Mon, 16 Jun 2025 16:12:42 GMT\\', \\'content-type\\': \\'application/json; charset=utf-8\\', \\'content-length\\': \\'49\\', \\'connection\\': \\'keep-alive\\', \\'keep-alive\\': \\'timeout=15\\', \\'access-control-allow-credentials\\': \\'true\\', \\'access-control-allow-headers\\': \\'Origin, X-Requested-With, Content-Type, Accept, Authorization\\', \\'access-control-allow-methods\\': \\'GET, POST, DELETE, OPTIONS\\', \\'access-control-allow-origin\\': \\'https://beta.saluteai.sberdevices.ru\\', \\'x-request-id\\': \\'1becf045-5ee5-42c1-810c-4c2a565c1d83\\', \\'x-session-id\\': \\'22161925-5df7-433e-8891-b40e19e4225b\\', \\'x-sp-crid\\': \\'10309689174:3\\'}))',\n",
       "       'Error processing sub-query Опыт зарубежных стран по внедрению AI в вооруженные силы и методы преодоления препятствий: (URL(\\'https://gigachat.sberdevices.ru/v1/embeddings\\'), 500, b\\'{\"status\":500,\"message\":\"Internal Server Error\"}\\\\n\\', Headers({\\'server\\': \\'nginx\\', \\'date\\': \\'Mon, 16 Jun 2025 16:12:53 GMT\\', \\'content-type\\': \\'application/json; charset=utf-8\\', \\'content-length\\': \\'49\\', \\'connection\\': \\'keep-alive\\', \\'keep-alive\\': \\'timeout=15\\', \\'access-control-allow-credentials\\': \\'true\\', \\'access-control-allow-headers\\': \\'Origin, X-Requested-With, Content-Type, Accept, Authorization\\', \\'access-control-allow-methods\\': \\'GET, POST, DELETE, OPTIONS\\', \\'access-control-allow-origin\\': \\'https://beta.saluteai.sberdevices.ru\\', \\'x-request-id\\': \\'cc50174f-6761-4807-b62c-28e7bd5b4d45\\', \\'x-session-id\\': \\'f5e7dde5-3304-4d2a-bc2a-5fc36f18e9aa\\', \\'x-sp-crid\\': \\'20533908055:5\\'}))\\nTraceback (most recent call last):\\nFile \"C:\\\\Users\\\\Anastasia\\\\projects\\\\giga-gpt-researcher\\\\gpt_researcher\\\\skills\\\\researcher.py\", line 315, in _process_sub_query\\nawait self.researcher.context_manager.get_similar_content_by_query(\\nFile \"C:\\\\Users\\\\Anastasia\\\\projects\\\\giga-gpt-researcher\\\\gpt_researcher\\\\skills\\\\context_manager.py\", line 36, in get_similar_content_by_query\\nreturn await context_compressor.async_get_context(\\n^^^^^^^^^^^^^^^^^^^^^^^^^^^^^^^^^^^^^^^^^^^\\nFile \"C:\\\\Users\\\\Anastasia\\\\projects\\\\giga-gpt-researcher\\\\gpt_researcher\\\\context\\\\compression.py\", line 80, in async_get_context\\nrelevant_docs = await asyncio.to_thread(\\n^^^^^^^^^^^^^^^^^^^^^^^^\\nFile \"C:\\\\Users\\\\Anastasia\\\\AppData\\\\Roaming\\\\uv\\\\python\\\\cpython-3.11.11-windows-x86_64-none\\\\Lib\\\\asyncio\\\\threads.py\", line 25, in to_thread\\nreturn await loop.run_in_executor(None, func_call)\\n^^^^^^^^^^^^^^^^^^^^^^^^^^^^^^^^^^^^^^^^^^^\\nFile \"C:\\\\Users\\\\Anastasia\\\\AppData\\\\Roaming\\\\uv\\\\python\\\\cpython-3.11.11-windows-x86_64-none\\\\Lib\\\\concurrent\\\\futures\\\\thread.py\", line 58, in run\\nresult = self.fn(*self.args, **self.kwargs)\\n^^^^^^^^^^^^^^^^^^^^^^^^^^^^^^^^^^\\nFile \"C:\\\\Users\\\\Anastasia\\\\projects\\\\gpt-researcher-eval\\\\.venv\\\\Lib\\\\site-packages\\\\langchain_core\\\\retrievers.py\", line 259, in invoke\\nresult = self._get_relevant_documents(\\n^^^^^^^^^^^^^^^^^^^^^^^^^^^^^\\nFile \"C:\\\\Users\\\\Anastasia\\\\projects\\\\gpt-researcher-eval\\\\.venv\\\\Lib\\\\site-packages\\\\langchain\\\\retrievers\\\\contextual_compression.py\", line 48, in _get_relevant_documents\\ncompressed_docs = self.base_compressor.compress_documents(\\n^^^^^^^^^^^^^^^^^^^^^^^^^^^^^^^^^^^^^^^^\\nFile \"C:\\\\Users\\\\Anastasia\\\\projects\\\\gpt-researcher-eval\\\\.venv\\\\Lib\\\\site-packages\\\\langchain\\\\retrievers\\\\document_compressors\\\\base.py\", line 40, in compress_documents\\ndocuments = _transformer.compress_documents(\\n^^^^^^^^^^^^^^^^^^^^^^^^^^^^^^^^\\nFile \"C:\\\\Users\\\\Anastasia\\\\projects\\\\gpt-researcher-eval\\\\.venv\\\\Lib\\\\site-packages\\\\langchain\\\\retrievers\\\\document_compressors\\\\embeddings_filter.py\", line 80, in compress_documents\\nembedded_documents = _get_embeddings_from_stateful_docs(\\n^^^^^^^^^^^^^^^^^^^^^^^^^^^^^^^^^^^\\nFile \"C:\\\\Users\\\\Anastasia\\\\projects\\\\gpt-researcher-eval\\\\.venv\\\\Lib\\\\site-packages\\\\langchain_community\\\\document_transformers\\\\embeddings_redundant_filter.py\", line 71, in _get_embeddings_from_stateful_docs\\nembedded_documents = embeddings.embed_documents(\\n^^^^^^^^^^^^^^^^^^^^^^^^^^^\\nFile \"C:\\\\Users\\\\Anastasia\\\\projects\\\\gpt-researcher-eval\\\\.venv\\\\Lib\\\\site-packages\\\\langchain_gigachat\\\\embeddings\\\\gigachat.py\", line 134, in embed_documents\\nfor embedding in self._client.embeddings(\\n^^^^^^^^^^^^^^^^^^^^^^^^\\nFile \"C:\\\\Users\\\\Anastasia\\\\projects\\\\gpt-researcher-eval\\\\.venv\\\\Lib\\\\site-packages\\\\gigachat\\\\client.py\", line 272, in embeddings\\nreturn self._decorator(\\n^^^^^^^^^^^^^^^^\\nFile \"C:\\\\Users\\\\Anastasia\\\\projects\\\\gpt-researcher-eval\\\\.venv\\\\Lib\\\\site-packages\\\\gigachat\\\\client.py\", line 255, in _decorator\\nreturn call()\\n^^^^^^\\nFile \"C:\\\\Users\\\\Anastasia\\\\projects\\\\gpt-researcher-eval\\\\.venv\\\\Lib\\\\site-packages\\\\gigachat\\\\client.py\", line 273, in <lambda>\\nlambda: post_embeddings.sync(self._client, access_token=self.token, input_=texts, model=model)\\n^^^^^^^^^^^^^^^^^^^^^^^^^^^^^^^^^^^^^^^^^^^^^^^^^^^^^^^^^^^^^^^^^^^^^^^^^^^^^^^^^^^^^^\\nFile \"C:\\\\Users\\\\Anastasia\\\\projects\\\\gpt-researcher-eval\\\\.venv\\\\Lib\\\\site-packages\\\\gigachat\\\\api\\\\post_embeddings.py\", line 36, in sync\\nreturn build_response(response, Embeddings)\\n^^^^^^^^^^^^^^^^^^^^^^^^^^^^^^^^^^^^\\nFile \"C:\\\\Users\\\\Anastasia\\\\projects\\\\gpt-researcher-eval\\\\.venv\\\\Lib\\\\site-packages\\\\gigachat\\\\api\\\\utils.py\", line 85, in build_response\\nraise ResponseError(response.url, response.status_code, response.content, response.headers)\\ngigachat.exceptions.ResponseError: (URL(\\'https://gigachat.sberdevices.ru/v1/embeddings\\'), 500, b\\'{\"status\":500,\"message\":\"Internal Server Error\"}\\\\n\\', Headers({\\'server\\': \\'nginx\\', \\'date\\': \\'Mon, 16 Jun 2025 16:12:53 GMT\\', \\'content-type\\': \\'application/json; charset=utf-8\\', \\'content-length\\': \\'49\\', \\'connection\\': \\'keep-alive\\', \\'keep-alive\\': \\'timeout=15\\', \\'access-control-allow-credentials\\': \\'true\\', \\'access-control-allow-headers\\': \\'Origin, X-Requested-With, Content-Type, Accept, Authorization\\', \\'access-control-allow-methods\\': \\'GET, POST, DELETE, OPTIONS\\', \\'access-control-allow-origin\\': \\'https://beta.saluteai.sberdevices.ru\\', \\'x-request-id\\': \\'cc50174f-6761-4807-b62c-28e7bd5b4d45\\', \\'x-session-id\\': \\'f5e7dde5-3304-4d2a-bc2a-5fc36f18e9aa\\', \\'x-sp-crid\\': \\'20533908055:5\\'}))'],\n",
       "      dtype=object)"
      ]
     },
     "execution_count": 16,
     "metadata": {},
     "output_type": "execute_result"
    }
   ],
   "source": [
    "errors_df.loc[((errors_df['file_path'] == 'gpt_researcher.skills.researcher') & (errors_df['line_number'] == '327'))]['data'].unique()"
   ]
  },
  {
   "cell_type": "markdown",
   "id": "be7f6b9f-5030-41c0-a6bc-4ae0635c2890",
   "metadata": {},
   "source": [
    "### gpt_researcher.retrievers.search_plugin.search_plugin 88"
   ]
  },
  {
   "cell_type": "code",
   "execution_count": 17,
   "id": "558b60e6-f8e2-4bc9-aaab-6f9c552c8dfa",
   "metadata": {},
   "outputs": [
    {
     "data": {
      "text/plain": [
       "array(['HTTPStatusError(\"Server error \\'502 Bad Gateway\\' for url \\'https://gigachat.dev.app.sberdevices.ru/retrieval_proxy\\'\\\\nFor more information check: https://developer.mozilla.org/en-US/docs/Web/HTTP/Status/502\")'],\n",
       "      dtype=object)"
      ]
     },
     "execution_count": 17,
     "metadata": {},
     "output_type": "execute_result"
    }
   ],
   "source": [
    "errors_df.loc[((errors_df['file_path'] == 'gpt_researcher.retrievers.search_plugin.search_plugin') & (errors_df['line_number'] == '88'))]['data'].unique()"
   ]
  },
  {
   "cell_type": "markdown",
   "id": "b4961744-492a-49bc-a9e7-8be8df7f2511",
   "metadata": {},
   "source": [
    "### gpt_researcher.utils.llm 105"
   ]
  },
  {
   "cell_type": "code",
   "execution_count": 18,
   "id": "676c26a6-4825-4c13-ac49-e02b818520b4",
   "metadata": {},
   "outputs": [
    {
     "data": {
      "text/plain": [
       "array(['Attempt 1 failed:',\n",
       "       'Attempt 1 failed: peer closed connection without sending complete message body (incomplete chunked read)',\n",
       "       'Attempt 1 failed: Server disconnected without sending a response.'],\n",
       "      dtype=object)"
      ]
     },
     "execution_count": 18,
     "metadata": {},
     "output_type": "execute_result"
    }
   ],
   "source": [
    "errors_df.loc[((errors_df['file_path'] == 'gpt_researcher.utils.llm') & (errors_df['line_number'] == '105'))]['data'].unique()"
   ]
  },
  {
   "cell_type": "markdown",
   "id": "ab8a21a2-2f09-424e-ae03-46633dc843e3",
   "metadata": {},
   "source": [
    "### gpt_researcher.actions.agent_creator 80"
   ]
  },
  {
   "cell_type": "code",
   "execution_count": 19,
   "id": "5259aa10-9ed6-430f-b0d9-e722f6d97fb0",
   "metadata": {},
   "outputs": [
    {
     "data": {
      "text/plain": [
       "array(['Error decoding JSON: Expecting property name enclosed in double quotes: line 1 column 2 (char 1)'],\n",
       "      dtype=object)"
      ]
     },
     "execution_count": 19,
     "metadata": {},
     "output_type": "execute_result"
    }
   ],
   "source": [
    "errors_df.loc[((errors_df['file_path'] == 'gpt_researcher.actions.agent_creator') & (errors_df['line_number'] == '80'))]['data'].unique()"
   ]
  },
  {
   "cell_type": "markdown",
   "id": "c3fd87ee-9514-4502-9e61-33b7cc297062",
   "metadata": {},
   "source": [
    "## Warnings"
   ]
  },
  {
   "cell_type": "code",
   "execution_count": 20,
   "id": "4a279ac7-53d7-4173-8af1-ad81a9312ca7",
   "metadata": {
    "scrolled": true
   },
   "outputs": [
    {
     "data": {
      "text/html": [
       "<div>\n",
       "<style scoped>\n",
       "    .dataframe tbody tr th:only-of-type {\n",
       "        vertical-align: middle;\n",
       "    }\n",
       "\n",
       "    .dataframe tbody tr th {\n",
       "        vertical-align: top;\n",
       "    }\n",
       "\n",
       "    .dataframe thead th {\n",
       "        text-align: right;\n",
       "    }\n",
       "</style>\n",
       "<table border=\"1\" class=\"dataframe\">\n",
       "  <thead>\n",
       "    <tr style=\"text-align: right;\">\n",
       "      <th></th>\n",
       "      <th>timestamp</th>\n",
       "      <th>file_path</th>\n",
       "      <th>line_number</th>\n",
       "      <th>module_name</th>\n",
       "      <th>log_level</th>\n",
       "      <th>data</th>\n",
       "    </tr>\n",
       "  </thead>\n",
       "  <tbody>\n",
       "    <tr>\n",
       "      <th>72</th>\n",
       "      <td>2025-06-16 16:23:47,053</td>\n",
       "      <td>gpt_researcher.scraper.scraper</td>\n",
       "      <td>117</td>\n",
       "      <td>scraper</td>\n",
       "      <td>WARNING</td>\n",
       "      <td>Content too short or empty for https://mgimo.r...</td>\n",
       "    </tr>\n",
       "    <tr>\n",
       "      <th>89</th>\n",
       "      <td>2025-06-16 16:23:47,679</td>\n",
       "      <td>gpt_researcher.scraper.scraper</td>\n",
       "      <td>117</td>\n",
       "      <td>scraper</td>\n",
       "      <td>WARNING</td>\n",
       "      <td>Content too short or empty for https://veorus....</td>\n",
       "    </tr>\n",
       "    <tr>\n",
       "      <th>90</th>\n",
       "      <td>2025-06-16 16:23:47,679</td>\n",
       "      <td>gpt_researcher.scraper.scraper</td>\n",
       "      <td>117</td>\n",
       "      <td>scraper</td>\n",
       "      <td>WARNING</td>\n",
       "      <td>Content too short or empty for https://xn--90a...</td>\n",
       "    </tr>\n",
       "    <tr>\n",
       "      <th>214</th>\n",
       "      <td>2025-06-16 16:24:00,052</td>\n",
       "      <td>gpt_researcher.scraper.scraper</td>\n",
       "      <td>117</td>\n",
       "      <td>scraper</td>\n",
       "      <td>WARNING</td>\n",
       "      <td>Content too short or empty for https://www.hse...</td>\n",
       "    </tr>\n",
       "    <tr>\n",
       "      <th>223</th>\n",
       "      <td>2025-06-16 16:24:08,136</td>\n",
       "      <td>gpt_researcher.scraper.scraper</td>\n",
       "      <td>117</td>\n",
       "      <td>scraper</td>\n",
       "      <td>WARNING</td>\n",
       "      <td>Content too short or empty for https://www.rsh...</td>\n",
       "    </tr>\n",
       "    <tr>\n",
       "      <th>...</th>\n",
       "      <td>...</td>\n",
       "      <td>...</td>\n",
       "      <td>...</td>\n",
       "      <td>...</td>\n",
       "      <td>...</td>\n",
       "      <td>...</td>\n",
       "    </tr>\n",
       "    <tr>\n",
       "      <th>43423</th>\n",
       "      <td>2025-06-16 19:57:13,560</td>\n",
       "      <td>gpt_researcher.scraper.scraper</td>\n",
       "      <td>117</td>\n",
       "      <td>scraper</td>\n",
       "      <td>WARNING</td>\n",
       "      <td>Content too short or empty for https://www.edu...</td>\n",
       "    </tr>\n",
       "    <tr>\n",
       "      <th>43436</th>\n",
       "      <td>2025-06-16 19:57:13,925</td>\n",
       "      <td>gpt_researcher.scraper.scraper</td>\n",
       "      <td>117</td>\n",
       "      <td>scraper</td>\n",
       "      <td>WARNING</td>\n",
       "      <td>Content too short or empty for https://www.gos...</td>\n",
       "    </tr>\n",
       "    <tr>\n",
       "      <th>43437</th>\n",
       "      <td>2025-06-16 19:57:13,941</td>\n",
       "      <td>gpt_researcher.scraper.scraper</td>\n",
       "      <td>117</td>\n",
       "      <td>scraper</td>\n",
       "      <td>WARNING</td>\n",
       "      <td>Content too short or empty for https://tusp24....</td>\n",
       "    </tr>\n",
       "    <tr>\n",
       "      <th>43472</th>\n",
       "      <td>2025-06-16 19:57:14,926</td>\n",
       "      <td>gpt_researcher.scraper.scraper</td>\n",
       "      <td>117</td>\n",
       "      <td>scraper</td>\n",
       "      <td>WARNING</td>\n",
       "      <td>Content too short or empty for https://ir.alfa...</td>\n",
       "    </tr>\n",
       "    <tr>\n",
       "      <th>43755</th>\n",
       "      <td>2025-06-16 19:57:39,767</td>\n",
       "      <td>gpt_researcher.scraper.scraper</td>\n",
       "      <td>117</td>\n",
       "      <td>scraper</td>\n",
       "      <td>WARNING</td>\n",
       "      <td>Content too short or empty for https://www.acj...</td>\n",
       "    </tr>\n",
       "  </tbody>\n",
       "</table>\n",
       "<p>384 rows × 6 columns</p>\n",
       "</div>"
      ],
      "text/plain": [
       "                     timestamp                       file_path line_number  \\\n",
       "72     2025-06-16 16:23:47,053  gpt_researcher.scraper.scraper         117   \n",
       "89     2025-06-16 16:23:47,679  gpt_researcher.scraper.scraper         117   \n",
       "90     2025-06-16 16:23:47,679  gpt_researcher.scraper.scraper         117   \n",
       "214    2025-06-16 16:24:00,052  gpt_researcher.scraper.scraper         117   \n",
       "223    2025-06-16 16:24:08,136  gpt_researcher.scraper.scraper         117   \n",
       "...                        ...                             ...         ...   \n",
       "43423  2025-06-16 19:57:13,560  gpt_researcher.scraper.scraper         117   \n",
       "43436  2025-06-16 19:57:13,925  gpt_researcher.scraper.scraper         117   \n",
       "43437  2025-06-16 19:57:13,941  gpt_researcher.scraper.scraper         117   \n",
       "43472  2025-06-16 19:57:14,926  gpt_researcher.scraper.scraper         117   \n",
       "43755  2025-06-16 19:57:39,767  gpt_researcher.scraper.scraper         117   \n",
       "\n",
       "      module_name log_level                                               data  \n",
       "72        scraper   WARNING  Content too short or empty for https://mgimo.r...  \n",
       "89        scraper   WARNING  Content too short or empty for https://veorus....  \n",
       "90        scraper   WARNING  Content too short or empty for https://xn--90a...  \n",
       "214       scraper   WARNING  Content too short or empty for https://www.hse...  \n",
       "223       scraper   WARNING  Content too short or empty for https://www.rsh...  \n",
       "...           ...       ...                                                ...  \n",
       "43423     scraper   WARNING  Content too short or empty for https://www.edu...  \n",
       "43436     scraper   WARNING  Content too short or empty for https://www.gos...  \n",
       "43437     scraper   WARNING  Content too short or empty for https://tusp24....  \n",
       "43472     scraper   WARNING  Content too short or empty for https://ir.alfa...  \n",
       "43755     scraper   WARNING  Content too short or empty for https://www.acj...  \n",
       "\n",
       "[384 rows x 6 columns]"
      ]
     },
     "execution_count": 20,
     "metadata": {},
     "output_type": "execute_result"
    }
   ],
   "source": [
    "warnings_df = df.loc[df[\"log_level\"] == \"WARNING\"]\n",
    "warnings_df"
   ]
  },
  {
   "cell_type": "code",
   "execution_count": 21,
   "id": "20bc1fd3-b52b-4757-bce9-6b35d6846d05",
   "metadata": {},
   "outputs": [
    {
     "data": {
      "text/plain": [
       "file_path\n",
       "gpt_researcher.scraper.scraper             382\n",
       "langchain_gigachat.chat_models.gigachat      2\n",
       "Name: count, dtype: int64"
      ]
     },
     "execution_count": 21,
     "metadata": {},
     "output_type": "execute_result"
    }
   ],
   "source": [
    "warnings_df[\"file_path\"].value_counts()"
   ]
  },
  {
   "cell_type": "code",
   "execution_count": 22,
   "id": "72e62908-79df-4223-9bc4-7c6f054d5ca2",
   "metadata": {
    "scrolled": true
   },
   "outputs": [
    {
     "data": {
      "text/plain": [
       "file_path                                line_number\n",
       "gpt_researcher.scraper.scraper           117            382\n",
       "langchain_gigachat.chat_models.gigachat  518              2\n",
       "Name: count, dtype: int64"
      ]
     },
     "execution_count": 22,
     "metadata": {},
     "output_type": "execute_result"
    }
   ],
   "source": [
    "warnings_df[[\"file_path\", \"line_number\"]].value_counts()"
   ]
  },
  {
   "cell_type": "markdown",
   "id": "c7edb029-f702-4a89-aabb-e0ec99edf98f",
   "metadata": {},
   "source": [
    "### gpt_researcher.scraper.scraper 117"
   ]
  },
  {
   "cell_type": "code",
   "execution_count": 23,
   "id": "8cdb763a-eb94-4994-9622-72b506e745c9",
   "metadata": {
    "scrolled": true
   },
   "outputs": [
    {
     "data": {
      "text/plain": [
       "array(['Content too short or empty for https://mgimo.ru/upload/2023/09/MJ_01_2023.pdf',\n",
       "       'Content too short or empty for https://veorus.ru/upload/iblock/85f/196_veor_new.pdf',\n",
       "       'Content too short or empty for https://xn--90ab5f.xn--p1ai/common/upload/files/veb/news/review/op20130401.pdf',\n",
       "       'Content too short or empty for https://www.hse.ru/data/2025/02/13/1465535857/%D0%91%D0%9E%D0%92%2042%20%D0%98%D1%82%D0%BE%D0%B3%D0%BE%D0%B2%D1%8B%D0%B9.pdf',\n",
       "       'Content too short or empty for https://www.rshu.ru/sveden/document/2024/prikaz_429_2023.pdf',\n",
       "       'Content too short or empty for https://frankmedia.ru/8544',\n",
       "       'Content too short or empty for https://interneturok.ru/lesson/istoriya/8-klass/rossiya-v-60-70-e-gg-aleksandr-ii/sotsialno-ekonomicheskoe-razvitie-rossii-v-1860-1870-e-gg',\n",
       "       'Content too short or empty for https://mintrans.gov.ru/file/373254',\n",
       "       'Content too short or empty for https://xn--90ab5f.xn--p1ai/common/upload/files/veb/news/review/2017/op20170322.pdf',\n",
       "       'Content too short or empty for https://www.dp.ru/a/2018/03/12/Bit_bogatim__ne_stidno',\n",
       "       'Content too short or empty for http://www.cbr.ru/collection/collection/file/32268/ar_2020.pdf',\n",
       "       'Content too short or empty for https://kafanews.com/novosti/198205/glava-vebrf-igor-shuvalov-stanovlenie-karera-i-lichnaya-zhizn_2023-04-09',\n",
       "       'Content too short or empty for https://vestnik-rm.ru/articles/kalejdoskop/german-gref-istoriya-uspeha',\n",
       "       'Content too short or empty for https://vesti42.ru/novosti-so-vsego-sveta/igor-shuvalov-put-ot-pravitelstvennogo-upravlencza-do-lidera-krupnejshego-instituta-razvitiya-rossii/',\n",
       "       'Content too short or empty for https://zf.ranepa.ru/upload/zf/documents/rpds/rpd_380302_mvig_o_oz_2025_3.pdf',\n",
       "       'Content too short or empty for https://rguk.ru/upload/medialibrary/f77/gbmvw52j7fhl2dt8qz01g8nvil7qz2um/%D0%9C%D0%98%D0%A0-2025%20%D0%A7%D0%B0%D1%81%D1%82%D1%8C%201.pdf',\n",
       "       'Content too short or empty for https://asi.ru/agency/supervisory_expert_board/',\n",
       "       'Content too short or empty for https://academia.interfax.ru/ru/news/articles/15561/',\n",
       "       'Content too short or empty for https://omsklib.ru/files/news/2024/4/Exlibris.pdf',\n",
       "       'Content too short or empty for https://omskgazzeta.ru/all-news/ivan-krott-prokommentiroval-svoe-naznachenie-ispolnjajushhim-objazannosti-rektora-omgu/',\n",
       "       'Content too short or empty for http://istkurier.ru/data/2018/ISTKURIER-2018-1.pdf',\n",
       "       'Content too short or empty for https://vuzopedia.ru/vuz/2207/compare',\n",
       "       'Content too short or empty for https://vuz.edunetwork.ru/jour/55/',\n",
       "       'Content too short or empty for https://omgpu.ru/sites/default/files/files/basic/omgpu-segodnya/oficialnye-dokumenty-omgpu/1._otchet_o_samoobsledovanii_2020.pdf',\n",
       "       'Content too short or empty for http://events.omsu.ru/Conference/GetConferenceFile?fileId=71',\n",
       "       'Content too short or empty for https://files.omsu.ru/sveden/document/programma_razvitiya_omgu.pdf',\n",
       "       'Content too short or empty for https://vuzopedia.ru/spec/region/city/70/163',\n",
       "       'Content too short or empty for http://www.sbras.info/public-reception/question/bliznetsy-cherez-pokolenie-eto-mif',\n",
       "       'Content too short or empty for https://psystudy.ru/num/article/download/893/846',\n",
       "       'Content too short or empty for https://allestate.pro/news/12.04.2025/rossiya-2025-demograficheskiy-proval-ugrozhaet-pensionnoy-sisteme',\n",
       "       'Content too short or empty for https://www.facebook.com/themeduza/posts/openai-%D0%BE%D0%B1%D1%8A%D1%8F%D0%B2%D0%B8%D0%BB%D0%B0-%D0%BE-%D0%BF%D0%BE%D0%BA%D1%83%D0%BF%D0%BA%D0%B5-%D1%81%D1%82%D0%B0%D1%80%D1%82%D0%B0%D0%BF%D0%B0-%D0%B4%D0%B8%D0%B7%D0%B0%D0%B9%D0%BD%D0%B5%D1%80%D0%B0-%D0%B4%D0%B6%D0%BE%D0%BD%D0%BD%D0%B8-%D0%B0%D0%B9%D0%B2%D0%B0-%D0%BF%D0%BE%D0%B4-%D0%BD%D0%B0%D0%B7%D0%B2%D0%B0%D0%BD%D0%B8%D0%B5%D0%BC-io-%D0%B7%D0%B0-65-/1078100351019366/',\n",
       "       'Content too short or empty for https://gotquestions.online/question/57493',\n",
       "       'Content too short or empty for https://ru.investing.com/news/stock-market-news/article-2771819',\n",
       "       'Content too short or empty for https://www.securitylab.ru/news/559578.php',\n",
       "       'Content too short or empty for https://ru.investing.com/news/stock-market-news/article-2770283',\n",
       "       'Content too short or empty for https://krasnodar.allestate.pro/news/22.05.2025/openai-i-dzhoni-ayv-kak-pokupka-startapa-io-za-6-5-mlrd-izmenit-rynok-ii-ustroystv',\n",
       "       'Content too short or empty for https://www.binance.com/ru/square/post/24553976376033',\n",
       "       'Content too short or empty for https://www.pravda.ru/news/science/2203968-johnny-ive-sam-altman-ai-device/',\n",
       "       'Content too short or empty for https://www.microsoft.com/ru-ru/store/top-paid/games/pc?category=Action+%26+adventure&maturityrating=ESRB%3AT&ocid=AID681541_aff_7593_1333562&skipitems=180',\n",
       "       'Content too short or empty for https://vestnik-bist.ru/wp-content/uploads/2023/07/VestnikBIST_2-2023_site.pdf',\n",
       "       'Content too short or empty for https://old.sibur.ru/procurement/docs/SIBUR%20%D1%81%D0%BB%D0%BE%D0%B2%D0%B0%D1%80%D1%8C%20%D0%B0%D0%B1%D0%B1%D1%80%D0%B5%D0%B2%D0%B8%D0%B0%D1%82%D1%83%D1%80.xlsx',\n",
       "       'Content too short or empty for https://primeminister.kz/ru/news/reviews/reformy-v-sisteme-obrazovaniya-orientatsiya-na-budushchee-i-zaprosy-obshchestva-30004',\n",
       "       'Content too short or empty for https://management-science.ru/site/public/elfinder/Sbornik/Students%20sbornik.pdf',\n",
       "       'Content too short or empty for https://primeminister.kz/ru/documents/gosprograms/stratplan-2025',\n",
       "       'Content too short or empty for https://www.akorda.kz/ru/official_documents/strategies_and_programs',\n",
       "       'Content too short or empty for https://www.akorda.kz/ru/executive_office/presidential_councils',\n",
       "       'Content too short or empty for https://www.e-disclosure.ru/portal/FileLoad.ashx?Fileid=1841568',\n",
       "       'Content too short or empty for https://rspp.ru/upload/uf/ef9/%D0%93%D0%BE%D0%B4%D0%BE%D0%B2%D0%BE%D0%B9%20%D0%BE%D1%82%D1%87%D0%B5%D1%82%202019.pdf',\n",
       "       'Content too short or empty for https://pureportal.spbu.ru/files/85311027/Aktualnye_problemy_sovremennoy_ekonomiki_2021.pdf',\n",
       "       'Content too short or empty for https://www.acra-ratings.ru/research/2797/',\n",
       "       'Content too short or empty for https://adilet.zan.kz/rus/docs/K970002030_',\n",
       "       'Content too short or empty for https://eabr.org/upload/iblock/c55/EDB_Macroreview_2025_2027_RU.pdf',\n",
       "       'Content too short or empty for https://halykfinance.kz/download/files/analytics/macro2024_.pdf',\n",
       "       'Content too short or empty for https://afk.kz/2024/12/2024-2025-Macroeconomic-Forecast.pdf',\n",
       "       'Content too short or empty for https://bulleten-kuzbass.ru/bulletin/210988',\n",
       "       'Content too short or empty for https://adilet.zan.kz/rus/docs/U1800000636',\n",
       "       'Content too short or empty for https://adilet.zan.kz/rus/docs/U2300000121',\n",
       "       'Content too short or empty for https://mgimo.ru/upload/iblock/34d/15181_DolbikVOROBEY_%D0%90%D0%B2%D1%82%D0%BE%D1%80%D1%83%20%D0%B4%D0%BB%D1%8F%20%D1%83%D1%82%D0%B2%D0%B5%D1%80%D0%B6%D0%B4%D0%B5%D0%BD%D0%B8%D1%8F%20(1).pdf',\n",
       "       'Content too short or empty for https://rosstat.gov.ru/free_doc/new_site/population/demo/demo21.htm',\n",
       "       'Content too short or empty for https://rosstat.gov.ru/bgd/regl/b11_13/isswww.exe/stg/d1/04-06.htm',\n",
       "       'Content too short or empty for https://ruxpert.ru/%D0%94%D0%B5%D0%BC%D0%BE%D0%B3%D1%80%D0%B0%D1%84%D0%B8%D1%8F_%D0%A0%D0%BE%D1%81%D1%81%D0%B8%D0%B8',\n",
       "       'Content too short or empty for https://elib.pnzgu.ru/files/eb/doc/2HIKmJCDlo52.pdf',\n",
       "       'Content too short or empty for https://64.rosstat.gov.ru/storage/mediabank/%D0%A2%D0%BE%D0%BB%D0%BE%D0%BA%D0%BE%D0%BD%D0%BD%D0%B8%D0%BA%D0%BE%D0%B2%D0%B0%20%D0%90.%D0%92..pdf',\n",
       "       'Content too short or empty for https://www.mediasphera.ru/issues/rossijskij-vestnik-akushera-ginekologa/2019/2/downloads/ru/1172661222019021014',\n",
       "       'Content too short or empty for https://roscongress.org/materials/spetsialnaya-demograficheskaya-operatsiya-formirovanie-trenda-mnogodetnosti-v-rossii-2024/',\n",
       "       'Content too short or empty for https://www.demoscope.ru/weekly/knigi/andr_dars_khar/Demographic%20history%20of%20Russia%201927-1959.pdf',\n",
       "       'Content too short or empty for https://rosstat.gov.ru/bgd/regl/b15_111/',\n",
       "       'Content too short or empty for https://www.rsuh.ru/binary/object_18.1292750849.93563.docx',\n",
       "       'Content too short or empty for https://rosstat.gov.ru/bgd/free/B99_10/IssWWW.exe/Stg/d000/i000030r.htm',\n",
       "       'Content too short or empty for https://www.km.ru/v-rossii/2025/05/18/rosstat/916851-rosstat-zasekretil-statistiku-po-demografii-v-razbivke-po-regiona',\n",
       "       'Content too short or empty for https://www.sevsu.ru/upload/iblock/26b/1ol7pn2338yfgt0s3i43ku0bsqk226lu/2619-1628_6_full.pdf',\n",
       "       'Content too short or empty for https://rb.ru/opinion/programming-with-ai/',\n",
       "       'Content too short or empty for https://onco.tnimc.ru/upload/dissovet/dissovet-onco/soiskateli/2023/06-2023/patisheva/%D0%94%D0%B8%D1%81%D1%81%D0%B5%D1%80%D1%82%D0%B0%D1%86%D0%B8%D1%8F_%D0%9F%D0%B0%D1%82%D1%8B%D1%88%D0%B5%D0%B2%D0%B0.pdf',\n",
       "       'Content too short or empty for https://korusconsulting.ru/press-centr/kak-ii-pomogaet-pisat-soft/',\n",
       "       'Content too short or empty for https://ict.moscow/projects/ai/news/?newsId=674ece90e94b04576243c002',\n",
       "       'Content too short or empty for https://bhv.ru/wp-content/uploads/wpallimport/files/pdfki/view_2951_978-601-271-727-3.pdf?srsltid=AfmBOopeNHExrG83xtcaeikk1TTXZ5vYaZgN066s2jizb0mpwL8rkPQE',\n",
       "       'Content too short or empty for https://ict.moscow/news/mts-vnedrit-v-razrabotku-servisov-i-produktov-neiroset-software-2-0/',\n",
       "       'Content too short or empty for https://elar.urfu.ru/bitstream/10995/138341/1/m_th_l.g.semenov_2024.pdf',\n",
       "       'Content too short or empty for https://yakov.partners/upload/iblock/c5e/c8t1wrkdne5y9a4nqlicderalwny7xh4/20231218_AI_future.pdf',\n",
       "       'Content too short or empty for https://guu.ru/wp-content/uploads/vp-3-2.pdf',\n",
       "       'Content too short or empty for https://roscongress.org/materials/top-15-primerov-ispolzovaniya-iskusstvennogo-intellekta-v-biznese/',\n",
       "       'Content too short or empty for https://roscongress.org/materials/trendy-i-razvitie-iskusstvennogo-intellekta-ii/',\n",
       "       'Content too short or empty for http://www.psu.ru/files/docs/science/books/sborniki/Iskusstvennyj-intellekt-v-reshenii-aktualnyh-socialnyh-i-ekonomicheskih-problem-XXI-veka-ch-1.pdf',\n",
       "       'Content too short or empty for https://kc.hse.ru/wp-content/uploads/2018/02/VSHYE-2017Cifrovaya-yekonomika-globalnye-trendy-i-praktika-rossiyskogo-biznesa-2.pdf',\n",
       "       'Content too short or empty for https://mgsu.ru/postupayushchim/olimp/olimpiady/stroitelnaya-olimpiada-imeni-n-s-streletskogo-2022/iskusstvennyy-intellekt-v-stroitelstve/Iskusstvenny_intellekt_i_kompyuternoe_zrenie.pdf',\n",
       "       'Content too short or empty for https://marketolog.mts.ru/blog/iskusstvennii-intellekt-v-marketinge-podborka-interesnih-keisov',\n",
       "       'Content too short or empty for https://dynamicsun.ru/llm/integratsia_iskusstvennogo_intellekta.html',\n",
       "       'Content too short or empty for https://digital.gov.ru/uploaded/files/primeryi-primeneniya-tehnologij-iskusstvennogo-intellekta.pdf',\n",
       "       'Content too short or empty for https://roscongress.org/materials/iskusstvennyy-intellekt-dostizheniya-2024-goda-plany-na-2025-god/',\n",
       "       'Content too short or empty for https://claspo.io/ru/blog/ai-in-marketing-examples-and-use-cases/',\n",
       "       'Content too short or empty for https://dynamicsun.ru/it-resheniya/riski-vnedreniya-ii-tehnologii.html',\n",
       "       'Content too short or empty for https://www.imemo.ru/files/File/ru/events/2023/28112023/28112023-PROG-H-001.pdf',\n",
       "       'Content too short or empty for https://roscongress.org/materials/rossiya-na-puti-k-tekhnologicheskomu-liderstvu-vyzovy-i-vozmozhnosti-/',\n",
       "       'Content too short or empty for https://roscongress.org/materials/nauka-v-rossii-kak-strategicheskiy-prioritet-peredovye-regiony-rossii-delayut-stavku-na-budushchie-t/',\n",
       "       'Content too short or empty for https://www.ranepa.ru/news/vasilev-yu-v-dostizhenie-tekhnologicheskoy-nezavisimosti/',\n",
       "       'Content too short or empty for https://piu.ranepa.ru/news/dostizhenie-tekhnologicheskoy-nezavisimosti-rossiyskoy-federatsii/',\n",
       "       'Content too short or empty for https://sbras.info/articles/mneniya/kakim-ya-vizhu-buduschee-rossiyskoy-nauki',\n",
       "       'Content too short or empty for https://roscongress.org/materials/nauchno-tekhnologicheskiy-proryv-rossii-strategiya-i-prioritety-dolgosrochnogo-razvitiya/',\n",
       "       'Content too short or empty for https://www.imemo.ru/files/File/ru/publ/2024/Prognoz-2025.pdf',\n",
       "       'Content too short or empty for https://xn--m1agf.xn--p1ai/',\n",
       "       'Content too short or empty for https://ruef.ru/assets/files/editions/Block_Gorizont_web_p_0208.pdf',\n",
       "       'Content too short or empty for https://cipr.ru/wp-content/uploads/pdf/izdanie/cipr2025-jubileinoe-izdanie.pdf',\n",
       "       'Content too short or empty for https://pureportal.spbu.ru/files/131363482/Sbornik_My_v_Rossii_Rossia_v_mire_pokolenii_774.pdf',\n",
       "       'Content too short or empty for https://forumspb.com/programme/business-programme/145531/',\n",
       "       'Content too short or empty for https://www.imf.org/ru/Publications/fandd/issues/2023/12/B2B-Artificial-Intelligence-promise-peril-Tourpe',\n",
       "       'Content too short or empty for http://government.ru/news/55025/',\n",
       "       'Content too short or empty for https://www.finam.ru/publications/item/iskusstvennyy-intellekt-v-bankakh-nastoyashchee-i-budushchee-tekhnologii-v-finansovom-sektore-20250518-1430/',\n",
       "       'Content too short or empty for https://economy.gov.ru/material/news/iskusstvennomu_intellektu_opredelili_prioritetnye_napravleniya_issledovaniya.html',\n",
       "       'Content too short or empty for https://roscongress.org/materials/perspektivy-liderstva-rossii-v-oblasti-ii/',\n",
       "       'Content too short or empty for http://xn--l1aqg.xn--p1ai/public/article/94/7c/7c18_ba78.pdf',\n",
       "       'Content too short or empty for https://cgon.rospotrebnadzor.ru/naseleniyu/gramotnyy-potrebitel/razvitie-iskusstvennogo-intellekta-v-rossii/',\n",
       "       'Content too short or empty for https://portal.tpu.ru/SHARED/k/KUKVER89/Teaching/Tab2/Obzor_biotehn.pdf',\n",
       "       'Content too short or empty for http://government.ru/news/54410/',\n",
       "       'Content too short or empty for https://www.asu.ru/univer_about/program/priority/projects/',\n",
       "       'Content too short or empty for https://docs.cntd.ru/document/902391680',\n",
       "       'Content too short or empty for https://prognoz2030.hse.ru/data/2014/12/25/1103939133/Prognoz_2030_final.pdf',\n",
       "       'Content too short or empty for https://nangs.org/news/technologies/rashody-na-nauku-top-10-stran-mira',\n",
       "       'Content too short or empty for https://www.finam.ru/publications/item/vsemirnyy-den-nauki-skolko-raznye-strany-tratyat-na-nauchnye-issledovaniya-20241110-1300/',\n",
       "       'Content too short or empty for https://minfin.gov.ru/common/upload/library/2020/09/main/Ispolnenie_federalnogo_budzheta_2019_god.pdf',\n",
       "       'Content too short or empty for https://bcs-express.ru/novosti-i-analitika/nauchnyi-mir-skol-ko-strany-tratiat-na-issledovaniia-i-kak-izmenitsia-nauka-v-budushchem',\n",
       "       'Content too short or empty for https://roscongress.org/materials/klyuchevye-sobytiya-2025-geoekonomika-prgnozy-osnovnye-riski/',\n",
       "       'Content too short or empty for https://www.imemo.ru/files/File/ru/Articles/2025/Vestnik-Mejdunarodnyh-Organizatsiy-20-1-2025-Portansky.pdf',\n",
       "       'Content too short or empty for https://elibrary.ru/item.asp?id=53965819',\n",
       "       'Content too short or empty for http://www.econorus.org/repec/journl/2019-41-201-207r.pdf',\n",
       "       'Content too short or empty for https://www.dp.ru/a/2025/04/14/jeho-torgovoj-vojni-viigraet',\n",
       "       'Content too short or empty for http://static.government.ru/media/files/41d457592e04b76338b7.pdf',\n",
       "       'Content too short or empty for https://www.economy.gov.ru/material/file/b028b88a60e6ddf67e9fe9c07c4951f0/prognoz_socialno_ekonomicheskogo_razvitiya_rf_2025-2027.pdf',\n",
       "       'Content too short or empty for http://sutkt.ru/new_site/images/upload/Razgovor/18-11-2024/%D0%A0%D0%9E%D0%92_%D0%A1%D0%9F%D0%9E_%D0%BC%D0%B5%D1%82%D0%BE%D0%B4_%D1%80%D0%B5%D0%BA%D0%BE%D0%BC_%D0%98%D0%98_%D0%B8_%D1%87%D0%B5%D0%BB%D0%BE%D0%B2%D0%B5%D0%BA.pdf',\n",
       "       'Content too short or empty for https://biblioclub.ru/index.php?page=book_red&id=597604&razdel=264',\n",
       "       'Content too short or empty for https://newizv.ru/news/2021-05-23/pozner-stanet-robotom-nazvany-televeduschie-kotoryh-legko-smenit-na-virtualnyh-334039',\n",
       "       'Content too short or empty for https://www.edu.ru/news/it-v-obrazovanii/sergey-kravcov-ispolzovanie-informacionnyh-tehnolo/',\n",
       "       'Content too short or empty for https://mon.tatarstan.ru/index.htm/news/2419048.htm',\n",
       "       'Content too short or empty for https://unesdoc.unesco.org/ark:/48223/pf0000373434_rus',\n",
       "       'Content too short or empty for http://safe-surf.ru/specialists/article/5325/706352/',\n",
       "       'Content too short or empty for https://iaoo.ru/files/books/pdf/Stelmak_MM_Gladyshev_AN.pdf',\n",
       "       'Content too short or empty for https://www.journ.msu.ru/downloads/2021/%D0%9E%D0%96_6_2021.pdf',\n",
       "       'Content too short or empty for https://go.urokilegend.ru/courses/pozner-course',\n",
       "       'Content too short or empty for https://elib.sfu-kras.ru/bitstream/handle/2311/125784/vkr_zharikova.pdf?sequence=1',\n",
       "       'Content too short or empty for https://www.dimitrysmirnov.ru/blog/cerkov-9922/',\n",
       "       'Content too short or empty for https://jf.spbu.ru/upload/files/file_1593162782_6574.pdf',\n",
       "       'Content too short or empty for http://dspace.bsu.edu.ru/bitstream/123456789/36731/1/Knyazeva_Vladimir_18.pdf',\n",
       "       'Content too short or empty for http://www.vestnik-mslu.ru/Vest/17_756_indd.pdf',\n",
       "       'Content too short or empty for https://automobili.ru/live/persons/culture/conversation-with-posner/',\n",
       "       'Content too short or empty for https://www.ispring.ru/elearning-insights/kak-davat-obratnuy-svyaz',\n",
       "       'Content too short or empty for https://secrets.tbank.ru/blogi-kompanij/kak-vnedrit-kulturu-obratnoj-svyazi/',\n",
       "       'Content too short or empty for https://www.ispring.ru/elearning-insights/hr-trends',\n",
       "       'Content too short or empty for https://www.4dk.ru/content/art/5387-d-kak-davat-effektivnyy-fidbek-20190123',\n",
       "       'Content too short or empty for https://cubiq.ru/gayd-po-korablyam-v-starfield/',\n",
       "       'Content too short or empty for https://support.eveonline.com/hc/ru/articles/115004925685-%D0%9F%D1%83%D1%82%D0%B5%D1%88%D0%B5%D1%81%D1%82%D0%B2%D0%B8%D1%8F-%D0%BF%D0%BE-%D1%81%D0%B8%D1%81%D1%82%D0%B5%D0%BC%D0%B5-%D0%B2%D0%B0%D1%80%D0%BF-%D1%80%D0%B5%D0%B6%D0%B8%D0%BC',\n",
       "       'Content too short or empty for https://www.ispring.ru/elearning-insights/platforma-onlain-obucheniya',\n",
       "       'Content too short or empty for https://secrets.tbank.ru/lichnyj-opyt/realii-rossijskogo-edtekha/',\n",
       "       'Content too short or empty for https://vkusnovk.ru/blog/onlajn-shkoly/trendy-v-onlajn-obrazovanii',\n",
       "       'Content too short or empty for https://www.ispring.ru/elearning-insights/chto-vazhno-znat-o-trendah-rinka-edtech',\n",
       "       'Content too short or empty for https://secrets.tbank.ru/blogi-kompanij/perspektivnye-biznes-modeli-2025/',\n",
       "       'Content too short or empty for https://frankmedia.ru/206034',\n",
       "       'Content too short or empty for https://hf.ru/services/c/platformi_dly_onlayn_obucheniya',\n",
       "       'Content too short or empty for https://img-cdn.tinkoffjournal.ru/barometer-online-education-2020.pdf',\n",
       "       'Content too short or empty for https://legacyonlineschool.com/blog/10-luchshih-onlajn-shkol-2023-goda-povyste-uroven-svoego-obrazovaniya.html',\n",
       "       'Content too short or empty for https://www.ispring.ru/elearning-insights/6-best-lms-in-russia-by-users-opinion',\n",
       "       'Content too short or empty for https://rb.ru/list/9-bm/',\n",
       "       'Content too short or empty for https://issek.hse.ru/mirror/pubs/share/832628936.pdf',\n",
       "       'Content too short or empty for https://www.tsutmb.ru/nauka/internet-konferencii/2025/lichn_i_prof_razv_bud_special/4/Akolzina_Berketova_Lukyanchikova.pdf',\n",
       "       'Content too short or empty for https://elibrary.ru/item.asp?id=48250163',\n",
       "       'Content too short or empty for https://og1.ru/polza/roditelyu/kak-vybrat-luchshuyu-onlajn-shkolu-dlya-vashego-rebenka-v-2025-godu',\n",
       "       'Content too short or empty for https://roscongress.org/materials/internatsionalizatsiya-rossiyskogo-obrazovaniya-v-sovremennykh-usloviyakh-/',\n",
       "       'Content too short or empty for https://www.economy.gov.ru/material/file/4c631ab1a829dc1a17ab40db24d52d3a/strategiya_fonda_sodeystviya_innovaciyam_do_2024.pdf',\n",
       "       'Content too short or empty for https://www.hse.ru/data/2013/06/04/1285411599/%D0%9B%D0%B0%D0%B1%D1%83%D0%B7%D0%BD%D0%B0%D1%8F%20%D0%92.%D0%AE.%20743%D0%B6%20%D0%A2%D1%80%D0%B0%D0%BD%D1%81%D1%84%D0%BE%D1%80%D0%BC%D0%B0%D1%86%D0%B8%D1%8F%20%D0%B1%D0%B8%D0%B7%D0%BD%D0%B5%D1%81-%D0%BC%D0%BE%D0%B4%D0%B5%D0%BB%D0%B5%D0%B9%20%D0%B2%20%D0%BC%D1%83%D0%BB%D1%8C%D1%82%D0%B8%D0%BC%D0%B5%D0%B4%D0%B8%D0%B9%D0%BD%D1%8B%D1%85%20%D1%85%D0%BE%D0%BB%D0%B4%D0%B8%D0%BD%D0%B3%D0%B0%D1%85.docx',\n",
       "       'Content too short or empty for https://mgimo.ru/upload/iblock/3d5/3d5cfa570e4fe96f6b6b47bc62c37ba1.pdf',\n",
       "       'Content too short or empty for https://realtribune.ru/putin-potreboval-uchest-opyt-svo-v-novoj-programme-vooruzhenij-do-2036-goda/',\n",
       "       'Content too short or empty for https://www.pravo.mgimo.ru/?q=analitika/vooruzheniya-tehnologii-tehnika',\n",
       "       'Content too short or empty for https://rosavtodor.gov.ru/docs/transportnaya-strategiya-rf-na-period-do-2030-goda-s-prognozom-na-period-do-2035-goda',\n",
       "       'Content too short or empty for http://static.government.ru/media/files/lcRbgf2IkDV5TnMmASEyDG5FjYvT4r2p.pdf',\n",
       "       'Content too short or empty for https://lenta.ru/articles/2025/01/17/weapon25/',\n",
       "       'Content too short or empty for https://vm.ric.mil.ru/Stati/item/493331',\n",
       "       'Content too short or empty for https://www.tver.ru/razvitie/%D0%A1%D0%A2%D0%A0%D0%90%D0%A2%D0%95%D0%93%D0%98%D0%AF_2035%20%D0%9F%D0%BE%D1%81%D0%BB%D0%B5%20%D0%9F%D1%80%D0%B0%D0%B2_%D1%83%D0%BF%D1%80%20%D0%98%D0%A2%D0%9E%D0%93_02.12.19_%D1%81%D1%82%D1%80%D0%BE%D0%BA%D0%B8.docx',\n",
       "       'Content too short or empty for https://lsop.ru/pressroom/news/minoborony-gotovit-novuyu-koncepciyu-razvitiya-vooruzhennyh-sil-rf',\n",
       "       'Content too short or empty for http://defence.mgimo.ru/?q=analitika/vooruzhennye-sily-vvst-rossii',\n",
       "       'Content too short or empty for https://21.mchs.gov.ru/deyatelnost/osnovy-gosudarstvennoy-politiki-rossiyskoy-federacii-do-2030-goda/osnovy-gosudarstvennoy-politiki-rossiyskoy-federacii-v-oblasti-pozharnoy-bezopasnosti-na-period-do-2030-goda',\n",
       "       'Content too short or empty for http://komitet4.km.duma.gov.ru/Materialy-po-strategii-razvitiya-regiono/Perechen-federalnyh-strategicheskih-i-ko',\n",
       "       'Content too short or empty for https://docs.cntd.ru/document/420398070',\n",
       "       'Content too short or empty for https://vm.ric.mil.ru/Stati/item/376364/',\n",
       "       'Content too short or empty for https://army.ric.mil.ru/Stati/item/633235/',\n",
       "       'Content too short or empty for http://government.ru/docs/all/111512/',\n",
       "       'Content too short or empty for https://mgimo.ru/about/news/departments/ugrozy-natsionalnoy-bezopasnosti/',\n",
       "       'Content too short or empty for https://w-science.com/ru/storage/download/92679',\n",
       "       'Content too short or empty for https://docs.cntd.ru/document/902197351',\n",
       "       'Content too short or empty for https://mgimo.ru/upload/2015/10/Peace_and_war.pdf',\n",
       "       'Content too short or empty for http://government.ru/news/53917/',\n",
       "       'Content too short or empty for http://www.vsrf.ru/files/29675/',\n",
       "       'Content too short or empty for http://hmrn.ru/raion/ekonomika/ser/strategy/1-6-infrastrukturnyy-sektor-transport-svyaz-zhilishchno-kommunalnoe-khozyaystvo-novaya-stranitsa.php',\n",
       "       'Content too short or empty for http://static.government.ru/media/files/ZsnFICpxWknEXeTfQdmcFHNei2FhcR0A.pdf',\n",
       "       'Content too short or empty for https://mgimo.ru/upload/diss/2022/Marchenko_diss.pdf',\n",
       "       'Content too short or empty for https://www.dipacademy.ru/documents/8694/Doklad_Iskusstvennyj_intellekt_i_geopolitika.pdf',\n",
       "       'Content too short or empty for https://www.un.org/sites/un2.un.org/files/governing_ai_for_humanity_final_report_ru.pdf',\n",
       "       'Content too short or empty for https://files.data-economy.ru/Docs/Otchet%20_strat_napr_AI.pdf',\n",
       "       'Content too short or empty for https://apr.moscow/content/data/6/11%20%D0%A2%D0%B5%D1%85%D0%BD%D0%BE%D0%BB%D0%BE%D0%B3%D0%B8%D0%B8%20%D0%B8%D1%81%D0%BA%D1%83%D1%81%D1%81%D1%82%D0%B2%D0%B5%D0%BD%D0%BD%D0%BE%D0%B3%D0%BE%20%D0%B8%D0%BD%D1%82%D0%B5%D0%BB%D0%BB%D0%B5%D0%BA%D1%82%D0%B0.pdf',\n",
       "       'Content too short or empty for https://versia.ru/iskusstvennyj-intellekt-menyaet-xod-voennyx-konfliktov',\n",
       "       'Content too short or empty for https://lenta.ru/articles/2025/01/08/zinovieva/',\n",
       "       'Content too short or empty for https://army.ric.mil.ru/Stati/item/372265/',\n",
       "       'Content too short or empty for https://elibrary.ru/item.asp?id=36786717',\n",
       "       'Content too short or empty for https://rus-sociologia.slovaronline.com/747-%D0%93%D0%A0%D0%A3%D0%9F%D0%9F%D0%9E%D0%92%D0%90%D0%AF%20%D0%94%D0%98%D0%9D%D0%90%D0%9C%D0%98%D0%9A%D0%90',\n",
       "       'Content too short or empty for https://bspu.by/blog/goncharova/article/lection/20-10-2020-lekciya-osnovy-gruppovoj-dinamiki/download?path=./uploads/goncharova/lection/lekciya-osnovy-gruppovoj-dinamiki/%D0%BE%D1%81%D0%BD%D0%BE%D0%B2%D1%8B%20%D0%B3%D1%80%D1%83%D0%BF%D0%BF%D0%BE%D0%B2%D0%BE%D0%B9%20%D0%B4%D0%B8%D0%BD%D0%B0%D0%BC%D0%B8%D0%BA%D0%B8.doc',\n",
       "       'Content too short or empty for https://doi.org/10.38098/ergo.2020.011',\n",
       "       'Content too short or empty for https://elib.bsu.by/bitstream/123456789/206613/1/%D0%9E%D1%81%D0%BD%D0%BE%D0%B2%D1%8B%20%D0%B3%D1%80%D1%83%D0%BF%D0%BF%D0%BE%D0%B2%D0%BE%D0%B9%20%D0%BF%D1%81%D0%B8%D1%85%D0%BE%D1%82%D0%B5%D1%80%D0%B0%D0%BF%D0%B8%D0%B8.pdf',\n",
       "       'Content too short or empty for http://www.psu.ru/files/docs/science/books/uchebnie-posobiya/krasnov-socialnaya-psixologiya-psixologiya-malyx-grupp.pdf',\n",
       "       'Content too short or empty for https://media.nosu.ru/2018/05/ilchenko-v.v.-prakticheskie-zanjatija-po-psihologii-grupp-i-mezhgruppovyh-otnoshenij.-2020-1.pdf',\n",
       "       'Content too short or empty for https://unecon.ru/wp-content/uploads/2023/11/cdt-2023-sbornik.pdf',\n",
       "       'Content too short or empty for https://trueconf.ru/blog/reviews/effektivnoe-vzaimodeystvie-v-komande',\n",
       "       'Content too short or empty for https://www.kubsu.ru/sites/default/files/users/19058/portfolio/kursovaya.docx',\n",
       "       'Content too short or empty for http://www.nauteh-journal.ru/files/60fc4679-c551-4152-8307-307e52c8feba',\n",
       "       'Content too short or empty for https://pureportal.spbu.ru/files/128180757/_180.pdf',\n",
       "       'Content too short or empty for https://elibrary.ru/item.asp?id=44267875',\n",
       "       'Content too short or empty for http://www.nauteh-journal.ru/files/26aa0dba-9091-4183-80ae-8cef0074a12f',\n",
       "       'Content too short or empty for https://www.calltouch.ru/blog/idei-i-sposoby-splocheniya-komandy-sotrudnikov-v-kompanii/',\n",
       "       'Content too short or empty for https://64.rosstat.gov.ru/storage/mediabank/%D0%95%D1%84%D0%B8%D0%BC%D0%BE%D0%B2%D0%B0%20%D0%9A.%D0%9C..pdf',\n",
       "       'Content too short or empty for https://piu.ranepa.ru/news/ekspert-piu-rankhigs-o-roste-potrebitelskogo-kreditovaniya/',\n",
       "       'Content too short or empty for https://frankrg.com/wp-content/uploads/2023/11/ba6def045dee.pdf',\n",
       "       'Content too short or empty for https://alfabank.ru/alfa-investor/t/bankovskiy-sektor-prognozy-i-luchshie-aktsii/',\n",
       "       'Content too short or empty for https://www.acra-ratings.ru/research/2803/?lang=ru',\n",
       "       'Content too short or empty for https://naukaru08.ru/ru/nauka/article/36725/view',\n",
       "       'Content too short or empty for https://frankmedia.ru/201783',\n",
       "       'Content too short or empty for https://frankmedia.ru/201752',\n",
       "       'Content too short or empty for https://goszakaz.tv/news/details/9553-rossiya-zakreditovana-finansovaya-kabala',\n",
       "       'Content too short or empty for https://www.acra-ratings.ru/company/news/1000142/',\n",
       "       'Content too short or empty for https://frankmedia.ru/200372',\n",
       "       'Content too short or empty for https://secrets.tbank.ru/blogi-kompanij/ob-agentic-ai/',\n",
       "       'Content too short or empty for https://theaiinsider.tech/2025/05/19/whats-the-difference-between-ai-agents-and-agentic-ai-new-study-separates-signal-from-noise-in-the-ai-agent-boom/',\n",
       "       'Content too short or empty for https://secrets.tbank.ru/ob-agentic-ai/',\n",
       "       'Content too short or empty for https://www.reddit.com/r/AI_Agents/comments/1hqzzrg/if_youre_unsure_what_agentic_ai_is_and_whats_the/?tl=ru',\n",
       "       'Content too short or empty for https://ict.moscow/news/ai-agents-2025/',\n",
       "       'Content too short or empty for https://ict.moscow/analytics/agentic-ai-the-new-frontier-in-genai/',\n",
       "       'Content too short or empty for https://blogs.epsilonmetrics.ru/ii-agenty-i-multiagentnye-sistemy/',\n",
       "       'Content too short or empty for https://scantour.ru/tury-v-kareliyu-iz-moskvy',\n",
       "       'Content too short or empty for https://tvil.ru/city/respublika-kareliya/v-iule/',\n",
       "       'Content too short or empty for https://scantour.ru/turi_v_kareliu_3_day',\n",
       "       'Content too short or empty for https://www.kp.ru/russia/kareliya/',\n",
       "       'Content too short or empty for https://www.rzd.ru/ru/10419/page/103290?id=18967',\n",
       "       'Content too short or empty for https://www.tripadvisor.ru/Attractions-g298504-Activities-Republic_of_Karelia_Northwestern_District.html',\n",
       "       'Content too short or empty for https://petrozavodsk.sutochno.ru/region/hotels/meal',\n",
       "       'Content too short or empty for https://tvil.ru/city/respublika-kareliya/hotels/v-iune/',\n",
       "       'Content too short or empty for https://www.tripadvisor.ru/Restaurants-g298504-zfp10601-Republic_of_Karelia_Northwestern_District.html',\n",
       "       'Content too short or empty for https://www.kp.ru/russia/kareliya/luchshie-oteli-karelii/',\n",
       "       'Content too short or empty for https://tvil.ru/city/respublika-kareliya/hotels/guest-houses/shared-kitchen/',\n",
       "       'Content too short or empty for https://tvil.ru/city/respublika-kareliya/hotels/guest-houses/v-iune/',\n",
       "       'Content too short or empty for https://www.coral.ru/concepts/ekskursionnie-turi/ekskursionnie-turi-po-rossii/kareliya/',\n",
       "       'Content too short or empty for https://www.tripadvisor.ru/Hotels-g4355153-Ruskeala_Republic_of_Karelia_Northwestern_District-Hotels.html',\n",
       "       'Content too short or empty for https://www.tripadvisor.ru/Hotels-g298504-Republic_of_Karelia_Northwestern_District-Hotels.html',\n",
       "       'Content too short or empty for https://edem-v-gosti.ru/rus/oteli-karelii-s-pitaniem/',\n",
       "       'Content too short or empty for https://888travel.ru/tours/tury-v-kareliu',\n",
       "       'Content too short or empty for https://axoftglobal.ru/news',\n",
       "       'Content too short or empty for https://old.tyuiu.ru/wp-content/uploads/2014/09/Vedomosti-prikladnoj-etiki-Vypusk-58.pdf',\n",
       "       'Content too short or empty for https://rscf.ru/project/24-28-00225/',\n",
       "       'Content too short or empty for https://www.tadviser.ru/index.php/%D0%A1%D1%82%D0%B0%D1%82%D1%8C%D1%8F:%D0%9D%D0%B0%D1%86%D0%B8%D0%BE%D0%BD%D0%B0%D0%BB%D1%8C%D0%BD%D0%B0%D1%8F_%D1%81%D1%82%D1%80%D0%B0%D1%82%D0%B5%D0%B3%D0%B8%D1%8F_%D1%80%D0%B0%D0%B7%D0%B2%D0%B8%D1%82%D0%B8%D1%8F_%D0%B8%D1%81%D0%BA%D1%83%D1%81%D1%81%D1%82%D0%B2%D0%B5%D0%BD%D0%BD%D0%BE%D0%B3%D0%BE_%D0%B8%D0%BD%D1%82%D0%B5%D0%BB%D0%BB%D0%B5%D0%BA%D1%82%D0%B0',\n",
       "       'Content too short or empty for https://www.profagro.ru/files/social/%D0%A1%D0%A2%D0%95%D0%9D%D0%9E%D0%93%D0%A0%D0%90%D0%9C%D0%9C%D0%90.%20%D0%9A%D0%A1%20%D0%A6%D0%B8%D1%84%D1%80%D0%BE%D0%B2%D0%B0%D1%8F%20%D0%B1%D0%B5%D0%B7%D1%80%D0%B0%D0%B1%D0%BE%D1%82%D0%B8%D1%86%D0%B0.%20%D0%A0%D0%B5%D0%B0%D0%BB%D1%8C%D0%BD%D0%B0%D1%8F%20%D0%BB%D0%B8%20%D1%83%D0%B3%D1%80%D0%BE%D0%B7%D0%B0.docx',\n",
       "       'Content too short or empty for http://xn--80ai6adde.xn--p1ai/sarpds_file/pdf/journal/2016/10-SPDS_2016-103-123-Preobrajenskiy-Lytus.pdf',\n",
       "       'Content too short or empty for https://issek.hse.ru/mirror/pubs/share/603838492.pdf',\n",
       "       'Content too short or empty for https://telecomdaily.ru/news/2025/06/16/eksperty-do-poyavleniya-super-ii-ostalos-5-7-let',\n",
       "       'Content too short or empty for https://digital.alregn.ru/news/1546/',\n",
       "       'Content too short or empty for https://www.gosuslugi.ru/help/faq/add_support/102193',\n",
       "       'Content too short or empty for https://www.rosbalt.ru/news/2025-05-20/mashinnyy-mozg-i-neyroseti-boyatsya-ili-brat-na-sluzhbu-5393829',\n",
       "       'Content too short or empty for https://ac.gov.ru/news/page/cifrovizacia-stala-osnovoj-dla-novogo-obsestvennogo-dogovora-27073',\n",
       "       'Content too short or empty for https://tusp24.msp.midural.ru/deyatelnost30/mery-socpodderzhki30/socialnyy-kontrakt3d.html',\n",
       "       'Content too short or empty for http://static.government.ru/media/files/Ea43xkFzAP6MA9HEtce9gpYrN6ePA8am.pdf',\n",
       "       'Content too short or empty for https://journals.volgatech.net/em/article/download/953/804/',\n",
       "       'Content too short or empty for https://hrtime.ru/material/situatsiia-na-rynke-truda-v-rossii-prognozy-na-2025-god-128621/',\n",
       "       'Content too short or empty for https://roscongress.org/materials/rol-pravovoy-doktriny-v-epokhu-bolshikh-vyzovov/',\n",
       "       'Content too short or empty for https://elib.sfu-kras.ru/handle/2311/153251',\n",
       "       'Content too short or empty for http://esc.vscc.ac.ru/article/380/full',\n",
       "       'Content too short or empty for https://www.ispring.ru/elearning-insights/tendencii-rynka-truda-2025',\n",
       "       'Content too short or empty for http://bit.samag.ru/uart/more/97',\n",
       "       'Content too short or empty for https://secrets.tbank.ru/laws/novosti-biznesa-iyun-2025/',\n",
       "       'Content too short or empty for https://iis.guu.ru/blog/riski-ispolzovaniya-iskustvennogo-intelekta/',\n",
       "       'Content too short or empty for https://4brain.ru/aibasics/consequences.php',\n",
       "       'Content too short or empty for https://www.kontur-extern.ru/info/56548-izmeneniya_zakonodatelstva__iyun_2025',\n",
       "       'Content too short or empty for https://moodle.kstu.ru/mod/resource/view.php?id=35138',\n",
       "       'Content too short or empty for https://edu.gov.ru/press/9890/sergey-kravcov-ispolzovanie-informacionnyh-tehnologiy-uchenikami-i-doshkolnikami-nuzhno-dozirovat/',\n",
       "       'Content too short or empty for https://hr-elearning.ru/perspektivy-rynka-truda-v-2025-godu-globalnye-vyzovy/',\n",
       "       'Content too short or empty for http://government.ru/news/55358/',\n",
       "       'Content too short or empty for http://kdobru.ru/netcat_files/171/143/innovatcii_v_sotcialnoi_rabote.pdf',\n",
       "       'Content too short or empty for https://journals.vsu.ru/econ/article/download/10599/10145',\n",
       "       'Content too short or empty for https://roscongress.org/news/iskusstvennyj-intellekt-kak-drajver-ekonomicheskogo-rosta-kljuchevye-diskussii-na-poljah-pmef-2025/',\n",
       "       'Content too short or empty for https://forumspb.com/news/news/zaschita-biznesa-balans-mezhdu-razvitiem-ekonomiki-i-obespecheniem-pravoporjadka/',\n",
       "       'Content too short or empty for https://future-forum.tech/forum/',\n",
       "       'Content too short or empty for https://fea.ru/news/8947',\n",
       "       'Content too short or empty for https://www.securityvision.ru/news/security-vision-zolotoy-sponsor-positive-hack-days-fest-2025/',\n",
       "       'Content too short or empty for https://rugpt.net/etika-i-bezopasnost-v-epohu-dostupnogo-ii-vyzovy-i-resheniya.html',\n",
       "       'Content too short or empty for https://allo.tochka.com/social-contract',\n",
       "       'Content too short or empty for https://ir.alfastrah.ru/posts/390',\n",
       "       'Content too short or empty for https://www.acjournal.ru/jour/article/download/943/926'],\n",
       "      dtype=object)"
      ]
     },
     "execution_count": 23,
     "metadata": {},
     "output_type": "execute_result"
    }
   ],
   "source": [
    "warnings_df.loc[((warnings_df['file_path'] == 'gpt_researcher.scraper.scraper') & (warnings_df['line_number'] == '117'))]['data'].unique()"
   ]
  },
  {
   "cell_type": "markdown",
   "id": "c906884b-5485-451c-bfe6-28cfa371914d",
   "metadata": {},
   "source": [
    "### langchain_gigachat.chat_models.gigachat 518"
   ]
  },
  {
   "cell_type": "code",
   "execution_count": 24,
   "id": "3b26d076-843a-4b89-af9d-2103096d073e",
   "metadata": {},
   "outputs": [
    {
     "data": {
      "text/plain": [
       "array(['Giga generation stopped with reason: length'], dtype=object)"
      ]
     },
     "execution_count": 24,
     "metadata": {},
     "output_type": "execute_result"
    }
   ],
   "source": [
    "warnings_df.loc[((warnings_df['file_path'] == 'langchain_gigachat.chat_models.gigachat') & (warnings_df['line_number'] == '518'))]['data'].unique()"
   ]
  }
 ],
 "metadata": {
  "kernelspec": {
   "display_name": "evals-researcher",
   "language": "python",
   "name": "evals-researcher"
  },
  "language_info": {
   "codemirror_mode": {
    "name": "ipython",
    "version": 3
   },
   "file_extension": ".py",
   "mimetype": "text/x-python",
   "name": "python",
   "nbconvert_exporter": "python",
   "pygments_lexer": "ipython3",
   "version": "3.12.9"
  }
 },
 "nbformat": 4,
 "nbformat_minor": 5
}
