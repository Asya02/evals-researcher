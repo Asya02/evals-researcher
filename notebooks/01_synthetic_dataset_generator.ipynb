{
 "cells": [
  {
   "cell_type": "code",
   "execution_count": 1,
   "id": "29a5dd4f-7bd5-490b-a7be-f994da466271",
   "metadata": {},
   "outputs": [
    {
     "data": {
      "text/plain": [
       "True"
      ]
     },
     "execution_count": 1,
     "metadata": {},
     "output_type": "execute_result"
    }
   ],
   "source": [
    "from dotenv import load_dotenv, find_dotenv\n",
    "\n",
    "load_dotenv(find_dotenv())"
   ]
  },
  {
   "cell_type": "code",
   "execution_count": 2,
   "id": "04070b25-1791-41e2-8db2-cf82dec3d7de",
   "metadata": {},
   "outputs": [],
   "source": [
    "from langchain_gigachat.chat_models import GigaChat"
   ]
  },
  {
   "cell_type": "code",
   "execution_count": 3,
   "id": "d7b05621-d259-49a5-a134-449adb7c4bf3",
   "metadata": {
    "scrolled": true
   },
   "outputs": [
    {
     "data": {
      "text/plain": [
       "AIMessage(content='Привет!', additional_kwargs={}, response_metadata={'token_usage': {'prompt_tokens': 1, 'completion_tokens': 5, 'total_tokens': 6, 'precached_prompt_tokens': 3816}, 'model_name': 'GigaChat-2-Max:2.0.29.04', 'x_headers': {'x-request-id': '3dfb0b8b-2970-4a98-b27b-a31b59a1f6c8', 'x-session-id': 'ee380827-cc08-4c29-9316-7661272562b4', 'x-client-id': None}, 'finish_reason': 'stop'}, id='3dfb0b8b-2970-4a98-b27b-a31b59a1f6c8', usage_metadata={'output_tokens': 5, 'input_tokens': 1, 'total_tokens': 6, 'input_token_details': {'cache_read': 3816}})"
      ]
     },
     "execution_count": 3,
     "metadata": {},
     "output_type": "execute_result"
    }
   ],
   "source": [
    "llm = GigaChat(\n",
    "    model=\"GigaChat-2-Max\",\n",
    "    verify_ssl_certs=False,\n",
    "    profanity_check=False\n",
    ")\n",
    "\n",
    "llm.invoke(\"hello\")"
   ]
  },
  {
   "cell_type": "code",
   "execution_count": 4,
   "id": "114c1b4d-18b2-4c82-97b6-f9b2e7e214b4",
   "metadata": {
    "scrolled": true
   },
   "outputs": [],
   "source": [
    "from pydantic import BaseModel, Field\n",
    "\n",
    "\n",
    "class Question(BaseModel):\n",
    "    \"\"\"Информация о запросе\"\"\"\n",
    "\n",
    "    question: str = Field(..., description=\"запрос, который ты создал на основе описания\")\n",
    "\n",
    "\n",
    "class Queries(BaseModel):\n",
    "    \"\"\"Информация о всех запросах, которые ты придумал для данного пользователя по данной теме\"\"\"\n",
    "\n",
    "    queries: list[Question]"
   ]
  },
  {
   "cell_type": "code",
   "execution_count": 5,
   "id": "d74bb865-2896-46da-82b2-2c26599b64a0",
   "metadata": {},
   "outputs": [],
   "source": [
    "from langchain_core.prompts import ChatPromptTemplate\n",
    "\n",
    "template = \"\"\"Ты — эксперт по созданию реалистичных пользовательских запросов для тестирования ИИ-ассистентов.\n",
    "Твоя задача — сгенерировать 3 варианта различных запросов для подачи их в агента, занимающегося ресёрчем, соответствующих следующим параметрам:\n",
    "\n",
    "1. **Профиль пользователя**: {persona} \n",
    "2. **Тема**: {topic}\n",
    "3. **Тип запроса**: {scenario}\n",
    "\n",
    "**Инструкции**:\n",
    "- Учитывай особенности профиля\n",
    "- Адаптируй сложность и тон запроса под тематику.  \n",
    "- Следуй указанному типу запроса\n",
    "- Избегай общих фраз — делай запросы конкретными.\"\"\"\n",
    "\n",
    "prompt = ChatPromptTemplate.from_template(template)"
   ]
  },
  {
   "cell_type": "code",
   "execution_count": 6,
   "id": "95c39968-3598-4ab1-bde2-eb2d00a97119",
   "metadata": {},
   "outputs": [],
   "source": [
    "structured_llm = llm.with_structured_output(Queries)"
   ]
  },
  {
   "cell_type": "code",
   "execution_count": 7,
   "id": "c692e389-b0da-4ac1-b59c-96ad43d5ee4b",
   "metadata": {},
   "outputs": [],
   "source": [
    "chain = prompt | structured_llm "
   ]
  },
  {
   "cell_type": "code",
   "execution_count": 10,
   "id": "33cd34ad-9c2b-4050-99c3-c2636e6ef0f2",
   "metadata": {
    "scrolled": true
   },
   "outputs": [
    {
     "data": {
      "text/html": [
       "<pre style=\"white-space:pre;overflow-x:auto;line-height:normal;font-family:Menlo,'DejaVu Sans Mono',consolas,'Courier New',monospace\"><span style=\"color: #008000; text-decoration-color: #008000; font-weight: bold\">Начата генерация </span><span style=\"color: #008000; text-decoration-color: #008000; font-weight: bold\">80</span><span style=\"color: #008000; text-decoration-color: #008000; font-weight: bold\"> комбинаций...</span>\n",
       "</pre>\n"
      ],
      "text/plain": [
       "\u001b[1;32mНачата генерация \u001b[0m\u001b[1;32m80\u001b[0m\u001b[1;32m комбинаций\u001b[0m\u001b[1;32m...\u001b[0m\n"
      ]
     },
     "metadata": {},
     "output_type": "display_data"
    },
    {
     "data": {
      "application/vnd.jupyter.widget-view+json": {
       "model_id": "7ff3beb08c9a4a5b86b3cd5530b15d70",
       "version_major": 2,
       "version_minor": 0
      },
      "text/plain": [
       "Output()"
      ]
     },
     "metadata": {},
     "output_type": "display_data"
    },
    {
     "data": {
      "text/html": [
       "<pre style=\"white-space:pre;overflow-x:auto;line-height:normal;font-family:Menlo,'DejaVu Sans Mono',consolas,'Courier New',monospace\"></pre>\n"
      ],
      "text/plain": []
     },
     "metadata": {},
     "output_type": "display_data"
    },
    {
     "data": {
      "text/html": [
       "<pre style=\"white-space:pre;overflow-x:auto;line-height:normal;font-family:Menlo,'DejaVu Sans Mono',consolas,'Courier New',monospace\"><span style=\"color: #008000; text-decoration-color: #008000; font-weight: bold\">Готово! Сгенерировано </span><span style=\"color: #008080; text-decoration-color: #008080; font-weight: bold\">240</span><span style=\"color: #008000; text-decoration-color: #008000; font-weight: bold\"> запросов.</span>\n",
       "</pre>\n"
      ],
      "text/plain": [
       "\u001b[1;32mГотово! Сгенерировано \u001b[0m\u001b[1;36m240\u001b[0m\u001b[1;32m запросов.\u001b[0m\n"
      ]
     },
     "metadata": {},
     "output_type": "display_data"
    }
   ],
   "source": [
    "import json\n",
    "import time\n",
    "from datetime import datetime\n",
    "from itertools import product\n",
    "from tenacity import retry, stop_after_attempt, wait_exponential\n",
    "from gigachat import GigaChat\n",
    "from rich.progress import track\n",
    "from rich import print\n",
    "\n",
    "\n",
    "personas = [\"Занятый специалист. Он явно торопится, используя сокращенный язык и минимум подробностей.\",\n",
    "            \"Начинающий. Он студент или новичок в теме, нуждается в объяснении «на пальцах».\",\n",
    "            \"Критик. Он любит заковыристые вопросы, придирается ко всему.\", \n",
    "            \"Любопытный. Он любит абстрактные или гипотетические вопросы.\"]\n",
    "topics = [\"LLM\", \n",
    "          \"Кибербезопасность\", \n",
    "          \"Экономика\", \n",
    "          \"Социология\"]\n",
    "scenarios = [\"Чёткий узконаправленный запрос\",\n",
    "             \"Неоднозначный вопрос\",\n",
    "             \"Многослойный вопрос\",\n",
    "             \"Запрос с ошибкой\",\n",
    "             \"Запрос на сравнение\"]\n",
    "\n",
    "\n",
    "@retry(stop=stop_after_attempt(3), wait=wait_exponential(multiplier=1))\n",
    "def generate_queries(persona, topic, scenario):\n",
    "    try:\n",
    "        queries = chain.invoke({\"persona\": persona, \"topic\": topic, \"scenario\": scenario})\n",
    "        result = [queries.queries[i].question for i in range(len(queries.queries))]\n",
    "        return {\"queries\": result}\n",
    "    except Exception as e:\n",
    "        print(f\"[red]Ошибка парсинга для: {persona}, {topic}, {scenario}[/red]\")\n",
    "        print(e)\n",
    "        return {\"queries\": []}\n",
    "\n",
    "dataset = []\n",
    "combinations = list(product(personas, topics, scenarios))\n",
    "\n",
    "print(f\"[bold green]Начата генерация {len(combinations)} комбинаций...[/bold green]\")\n",
    "\n",
    "for persona, topic, scenario in track(combinations, description=\"Генерация запросов...\"):\n",
    "    result = generate_queries(persona, topic, scenario)\n",
    "    \n",
    "    for query in result['queries']:\n",
    "        dataset.append({\n",
    "            \"persona\": persona,\n",
    "            \"topic\": topic,\n",
    "            \"scenario\": scenario,\n",
    "            \"query\": query,\n",
    "            \"meta\": {\n",
    "                \"generation_time\": datetime.now().isoformat(),\n",
    "            }\n",
    "        })\n",
    "    \n",
    "    time.sleep(1) \n",
    "\n",
    "with open('dataset.json', 'w', encoding='utf-8') as f:\n",
    "    json.dump(dataset, f, ensure_ascii=False, indent=2)\n",
    "\n",
    "print(f\"[bold green]Готово! Сгенерировано [cyan]{len(dataset)}[/cyan] запросов.[/bold green]\")"
   ]
  },
  {
   "cell_type": "code",
   "execution_count": null,
   "id": "53e03d15-dba5-4e6b-bf69-8d342fcc251d",
   "metadata": {},
   "outputs": [],
   "source": []
  }
 ],
 "metadata": {
  "kernelspec": {
   "display_name": "evals-researcher",
   "language": "python",
   "name": "evals-researcher"
  },
  "language_info": {
   "codemirror_mode": {
    "name": "ipython",
    "version": 3
   },
   "file_extension": ".py",
   "mimetype": "text/x-python",
   "name": "python",
   "nbconvert_exporter": "python",
   "pygments_lexer": "ipython3",
   "version": "3.12.9"
  }
 },
 "nbformat": 4,
 "nbformat_minor": 5
}
