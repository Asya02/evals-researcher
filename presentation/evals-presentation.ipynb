{
 "cells": [
  {
   "cell_type": "markdown",
   "id": "eb9ec873-6770-436e-a1de-430fb05925f3",
   "metadata": {},
   "source": [
    "---\n",
    "title: \"Evaluation\"\n",
    "author: \"\"\n",
    "format: revealjs\n",
    "---\n",
    "\n",
    "[Preview](https://example.com){preview-link=\"true\"}\n",
    "\n",
    "::: {.notes}\n",
    "Speaker notes go here.\n",
    ":::\n",
    "---\n",
    "\n",
    "```{.python code-line-numbers=\"|7,8|15|16|17\"}\n",
    "import logging\n",
    "import os\n",
    "import sys\n",
    "from logging.handlers import RotatingFileHandler\n",
    "from pathlib import Path\n",
    "\n",
    "LOG_FILE = \"logs/researcher-log.log\"\n",
    "LOG_FORMAT = \"[%(asctime)s] [%(name)s:%(lineno)d] [%(levelname)s] %(message)s\"\n",
    "\n",
    "\n",
    "def setup_logging():\n",
    "    logs_dir = Path(\"logs\")\n",
    "    logs_dir.mkdir(exist_ok=True)\n",
    "\n",
    "    root_logger = logging.getLogger()\n",
    "    root_logger.setLevel(logging.INFO)\n",
    "    formatter = logging.Formatter(LOG_FORMAT)\n",
    "\n",
    "    # --- Fix Windows console encoding issues ---\n",
    "    if os.name == \"nt\":  # Windows only\n",
    "        try:\n",
    "            sys.stdout.reconfigure(encoding=\"utf-8\")\n",
    "        except AttributeError:\n",
    "            import io\n",
    "\n",
    "            sys.stdout = io.TextIOWrapper(sys.stdout.buffer, encoding=\"utf-8\")\n",
    "\n",
    "    # Console handler\n",
    "    console_handler = logging.StreamHandler(sys.stdout)\n",
    "    console_handler.setFormatter(formatter)\n",
    "\n",
    "    # File handler with UTF-8 encoding\n",
    "    file_handler = RotatingFileHandler(LOG_FILE, encoding=\"utf-8\")\n",
    "    file_handler.setFormatter(formatter)\n",
    "\n",
    "    if root_logger.hasHandlers():\n",
    "        root_logger.handlers.clear()\n",
    "\n",
    "    root_logger.addHandler(console_handler)\n",
    "    root_logger.addHandler(file_handler)\n",
    "```\n",
    "---"
   ]
  }
 ],
 "metadata": {
  "kernelspec": {
   "display_name": "evals-researcher",
   "language": "python",
   "name": "evals-researcher"
  },
  "language_info": {
   "codemirror_mode": {
    "name": "ipython",
    "version": 3
   },
   "file_extension": ".py",
   "mimetype": "text/x-python",
   "name": "python",
   "nbconvert_exporter": "python",
   "pygments_lexer": "ipython3",
   "version": "3.12.9"
  }
 },
 "nbformat": 4,
 "nbformat_minor": 5
}
